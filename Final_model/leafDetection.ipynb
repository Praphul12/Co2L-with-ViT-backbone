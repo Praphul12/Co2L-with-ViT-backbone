{
 "cells": [
  {
   "cell_type": "code",
   "execution_count": 2,
   "metadata": {},
   "outputs": [],
   "source": [
    "from ultralytics import YOLO"
   ]
  },
  {
   "cell_type": "code",
   "execution_count": 6,
   "metadata": {},
   "outputs": [],
   "source": [
    "model = YOLO(r\"C:\\Users\\praph\\runs\\detect\\train27\\weights\\best.pt\")"
   ]
  },
  {
   "cell_type": "code",
   "execution_count": 7,
   "metadata": {},
   "outputs": [
    {
     "name": "stdout",
     "output_type": "stream",
     "text": [
      "\n",
      "image 1/1 C:\\CVPR 24\\Codes\\Leaf Detection\\data\\valid\\images\\plant130_rgb.png: 640x608 8 Leafs, 114.9ms\n",
      "Speed: 15.9ms preprocess, 114.9ms inference, 0.0ms postprocess per image at shape (1, 3, 640, 608)\n",
      "Results saved to \u001b[1mC:\\Users\\praph\\runs\\detect\\predict9\u001b[0m\n"
     ]
    },
    {
     "data": {
      "text/plain": [
       "[ultralytics.engine.results.Results object with attributes:\n",
       " \n",
       " boxes: ultralytics.engine.results.Boxes object\n",
       " keypoints: None\n",
       " masks: None\n",
       " names: {0: 'Leaf'}\n",
       " obb: None\n",
       " orig_img: array([[[ 87, 141, 255],\n",
       "         [ 69, 131, 255],\n",
       "         [ 76, 139, 255],\n",
       "         ...,\n",
       "         [ 95, 131, 255],\n",
       "         [ 88, 128, 255],\n",
       "         [ 81, 129, 255]],\n",
       " \n",
       "        [[ 94, 153, 255],\n",
       "         [ 78, 142, 255],\n",
       "         [ 73, 142, 255],\n",
       "         ...,\n",
       "         [105, 140, 255],\n",
       "         [ 93, 139, 255],\n",
       "         [ 80, 138, 255]],\n",
       " \n",
       "        [[ 93, 152, 255],\n",
       "         [ 92, 151, 255],\n",
       "         [ 75, 151, 255],\n",
       "         ...,\n",
       "         [103, 141, 255],\n",
       "         [106, 147, 255],\n",
       "         [ 82, 142, 255]],\n",
       " \n",
       "        ...,\n",
       " \n",
       "        [[ 82, 120, 235],\n",
       "         [ 92, 124, 238],\n",
       "         [ 96, 125, 239],\n",
       "         ...,\n",
       "         [ 81, 120, 225],\n",
       "         [ 87, 125, 223],\n",
       "         [ 86, 123, 224]],\n",
       " \n",
       "        [[101, 129, 243],\n",
       "         [103, 130, 240],\n",
       "         [ 92, 125, 233],\n",
       "         ...,\n",
       "         [ 81, 117, 222],\n",
       "         [ 72, 117, 217],\n",
       "         [ 67, 116, 220]],\n",
       " \n",
       "        [[ 90, 118, 233],\n",
       "         [ 94, 121, 234],\n",
       "         [ 88, 122, 234],\n",
       "         ...,\n",
       "         [ 93, 116, 225],\n",
       "         [ 77, 116, 220],\n",
       "         [ 61, 118, 221]]], dtype=uint8)\n",
       " orig_shape: (530, 500)\n",
       " path: 'C:\\\\CVPR 24\\\\Codes\\\\Leaf Detection\\\\data\\\\valid\\\\images\\\\plant130_rgb.png'\n",
       " probs: None\n",
       " save_dir: 'C:\\\\Users\\\\praph\\\\runs\\\\detect\\\\predict9'\n",
       " speed: {'preprocess': 15.876293182373047, 'inference': 114.92371559143066, 'postprocess': 0.0}]"
      ]
     },
     "execution_count": 7,
     "metadata": {},
     "output_type": "execute_result"
    }
   ],
   "source": [
    "model.predict(r\"C:\\CVPR 24\\Codes\\Leaf Detection\\data\\valid\\images\\plant130_rgb.png\", save=True,  conf=0.5)"
   ]
  },
  {
   "cell_type": "code",
   "execution_count": 27,
   "metadata": {},
   "outputs": [
    {
     "name": "stdout",
     "output_type": "stream",
     "text": [
      "Ultralytics YOLOv8.2.12  Python-3.12.3 torch-2.3.0+cpu CPU (AMD Ryzen 5 7535U with Radeon Graphics)\n",
      "YOLOv8n summary (fused): 168 layers, 3005843 parameters, 0 gradients, 8.1 GFLOPs\n"
     ]
    },
    {
     "name": "stderr",
     "output_type": "stream",
     "text": [
      "\u001b[34m\u001b[1mval: \u001b[0mScanning C:\\CVPR 24\\Codes\\Leaf Detection\\data\\valid\\labels.cache... 27 images, 0 backgrounds, 0 corrupt: 100%|██████████| 27/27 [00:00<?, ?it/s]\n",
      "                 Class     Images  Instances      Box(P          R      mAP50  mAP50-95): 100%|██████████| 2/2 [00:02<00:00,  1.35s/it]\n"
     ]
    },
    {
     "name": "stdout",
     "output_type": "stream",
     "text": [
      "                   all         27        334      0.868      0.877      0.933      0.431\n",
      "Speed: 1.7ms preprocess, 79.1ms inference, 0.0ms loss, 1.1ms postprocess per image\n",
      "Results saved to \u001b[1mC:\\Users\\praph\\runs\\detect\\train272\u001b[0m\n"
     ]
    }
   ],
   "source": [
    "metrics = model.val() "
   ]
  },
  {
   "cell_type": "code",
   "execution_count": 31,
   "metadata": {},
   "outputs": [
    {
     "name": "stdout",
     "output_type": "stream",
     "text": [
      "\n",
      "image 1/1 C:\\CVPR 24\\Codes\\Leaf Detection\\data\\train\\images\\plant094_rgb.png: 640x608 11 Leafs, 109.1ms\n",
      "Speed: 0.0ms preprocess, 109.1ms inference, 0.0ms postprocess per image at shape (1, 3, 640, 608)\n",
      "Results saved to \u001b[1mC:\\Users\\praph\\runs\\detect\\predict7\u001b[0m\n"
     ]
    },
    {
     "data": {
      "text/plain": [
       "[ultralytics.engine.results.Results object with attributes:\n",
       " \n",
       " boxes: ultralytics.engine.results.Boxes object\n",
       " keypoints: None\n",
       " masks: None\n",
       " names: {0: 'Leaf'}\n",
       " obb: None\n",
       " orig_img: array([[[ 95, 139, 255],\n",
       "         [ 90, 146, 255],\n",
       "         [ 95, 148, 255],\n",
       "         ...,\n",
       "         [ 71, 137, 253],\n",
       "         [ 77, 137, 253],\n",
       "         [ 78, 134, 254]],\n",
       " \n",
       "        [[ 97, 138, 255],\n",
       "         [ 80, 132, 255],\n",
       "         [ 86, 136, 255],\n",
       "         ...,\n",
       "         [ 83, 135, 247],\n",
       "         [ 80, 136, 246],\n",
       "         [ 73, 136, 253]],\n",
       " \n",
       "        [[ 95, 135, 255],\n",
       "         [ 90, 133, 255],\n",
       "         [ 87, 133, 255],\n",
       "         ...,\n",
       "         [ 81, 132, 253],\n",
       "         [ 75, 133, 253],\n",
       "         [ 68, 133, 254]],\n",
       " \n",
       "        ...,\n",
       " \n",
       "        [[ 99, 131, 232],\n",
       "         [101, 133, 232],\n",
       "         [ 97, 134, 230],\n",
       "         ...,\n",
       "         [ 20,  76, 163],\n",
       "         [  2,  74, 167],\n",
       "         [ 27,  86, 166]],\n",
       " \n",
       "        [[ 95, 122, 228],\n",
       "         [ 99, 121, 228],\n",
       "         [ 70, 122, 233],\n",
       "         ...,\n",
       "         [ 12,  81, 164],\n",
       "         [ 20,  84, 166],\n",
       "         [  8,  80, 164]],\n",
       " \n",
       "        [[ 84, 118, 227],\n",
       "         [ 86, 128, 235],\n",
       "         [ 68, 121, 235],\n",
       "         ...,\n",
       "         [ 33,  85, 167],\n",
       "         [ 32,  85, 170],\n",
       "         [ 26,  83, 169]]], dtype=uint8)\n",
       " orig_shape: (530, 500)\n",
       " path: 'C:\\\\CVPR 24\\\\Codes\\\\Leaf Detection\\\\data\\\\train\\\\images\\\\plant094_rgb.png'\n",
       " probs: None\n",
       " save_dir: 'C:\\\\Users\\\\praph\\\\runs\\\\detect\\\\predict7'\n",
       " speed: {'preprocess': 0.0, 'inference': 109.10367965698242, 'postprocess': 0.0}]"
      ]
     },
     "execution_count": 31,
     "metadata": {},
     "output_type": "execute_result"
    }
   ],
   "source": [
    "model = YOLO(r'C:\\Users\\praph\\runs\\detect\\train27\\weights\\best.pt')\n",
    "model.predict(r\"C:\\CVPR 24\\Codes\\Leaf Detection\\data\\train\\images\\plant094_rgb.png\", save=True, conf=0.3)\n"
   ]
  },
  {
   "cell_type": "code",
   "execution_count": 4,
   "metadata": {},
   "outputs": [],
   "source": [
    "model = YOLO('best.pt')"
   ]
  },
  {
   "cell_type": "code",
   "execution_count": 13,
   "metadata": {},
   "outputs": [
    {
     "name": "stdout",
     "output_type": "stream",
     "text": [
      "\n",
      "image 1/1 C:\\CVPR 24\\Codes\\Leaf Detection\\data\\test\\Images\\plant133_rgb.png: 640x608 10 Leafs, 138.5ms\n",
      "Speed: 13.2ms preprocess, 138.5ms inference, 0.0ms postprocess per image at shape (1, 3, 640, 608)\n",
      "Results saved to \u001b[1mC:\\Users\\praph\\runs\\detect\\predict9\u001b[0m\n"
     ]
    },
    {
     "data": {
      "text/plain": [
       "[ultralytics.engine.results.Results object with attributes:\n",
       " \n",
       " boxes: ultralytics.engine.results.Boxes object\n",
       " keypoints: None\n",
       " masks: None\n",
       " names: {0: 'Leaf'}\n",
       " obb: None\n",
       " orig_img: array([[[ 22,  86, 165],\n",
       "         [  7,  76, 162],\n",
       "         [  0,  67, 163],\n",
       "         ...,\n",
       "         [ 89, 137, 232],\n",
       "         [ 72, 134, 232],\n",
       "         [ 75, 125, 230]],\n",
       " \n",
       "        [[ 10,  78, 166],\n",
       "         [ 18,  75, 168],\n",
       "         [ 28,  70, 166],\n",
       "         ...,\n",
       "         [ 73, 125, 224],\n",
       "         [ 72, 134, 231],\n",
       "         [ 70, 123, 230]],\n",
       " \n",
       "        [[ 31,  77, 170],\n",
       "         [ 34,  76, 173],\n",
       "         [ 25,  70, 167],\n",
       "         ...,\n",
       "         [ 71, 123, 221],\n",
       "         [ 76, 133, 230],\n",
       "         [ 69, 124, 231]],\n",
       " \n",
       "        ...,\n",
       " \n",
       "        [[ 77, 116, 216],\n",
       "         [ 71, 119, 213],\n",
       "         [ 54, 115, 215],\n",
       "         ...,\n",
       "         [ 93, 137, 247],\n",
       "         [ 85, 134, 244],\n",
       "         [ 78, 129, 241]],\n",
       " \n",
       "        [[ 74, 115, 209],\n",
       "         [ 70, 113, 204],\n",
       "         [ 70, 113, 206],\n",
       "         ...,\n",
       "         [ 82, 127, 238],\n",
       "         [ 85, 131, 242],\n",
       "         [ 81, 126, 242]],\n",
       " \n",
       "        [[ 44,  97, 197],\n",
       "         [ 53,  97, 195],\n",
       "         [ 62,  97, 195],\n",
       "         ...,\n",
       "         [ 69, 117, 225],\n",
       "         [ 58, 114, 222],\n",
       "         [ 64, 114, 221]]], dtype=uint8)\n",
       " orig_shape: (530, 500)\n",
       " path: 'C:\\\\CVPR 24\\\\Codes\\\\Leaf Detection\\\\data\\\\test\\\\Images\\\\plant133_rgb.png'\n",
       " probs: None\n",
       " save_dir: 'C:\\\\Users\\\\praph\\\\runs\\\\detect\\\\predict9'\n",
       " speed: {'preprocess': 13.158321380615234, 'inference': 138.458251953125, 'postprocess': 0.0}]"
      ]
     },
     "execution_count": 13,
     "metadata": {},
     "output_type": "execute_result"
    }
   ],
   "source": [
    "model.predict(r\"C:\\CVPR 24\\Codes\\Leaf Detection\\data\\test\\Images\\plant133_rgb.png\", save=True, conf=0.35)\n"
   ]
  },
  {
   "cell_type": "code",
   "execution_count": 10,
   "metadata": {},
   "outputs": [
    {
     "name": "stdout",
     "output_type": "stream",
     "text": [
      "\n",
      "image 1/1 C:\\CVPR 24\\Codes\\Leaf Detection\\data\\test\\Images\\plant133_rgb.png: 640x608 (no detections), 116.4ms\n",
      "Speed: 6.1ms preprocess, 116.4ms inference, 0.0ms postprocess per image at shape (1, 3, 640, 608)\n"
     ]
    }
   ],
   "source": [
    "import os\n",
    "from glob import glob\n",
    "\n",
    "# results = model([\"image1.jpg\", \"image2.jpg\"])  # return a list of Results objects\n",
    "\n",
    "# Path to your image directory\n",
    "image_directory = r\"C:\\CVPR 24\\Codes\\Leaf Detection\\data\\train\\images\"\n",
    "image_paths = glob(os.path.join(image_directory, \"*.png\"))\n",
    "\n",
    "\n",
    "    "
   ]
  },
  {
   "cell_type": "code",
   "execution_count": 21,
   "metadata": {},
   "outputs": [
    {
     "name": "stdout",
     "output_type": "stream",
     "text": [
      "Requirement already satisfied: LabelImg in c:\\users\\praph\\appdata\\local\\programs\\python\\python312\\lib\\site-packages (1.8.6)\n",
      "Requirement already satisfied: pyqt5 in c:\\users\\praph\\appdata\\local\\programs\\python\\python312\\lib\\site-packages (from LabelImg) (5.15.10)\n",
      "Requirement already satisfied: lxml in c:\\users\\praph\\appdata\\local\\programs\\python\\python312\\lib\\site-packages (from LabelImg) (5.2.2)\n",
      "Requirement already satisfied: PyQt5-sip<13,>=12.13 in c:\\users\\praph\\appdata\\local\\programs\\python\\python312\\lib\\site-packages (from pyqt5->LabelImg) (12.13.0)\n",
      "Requirement already satisfied: PyQt5-Qt5>=5.15.2 in c:\\users\\praph\\appdata\\local\\programs\\python\\python312\\lib\\site-packages (from pyqt5->LabelImg) (5.15.2)\n"
     ]
    },
    {
     "name": "stderr",
     "output_type": "stream",
     "text": [
      "\n",
      "[notice] A new release of pip is available: 24.1 -> 24.2\n",
      "[notice] To update, run: python.exe -m pip install --upgrade pip\n"
     ]
    }
   ],
   "source": [
    "!pip install LabelImg"
   ]
  },
  {
   "cell_type": "code",
   "execution_count": 23,
   "metadata": {},
   "outputs": [
    {
     "name": "stdout",
     "output_type": "stream",
     "text": [
      "Requirement already satisfied: lxml in c:\\users\\praph\\appdata\\local\\programs\\python\\python312\\lib\\site-packages (5.2.2)\n"
     ]
    },
    {
     "name": "stderr",
     "output_type": "stream",
     "text": [
      "\n",
      "[notice] A new release of pip is available: 24.1 -> 24.2\n",
      "[notice] To update, run: python.exe -m pip install --upgrade pip\n"
     ]
    },
    {
     "name": "stdout",
     "output_type": "stream",
     "text": [
      "Requirement already satisfied: PyQt5 in c:\\users\\praph\\appdata\\local\\programs\\python\\python312\\lib\\site-packages (5.15.10)\n",
      "Requirement already satisfied: PyQt5-sip<13,>=12.13 in c:\\users\\praph\\appdata\\local\\programs\\python\\python312\\lib\\site-packages (from PyQt5) (12.13.0)\n",
      "Requirement already satisfied: PyQt5-Qt5>=5.15.2 in c:\\users\\praph\\appdata\\local\\programs\\python\\python312\\lib\\site-packages (from PyQt5) (5.15.2)\n"
     ]
    },
    {
     "name": "stderr",
     "output_type": "stream",
     "text": [
      "\n",
      "[notice] A new release of pip is available: 24.1 -> 24.2\n",
      "[notice] To update, run: python.exe -m pip install --upgrade pip\n"
     ]
    },
    {
     "name": "stdout",
     "output_type": "stream",
     "text": [
      "Requirement already satisfied: opencv-python in c:\\users\\praph\\appdata\\local\\programs\\python\\python312\\lib\\site-packages (4.9.0.80)\n",
      "Requirement already satisfied: numpy>=1.21.2 in c:\\users\\praph\\appdata\\local\\programs\\python\\python312\\lib\\site-packages (from opencv-python) (1.26.4)\n"
     ]
    },
    {
     "name": "stderr",
     "output_type": "stream",
     "text": [
      "\n",
      "[notice] A new release of pip is available: 24.1 -> 24.2\n",
      "[notice] To update, run: python.exe -m pip install --upgrade pip\n"
     ]
    }
   ],
   "source": [
    "!pip install lxml\n",
    "!pip install PyQt5\n",
    "!pip install opencv-python\n"
   ]
  },
  {
   "cell_type": "markdown",
   "metadata": {},
   "source": [
    "### Final code for leaf detection and results"
   ]
  },
  {
   "cell_type": "code",
   "execution_count": 17,
   "metadata": {},
   "outputs": [
    {
     "name": "stdout",
     "output_type": "stream",
     "text": [
      "\n",
      "image 1/1 C:\\CVPR 24\\Codes\\Leaf Detection\\data\\test\\Images\\plant132_rgb.png: 640x608 15 Leafs, 139.2ms\n",
      "Speed: 15.3ms preprocess, 139.2ms inference, 0.0ms postprocess per image at shape (1, 3, 640, 608)\n",
      "Results saved to \u001b[1mC:\\Users\\praph\\runs\\detect\\predict9\u001b[0m\n",
      "\n",
      "image 1/1 C:\\CVPR 24\\Codes\\Leaf Detection\\data\\test\\Images\\plant133_rgb.png: 640x608 18 Leafs, 109.0ms\n",
      "Speed: 0.0ms preprocess, 109.0ms inference, 0.0ms postprocess per image at shape (1, 3, 640, 608)\n",
      "Results saved to \u001b[1mC:\\Users\\praph\\runs\\detect\\predict9\u001b[0m\n",
      "\n",
      "image 1/1 C:\\CVPR 24\\Codes\\Leaf Detection\\data\\test\\Images\\plant134_rgb.png: 640x608 16 Leafs, 109.2ms\n",
      "Speed: 5.9ms preprocess, 109.2ms inference, 0.0ms postprocess per image at shape (1, 3, 640, 608)\n",
      "Results saved to \u001b[1mC:\\Users\\praph\\runs\\detect\\predict9\u001b[0m\n",
      "\n",
      "image 1/1 C:\\CVPR 24\\Codes\\Leaf Detection\\data\\test\\Images\\plant135_rgb.png: 640x608 17 Leafs, 112.8ms\n",
      "Speed: 5.0ms preprocess, 112.8ms inference, 0.0ms postprocess per image at shape (1, 3, 640, 608)\n",
      "Results saved to \u001b[1mC:\\Users\\praph\\runs\\detect\\predict9\u001b[0m\n",
      "\n",
      "image 1/1 C:\\CVPR 24\\Codes\\Leaf Detection\\data\\test\\Images\\plant137_rgb.png: 640x608 18 Leafs, 104.9ms\n",
      "Speed: 4.7ms preprocess, 104.9ms inference, 2.9ms postprocess per image at shape (1, 3, 640, 608)\n",
      "Results saved to \u001b[1mC:\\Users\\praph\\runs\\detect\\predict9\u001b[0m\n",
      "\n",
      "image 1/1 C:\\CVPR 24\\Codes\\Leaf Detection\\data\\test\\Images\\plant138_rgb.png: 640x608 12 Leafs, 115.7ms\n",
      "Speed: 0.0ms preprocess, 115.7ms inference, 0.0ms postprocess per image at shape (1, 3, 640, 608)\n",
      "Results saved to \u001b[1mC:\\Users\\praph\\runs\\detect\\predict9\u001b[0m\n",
      "\n",
      "image 1/1 C:\\CVPR 24\\Codes\\Leaf Detection\\data\\test\\Images\\plant139_rgb.png: 640x608 18 Leafs, 104.5ms\n",
      "Speed: 16.1ms preprocess, 104.5ms inference, 0.0ms postprocess per image at shape (1, 3, 640, 608)\n",
      "Results saved to \u001b[1mC:\\Users\\praph\\runs\\detect\\predict9\u001b[0m\n",
      "\n",
      "image 1/1 C:\\CVPR 24\\Codes\\Leaf Detection\\data\\test\\Images\\plant141_rgb.png: 640x608 16 Leafs, 100.1ms\n",
      "Speed: 15.5ms preprocess, 100.1ms inference, 0.0ms postprocess per image at shape (1, 3, 640, 608)\n",
      "Results saved to \u001b[1mC:\\Users\\praph\\runs\\detect\\predict9\u001b[0m\n",
      "\n",
      "image 1/1 C:\\CVPR 24\\Codes\\Leaf Detection\\data\\test\\Images\\plant142_rgb.png: 640x608 14 Leafs, 87.5ms\n",
      "Speed: 12.1ms preprocess, 87.5ms inference, 0.0ms postprocess per image at shape (1, 3, 640, 608)\n",
      "Results saved to \u001b[1mC:\\Users\\praph\\runs\\detect\\predict9\u001b[0m\n",
      "\n",
      "image 1/1 C:\\CVPR 24\\Codes\\Leaf Detection\\data\\test\\Images\\plant143_rgb.png: 640x608 15 Leafs, 109.9ms\n",
      "Speed: 0.0ms preprocess, 109.9ms inference, 0.0ms postprocess per image at shape (1, 3, 640, 608)\n",
      "Results saved to \u001b[1mC:\\Users\\praph\\runs\\detect\\predict9\u001b[0m\n",
      "\n",
      "image 1/1 C:\\CVPR 24\\Codes\\Leaf Detection\\data\\test\\Images\\plant144_rgb.png: 640x608 19 Leafs, 103.3ms\n",
      "Speed: 9.7ms preprocess, 103.3ms inference, 0.0ms postprocess per image at shape (1, 3, 640, 608)\n",
      "Results saved to \u001b[1mC:\\Users\\praph\\runs\\detect\\predict9\u001b[0m\n",
      "\n",
      "image 1/1 C:\\CVPR 24\\Codes\\Leaf Detection\\data\\test\\Images\\plant145_rgb.png: 640x608 18 Leafs, 81.3ms\n",
      "Speed: 2.2ms preprocess, 81.3ms inference, 0.7ms postprocess per image at shape (1, 3, 640, 608)\n",
      "Results saved to \u001b[1mC:\\Users\\praph\\runs\\detect\\predict9\u001b[0m\n",
      "\n",
      "image 1/1 C:\\CVPR 24\\Codes\\Leaf Detection\\data\\test\\Images\\plant146_rgb.png: 640x608 16 Leafs, 85.0ms\n",
      "Speed: 0.0ms preprocess, 85.0ms inference, 0.0ms postprocess per image at shape (1, 3, 640, 608)\n",
      "Results saved to \u001b[1mC:\\Users\\praph\\runs\\detect\\predict9\u001b[0m\n",
      "\n",
      "image 1/1 C:\\CVPR 24\\Codes\\Leaf Detection\\data\\test\\Images\\plant147_rgb.png: 640x608 13 Leafs, 214.5ms\n",
      "Speed: 37.9ms preprocess, 214.5ms inference, 3.9ms postprocess per image at shape (1, 3, 640, 608)\n",
      "Results saved to \u001b[1mC:\\Users\\praph\\runs\\detect\\predict9\u001b[0m\n",
      "\n",
      "image 1/1 C:\\CVPR 24\\Codes\\Leaf Detection\\data\\test\\Images\\plant148_rgb.png: 640x608 19 Leafs, 121.4ms\n",
      "Speed: 15.6ms preprocess, 121.4ms inference, 9.5ms postprocess per image at shape (1, 3, 640, 608)\n",
      "Results saved to \u001b[1mC:\\Users\\praph\\runs\\detect\\predict9\u001b[0m\n",
      "\n",
      "image 1/1 C:\\CVPR 24\\Codes\\Leaf Detection\\data\\test\\Images\\plant149_rgb.png: 640x608 16 Leafs, 76.3ms\n",
      "Speed: 0.0ms preprocess, 76.3ms inference, 12.6ms postprocess per image at shape (1, 3, 640, 608)\n",
      "Results saved to \u001b[1mC:\\Users\\praph\\runs\\detect\\predict9\u001b[0m\n",
      "\n",
      "image 1/1 C:\\CVPR 24\\Codes\\Leaf Detection\\data\\test\\Images\\plant151_rgb.png: 640x608 12 Leafs, 179.1ms\n",
      "Speed: 0.0ms preprocess, 179.1ms inference, 0.0ms postprocess per image at shape (1, 3, 640, 608)\n",
      "Results saved to \u001b[1mC:\\Users\\praph\\runs\\detect\\predict9\u001b[0m\n",
      "\n",
      "image 1/1 C:\\CVPR 24\\Codes\\Leaf Detection\\data\\test\\Images\\plant152_rgb.png: 640x608 14 Leafs, 83.1ms\n",
      "Speed: 6.2ms preprocess, 83.1ms inference, 0.0ms postprocess per image at shape (1, 3, 640, 608)\n",
      "Results saved to \u001b[1mC:\\Users\\praph\\runs\\detect\\predict9\u001b[0m\n",
      "\n",
      "image 1/1 C:\\CVPR 24\\Codes\\Leaf Detection\\data\\test\\Images\\plant153_rgb.png: 640x608 17 Leafs, 88.9ms\n",
      "Speed: 8.0ms preprocess, 88.9ms inference, 0.0ms postprocess per image at shape (1, 3, 640, 608)\n",
      "Results saved to \u001b[1mC:\\Users\\praph\\runs\\detect\\predict9\u001b[0m\n",
      "\n",
      "image 1/1 C:\\CVPR 24\\Codes\\Leaf Detection\\data\\test\\Images\\plant154_rgb.png: 640x608 17 Leafs, 79.5ms\n",
      "Speed: 4.5ms preprocess, 79.5ms inference, 0.0ms postprocess per image at shape (1, 3, 640, 608)\n",
      "Results saved to \u001b[1mC:\\Users\\praph\\runs\\detect\\predict9\u001b[0m\n",
      "\n",
      "image 1/1 C:\\CVPR 24\\Codes\\Leaf Detection\\data\\test\\Images\\plant156_rgb.png: 640x608 16 Leafs, 100.5ms\n",
      "Speed: 0.0ms preprocess, 100.5ms inference, 0.0ms postprocess per image at shape (1, 3, 640, 608)\n",
      "Results saved to \u001b[1mC:\\Users\\praph\\runs\\detect\\predict9\u001b[0m\n",
      "\n",
      "image 1/1 C:\\CVPR 24\\Codes\\Leaf Detection\\data\\test\\Images\\plant159_rgb.png: 640x608 12 Leafs, 92.4ms\n",
      "Speed: 0.0ms preprocess, 92.4ms inference, 0.0ms postprocess per image at shape (1, 3, 640, 608)\n",
      "Results saved to \u001b[1mC:\\Users\\praph\\runs\\detect\\predict9\u001b[0m\n",
      "\n",
      "image 1/1 C:\\CVPR 24\\Codes\\Leaf Detection\\data\\test\\Images\\plant161_rgb.png: 640x608 9 Leafs, 95.6ms\n",
      "Speed: 0.0ms preprocess, 95.6ms inference, 0.0ms postprocess per image at shape (1, 3, 640, 608)\n",
      "Results saved to \u001b[1mC:\\Users\\praph\\runs\\detect\\predict9\u001b[0m\n",
      "Mean Absolute Error (MAE): 1.7391304347826086\n",
      "Mean Squared Error (MSE): 6.260869565217392\n"
     ]
    }
   ],
   "source": [
    "import os\n",
    "import pandas as pd\n",
    "from sklearn.metrics import mean_absolute_error, mean_squared_error  # Import MSE\n",
    "\n",
    "# Directory path for images\n",
    "image_dir = r\"C:\\CVPR 24\\Codes\\Leaf Detection\\data\\test\\Images\"\n",
    "\n",
    "# CSV file containing ground truth leaf counts\n",
    "csv_file = r\"C:\\CVPR 24\\Codes\\Leaf Detection\\data\\Test.csv\"\n",
    "\n",
    "# Load the ground truth CSV into a dataframe\n",
    "df = pd.read_csv(csv_file, header=None, names=['name', 'leaf_count'])\n",
    "\n",
    "# Initialize lists to store true and predicted leaf counts\n",
    "true_counts = []\n",
    "predicted_counts = []\n",
    "\n",
    "# Iterate through all the images in the specified directory\n",
    "for filename in os.listdir(image_dir):\n",
    "    if filename.endswith(\".png\"):  # Modify as needed for your image format\n",
    "        image_path = os.path.join(image_dir, filename)\n",
    "\n",
    "        # Make prediction using the model\n",
    "        results = model.predict(image_path, save=True, conf=0.2)\n",
    "        \n",
    "        # Extract the predicted leaf count (assuming results contain a count attribute)\n",
    "        predicted_leaf_count = len(results[0])  # This depends on how your model outputs the count\n",
    "        predicted_counts.append(predicted_leaf_count)\n",
    "        \n",
    "        # Get the true leaf count from the dataframe\n",
    "        true_leaf_count = df.loc[df['name'] == filename, 'leaf_count'].values[0]\n",
    "        true_counts.append(true_leaf_count)\n",
    "\n",
    "# Calculate Mean Absolute Error (MAE)\n",
    "mae = mean_absolute_error(true_counts, predicted_counts)\n",
    "print(f\"Mean Absolute Error (MAE): {mae}\")\n",
    "\n",
    "# Calculate Mean Squared Error (MSE)\n",
    "mse = mean_squared_error(true_counts, predicted_counts)\n",
    "print(f\"Mean Squared Error (MSE): {mse}\")\n"
   ]
  },
  {
   "cell_type": "markdown",
   "metadata": {},
   "source": [
    "### Train using yolov8 small"
   ]
  },
  {
   "cell_type": "code",
   "execution_count": 2,
   "metadata": {},
   "outputs": [],
   "source": [
    "model = YOLO('yolov8s.pt')"
   ]
  },
  {
   "cell_type": "code",
   "execution_count": 3,
   "metadata": {},
   "outputs": [
    {
     "name": "stdout",
     "output_type": "stream",
     "text": [
      "Ultralytics YOLOv8.2.12  Python-3.12.3 torch-2.3.0+cpu CPU (AMD Ryzen 5 7535U with Radeon Graphics)\n",
      "\u001b[34m\u001b[1mengine\\trainer: \u001b[0mtask=detect, mode=train, model=yolov8s.pt, data=data.yaml, epochs=100, time=None, patience=100, batch=16, imgsz=640, save=True, save_period=-1, cache=False, device=None, workers=8, project=None, name=train30, exist_ok=False, pretrained=True, optimizer=auto, verbose=True, seed=0, deterministic=True, single_cls=False, rect=False, cos_lr=False, close_mosaic=10, resume=False, amp=True, fraction=1.0, profile=False, freeze=None, multi_scale=False, overlap_mask=True, mask_ratio=4, dropout=0.0, val=True, split=val, save_json=False, save_hybrid=False, conf=None, iou=0.7, max_det=300, half=False, dnn=False, plots=True, source=None, vid_stride=1, stream_buffer=False, visualize=False, augment=False, agnostic_nms=False, classes=None, retina_masks=False, embed=None, show=False, save_frames=False, save_txt=False, save_conf=False, save_crop=False, show_labels=True, show_conf=True, show_boxes=True, line_width=None, format=torchscript, keras=False, optimize=False, int8=False, dynamic=False, simplify=False, opset=None, workspace=4, nms=False, lr0=0.01, lrf=0.01, momentum=0.937, weight_decay=0.0005, warmup_epochs=3.0, warmup_momentum=0.8, warmup_bias_lr=0.1, box=7.5, cls=0.5, dfl=1.5, pose=12.0, kobj=1.0, label_smoothing=0.0, nbs=64, hsv_h=0.015, hsv_s=0.7, hsv_v=0.4, degrees=0.0, translate=0.1, scale=0.5, shear=0.0, perspective=0.0, flipud=0.0, fliplr=0.5, bgr=0.0, mosaic=1.0, mixup=0.0, copy_paste=0.0, auto_augment=randaugment, erasing=0.4, crop_fraction=1.0, cfg=None, tracker=botsort.yaml, save_dir=C:\\Users\\praph\\runs\\detect\\train30\n",
      "Overriding model.yaml nc=80 with nc=1\n",
      "\n",
      "                   from  n    params  module                                       arguments                     \n",
      "  0                  -1  1       928  ultralytics.nn.modules.conv.Conv             [3, 32, 3, 2]                 \n",
      "  1                  -1  1     18560  ultralytics.nn.modules.conv.Conv             [32, 64, 3, 2]                \n",
      "  2                  -1  1     29056  ultralytics.nn.modules.block.C2f             [64, 64, 1, True]             \n",
      "  3                  -1  1     73984  ultralytics.nn.modules.conv.Conv             [64, 128, 3, 2]               \n",
      "  4                  -1  2    197632  ultralytics.nn.modules.block.C2f             [128, 128, 2, True]           \n",
      "  5                  -1  1    295424  ultralytics.nn.modules.conv.Conv             [128, 256, 3, 2]              \n",
      "  6                  -1  2    788480  ultralytics.nn.modules.block.C2f             [256, 256, 2, True]           \n",
      "  7                  -1  1   1180672  ultralytics.nn.modules.conv.Conv             [256, 512, 3, 2]              \n",
      "  8                  -1  1   1838080  ultralytics.nn.modules.block.C2f             [512, 512, 1, True]           \n",
      "  9                  -1  1    656896  ultralytics.nn.modules.block.SPPF            [512, 512, 5]                 \n",
      " 10                  -1  1         0  torch.nn.modules.upsampling.Upsample         [None, 2, 'nearest']          \n",
      " 11             [-1, 6]  1         0  ultralytics.nn.modules.conv.Concat           [1]                           \n",
      " 12                  -1  1    591360  ultralytics.nn.modules.block.C2f             [768, 256, 1]                 \n",
      " 13                  -1  1         0  torch.nn.modules.upsampling.Upsample         [None, 2, 'nearest']          \n",
      " 14             [-1, 4]  1         0  ultralytics.nn.modules.conv.Concat           [1]                           \n",
      " 15                  -1  1    148224  ultralytics.nn.modules.block.C2f             [384, 128, 1]                 \n",
      " 16                  -1  1    147712  ultralytics.nn.modules.conv.Conv             [128, 128, 3, 2]              \n",
      " 17            [-1, 12]  1         0  ultralytics.nn.modules.conv.Concat           [1]                           \n",
      " 18                  -1  1    493056  ultralytics.nn.modules.block.C2f             [384, 256, 1]                 \n",
      " 19                  -1  1    590336  ultralytics.nn.modules.conv.Conv             [256, 256, 3, 2]              \n",
      " 20             [-1, 9]  1         0  ultralytics.nn.modules.conv.Concat           [1]                           \n",
      " 21                  -1  1   1969152  ultralytics.nn.modules.block.C2f             [768, 512, 1]                 \n",
      " 22        [15, 18, 21]  1   2116435  ultralytics.nn.modules.head.Detect           [1, [128, 256, 512]]          \n",
      "Model summary: 225 layers, 11135987 parameters, 11135971 gradients, 28.6 GFLOPs\n",
      "\n",
      "Transferred 349/355 items from pretrained weights\n",
      "\u001b[34m\u001b[1mTensorBoard: \u001b[0mStart with 'tensorboard --logdir C:\\Users\\praph\\runs\\detect\\train30', view at http://localhost:6006/\n",
      "Freezing layer 'model.22.dfl.conv.weight'\n"
     ]
    },
    {
     "name": "stderr",
     "output_type": "stream",
     "text": [
      "\u001b[34m\u001b[1mtrain: \u001b[0mScanning C:\\CVPR 24\\Codes\\Leaf Detection\\data\\train\\labels... 105 images, 0 backgrounds, 0 corrupt: 100%|██████████| 105/105 [00:00<00:00, 461.44it/s]"
     ]
    },
    {
     "name": "stdout",
     "output_type": "stream",
     "text": [
      "\u001b[34m\u001b[1mtrain: \u001b[0mNew cache created: C:\\CVPR 24\\Codes\\Leaf Detection\\data\\train\\labels.cache\n"
     ]
    },
    {
     "name": "stderr",
     "output_type": "stream",
     "text": [
      "\n",
      "\u001b[34m\u001b[1mval: \u001b[0mScanning C:\\CVPR 24\\Codes\\Leaf Detection\\data\\valid\\labels... 10 images, 0 backgrounds, 0 corrupt: 100%|██████████| 10/10 [00:00<00:00, 456.00it/s]"
     ]
    },
    {
     "name": "stdout",
     "output_type": "stream",
     "text": [
      "\u001b[34m\u001b[1mval: \u001b[0mNew cache created: C:\\CVPR 24\\Codes\\Leaf Detection\\data\\valid\\labels.cache\n"
     ]
    },
    {
     "name": "stderr",
     "output_type": "stream",
     "text": [
      "\n"
     ]
    },
    {
     "name": "stdout",
     "output_type": "stream",
     "text": [
      "Plotting labels to C:\\Users\\praph\\runs\\detect\\train30\\labels.jpg... \n",
      "\u001b[34m\u001b[1moptimizer:\u001b[0m 'optimizer=auto' found, ignoring 'lr0=0.01' and 'momentum=0.937' and determining best 'optimizer', 'lr0' and 'momentum' automatically... \n",
      "\u001b[34m\u001b[1moptimizer:\u001b[0m AdamW(lr=0.002, momentum=0.9) with parameter groups 57 weight(decay=0.0), 64 weight(decay=0.0005), 63 bias(decay=0.0)\n",
      "\u001b[34m\u001b[1mTensorBoard: \u001b[0mmodel graph visualization added \n",
      "Image sizes 640 train, 640 val\n",
      "Using 0 dataloader workers\n",
      "Logging results to \u001b[1mC:\\Users\\praph\\runs\\detect\\train30\u001b[0m\n",
      "Starting training for 100 epochs...\n",
      "\n",
      "      Epoch    GPU_mem   box_loss   cls_loss   dfl_loss  Instances       Size\n"
     ]
    },
    {
     "name": "stderr",
     "output_type": "stream",
     "text": [
      "      1/100         0G      1.585      2.278      1.416         78        640: 100%|██████████| 7/7 [01:13<00:00, 10.56s/it]\n",
      "                 Class     Images  Instances      Box(P          R      mAP50  mAP50-95): 100%|██████████| 1/1 [00:02<00:00,  2.75s/it]"
     ]
    },
    {
     "name": "stdout",
     "output_type": "stream",
     "text": [
      "                   all         10         46      0.887      0.826      0.918      0.461\n"
     ]
    },
    {
     "name": "stderr",
     "output_type": "stream",
     "text": [
      "\n"
     ]
    },
    {
     "name": "stdout",
     "output_type": "stream",
     "text": [
      "\n",
      "      Epoch    GPU_mem   box_loss   cls_loss   dfl_loss  Instances       Size\n"
     ]
    },
    {
     "name": "stderr",
     "output_type": "stream",
     "text": [
      "      2/100         0G      1.525      1.104      1.265         72        640: 100%|██████████| 7/7 [01:54<00:00, 16.35s/it]\n",
      "                 Class     Images  Instances      Box(P          R      mAP50  mAP50-95): 100%|██████████| 1/1 [00:03<00:00,  3.40s/it]"
     ]
    },
    {
     "name": "stdout",
     "output_type": "stream",
     "text": [
      "                   all         10         46      0.927      0.848      0.931      0.516\n"
     ]
    },
    {
     "name": "stderr",
     "output_type": "stream",
     "text": [
      "\n"
     ]
    },
    {
     "name": "stdout",
     "output_type": "stream",
     "text": [
      "\n",
      "      Epoch    GPU_mem   box_loss   cls_loss   dfl_loss  Instances       Size\n"
     ]
    },
    {
     "name": "stderr",
     "output_type": "stream",
     "text": [
      "      3/100         0G      1.491     0.9022      1.268         62        640: 100%|██████████| 7/7 [01:51<00:00, 15.87s/it]\n",
      "                 Class     Images  Instances      Box(P          R      mAP50  mAP50-95): 100%|██████████| 1/1 [00:02<00:00,  2.38s/it]"
     ]
    },
    {
     "name": "stdout",
     "output_type": "stream",
     "text": [
      "                   all         10         46      0.653      0.826       0.79      0.438\n"
     ]
    },
    {
     "name": "stderr",
     "output_type": "stream",
     "text": [
      "\n"
     ]
    },
    {
     "name": "stdout",
     "output_type": "stream",
     "text": [
      "\n",
      "      Epoch    GPU_mem   box_loss   cls_loss   dfl_loss  Instances       Size\n"
     ]
    },
    {
     "name": "stderr",
     "output_type": "stream",
     "text": [
      "      4/100         0G      1.436     0.8038      1.242         64        640: 100%|██████████| 7/7 [01:09<00:00,  9.95s/it]\n",
      "                 Class     Images  Instances      Box(P          R      mAP50  mAP50-95): 100%|██████████| 1/1 [00:02<00:00,  2.20s/it]"
     ]
    },
    {
     "name": "stdout",
     "output_type": "stream",
     "text": [
      "                   all         10         46      0.662      0.674      0.622      0.347\n"
     ]
    },
    {
     "name": "stderr",
     "output_type": "stream",
     "text": [
      "\n"
     ]
    },
    {
     "name": "stdout",
     "output_type": "stream",
     "text": [
      "\n",
      "      Epoch    GPU_mem   box_loss   cls_loss   dfl_loss  Instances       Size\n"
     ]
    },
    {
     "name": "stderr",
     "output_type": "stream",
     "text": [
      "      5/100         0G       1.36      0.701      1.186         66        640: 100%|██████████| 7/7 [01:10<00:00, 10.05s/it]\n",
      "                 Class     Images  Instances      Box(P          R      mAP50  mAP50-95): 100%|██████████| 1/1 [00:02<00:00,  2.14s/it]"
     ]
    },
    {
     "name": "stdout",
     "output_type": "stream",
     "text": [
      "                   all         10         46      0.872      0.935      0.966      0.522\n"
     ]
    },
    {
     "name": "stderr",
     "output_type": "stream",
     "text": [
      "\n"
     ]
    },
    {
     "name": "stdout",
     "output_type": "stream",
     "text": [
      "\n",
      "      Epoch    GPU_mem   box_loss   cls_loss   dfl_loss  Instances       Size\n"
     ]
    },
    {
     "name": "stderr",
     "output_type": "stream",
     "text": [
      "      6/100         0G      1.383     0.7187      1.201         53        640: 100%|██████████| 7/7 [01:09<00:00,  9.93s/it]\n",
      "                 Class     Images  Instances      Box(P          R      mAP50  mAP50-95): 100%|██████████| 1/1 [00:02<00:00,  2.21s/it]"
     ]
    },
    {
     "name": "stdout",
     "output_type": "stream",
     "text": [
      "                   all         10         46      0.556      0.717      0.514      0.283\n"
     ]
    },
    {
     "name": "stderr",
     "output_type": "stream",
     "text": [
      "\n"
     ]
    },
    {
     "name": "stdout",
     "output_type": "stream",
     "text": [
      "\n",
      "      Epoch    GPU_mem   box_loss   cls_loss   dfl_loss  Instances       Size\n"
     ]
    },
    {
     "name": "stderr",
     "output_type": "stream",
     "text": [
      "      7/100         0G      1.369     0.7121      1.196         61        640: 100%|██████████| 7/7 [01:09<00:00,  9.97s/it]\n",
      "                 Class     Images  Instances      Box(P          R      mAP50  mAP50-95): 100%|██████████| 1/1 [00:02<00:00,  2.08s/it]"
     ]
    },
    {
     "name": "stdout",
     "output_type": "stream",
     "text": [
      "                   all         10         46      0.947      0.848      0.881       0.51\n"
     ]
    },
    {
     "name": "stderr",
     "output_type": "stream",
     "text": [
      "\n"
     ]
    },
    {
     "name": "stdout",
     "output_type": "stream",
     "text": [
      "\n",
      "      Epoch    GPU_mem   box_loss   cls_loss   dfl_loss  Instances       Size\n"
     ]
    },
    {
     "name": "stderr",
     "output_type": "stream",
     "text": [
      "      8/100         0G      1.377     0.6516      1.205         48        640: 100%|██████████| 7/7 [01:10<00:00, 10.05s/it]\n",
      "                 Class     Images  Instances      Box(P          R      mAP50  mAP50-95): 100%|██████████| 1/1 [00:02<00:00,  2.12s/it]"
     ]
    },
    {
     "name": "stdout",
     "output_type": "stream",
     "text": [
      "                   all         10         46      0.975       0.86      0.953      0.516\n"
     ]
    },
    {
     "name": "stderr",
     "output_type": "stream",
     "text": [
      "\n"
     ]
    },
    {
     "name": "stdout",
     "output_type": "stream",
     "text": [
      "\n",
      "      Epoch    GPU_mem   box_loss   cls_loss   dfl_loss  Instances       Size\n"
     ]
    },
    {
     "name": "stderr",
     "output_type": "stream",
     "text": [
      "      9/100         0G      1.397     0.6688      1.192         80        640: 100%|██████████| 7/7 [01:31<00:00, 13.04s/it]\n",
      "                 Class     Images  Instances      Box(P          R      mAP50  mAP50-95): 100%|██████████| 1/1 [00:03<00:00,  3.19s/it]"
     ]
    },
    {
     "name": "stdout",
     "output_type": "stream",
     "text": [
      "                   all         10         46       0.88      0.978      0.963      0.478\n"
     ]
    },
    {
     "name": "stderr",
     "output_type": "stream",
     "text": [
      "\n"
     ]
    },
    {
     "name": "stdout",
     "output_type": "stream",
     "text": [
      "\n",
      "      Epoch    GPU_mem   box_loss   cls_loss   dfl_loss  Instances       Size\n"
     ]
    },
    {
     "name": "stderr",
     "output_type": "stream",
     "text": [
      "     10/100         0G       1.36     0.6861      1.174         68        640: 100%|██████████| 7/7 [01:48<00:00, 15.52s/it]\n",
      "                 Class     Images  Instances      Box(P          R      mAP50  mAP50-95): 100%|██████████| 1/1 [00:03<00:00,  3.24s/it]"
     ]
    },
    {
     "name": "stdout",
     "output_type": "stream",
     "text": [
      "                   all         10         46      0.688      0.783      0.811      0.432\n"
     ]
    },
    {
     "name": "stderr",
     "output_type": "stream",
     "text": [
      "\n"
     ]
    },
    {
     "name": "stdout",
     "output_type": "stream",
     "text": [
      "\n",
      "      Epoch    GPU_mem   box_loss   cls_loss   dfl_loss  Instances       Size\n"
     ]
    },
    {
     "name": "stderr",
     "output_type": "stream",
     "text": [
      "     11/100         0G      1.273     0.6318      1.138         47        640: 100%|██████████| 7/7 [01:49<00:00, 15.62s/it]\n",
      "                 Class     Images  Instances      Box(P          R      mAP50  mAP50-95): 100%|██████████| 1/1 [00:03<00:00,  3.16s/it]"
     ]
    },
    {
     "name": "stdout",
     "output_type": "stream",
     "text": [
      "                   all         10         46      0.843      0.804      0.872      0.443\n"
     ]
    },
    {
     "name": "stderr",
     "output_type": "stream",
     "text": [
      "\n"
     ]
    },
    {
     "name": "stdout",
     "output_type": "stream",
     "text": [
      "\n",
      "      Epoch    GPU_mem   box_loss   cls_loss   dfl_loss  Instances       Size\n"
     ]
    },
    {
     "name": "stderr",
     "output_type": "stream",
     "text": [
      "     12/100         0G      1.325     0.6597      1.169         69        640: 100%|██████████| 7/7 [01:49<00:00, 15.70s/it]\n",
      "                 Class     Images  Instances      Box(P          R      mAP50  mAP50-95): 100%|██████████| 1/1 [00:03<00:00,  3.22s/it]"
     ]
    },
    {
     "name": "stdout",
     "output_type": "stream",
     "text": [
      "                   all         10         46      0.787      0.717       0.75      0.408\n"
     ]
    },
    {
     "name": "stderr",
     "output_type": "stream",
     "text": [
      "\n"
     ]
    },
    {
     "name": "stdout",
     "output_type": "stream",
     "text": [
      "\n",
      "      Epoch    GPU_mem   box_loss   cls_loss   dfl_loss  Instances       Size\n"
     ]
    },
    {
     "name": "stderr",
     "output_type": "stream",
     "text": [
      "     13/100         0G      1.359     0.6982      1.159         85        640: 100%|██████████| 7/7 [01:20<00:00, 11.49s/it]\n",
      "                 Class     Images  Instances      Box(P          R      mAP50  mAP50-95): 100%|██████████| 1/1 [00:02<00:00,  2.35s/it]"
     ]
    },
    {
     "name": "stdout",
     "output_type": "stream",
     "text": [
      "                   all         10         46      0.825      0.719      0.815      0.426\n"
     ]
    },
    {
     "name": "stderr",
     "output_type": "stream",
     "text": [
      "\n"
     ]
    },
    {
     "name": "stdout",
     "output_type": "stream",
     "text": [
      "\n",
      "      Epoch    GPU_mem   box_loss   cls_loss   dfl_loss  Instances       Size\n"
     ]
    },
    {
     "name": "stderr",
     "output_type": "stream",
     "text": [
      "     14/100         0G      1.322     0.6649      1.159         90        640: 100%|██████████| 7/7 [01:42<00:00, 14.60s/it]\n",
      "                 Class     Images  Instances      Box(P          R      mAP50  mAP50-95): 100%|██████████| 1/1 [00:03<00:00,  3.30s/it]"
     ]
    },
    {
     "name": "stdout",
     "output_type": "stream",
     "text": [
      "                   all         10         46      0.897      0.848      0.918      0.501\n"
     ]
    },
    {
     "name": "stderr",
     "output_type": "stream",
     "text": [
      "\n"
     ]
    },
    {
     "name": "stdout",
     "output_type": "stream",
     "text": [
      "\n",
      "      Epoch    GPU_mem   box_loss   cls_loss   dfl_loss  Instances       Size\n"
     ]
    },
    {
     "name": "stderr",
     "output_type": "stream",
     "text": [
      "     15/100         0G      1.337     0.6568      1.176         72        640: 100%|██████████| 7/7 [01:50<00:00, 15.81s/it]\n",
      "                 Class     Images  Instances      Box(P          R      mAP50  mAP50-95): 100%|██████████| 1/1 [00:03<00:00,  3.30s/it]"
     ]
    },
    {
     "name": "stdout",
     "output_type": "stream",
     "text": [
      "                   all         10         46      0.864      0.891      0.927      0.478\n"
     ]
    },
    {
     "name": "stderr",
     "output_type": "stream",
     "text": [
      "\n"
     ]
    },
    {
     "name": "stdout",
     "output_type": "stream",
     "text": [
      "\n",
      "      Epoch    GPU_mem   box_loss   cls_loss   dfl_loss  Instances       Size\n"
     ]
    },
    {
     "name": "stderr",
     "output_type": "stream",
     "text": [
      "     16/100         0G      1.336     0.6637      1.172         77        640: 100%|██████████| 7/7 [01:50<00:00, 15.73s/it]\n",
      "                 Class     Images  Instances      Box(P          R      mAP50  mAP50-95): 100%|██████████| 1/1 [00:03<00:00,  3.16s/it]"
     ]
    },
    {
     "name": "stdout",
     "output_type": "stream",
     "text": [
      "                   all         10         46      0.881      0.826      0.927      0.495\n"
     ]
    },
    {
     "name": "stderr",
     "output_type": "stream",
     "text": [
      "\n"
     ]
    },
    {
     "name": "stdout",
     "output_type": "stream",
     "text": [
      "\n",
      "      Epoch    GPU_mem   box_loss   cls_loss   dfl_loss  Instances       Size\n"
     ]
    },
    {
     "name": "stderr",
     "output_type": "stream",
     "text": [
      "     17/100         0G      1.301     0.6278      1.183         62        640: 100%|██████████| 7/7 [01:49<00:00, 15.64s/it]\n",
      "                 Class     Images  Instances      Box(P          R      mAP50  mAP50-95): 100%|██████████| 1/1 [00:03<00:00,  3.23s/it]"
     ]
    },
    {
     "name": "stdout",
     "output_type": "stream",
     "text": [
      "                   all         10         46      0.924       0.79      0.897      0.489\n"
     ]
    },
    {
     "name": "stderr",
     "output_type": "stream",
     "text": [
      "\n"
     ]
    },
    {
     "name": "stdout",
     "output_type": "stream",
     "text": [
      "\n",
      "      Epoch    GPU_mem   box_loss   cls_loss   dfl_loss  Instances       Size\n"
     ]
    },
    {
     "name": "stderr",
     "output_type": "stream",
     "text": [
      "     18/100         0G      1.333     0.6172      1.176         55        640: 100%|██████████| 7/7 [01:48<00:00, 15.54s/it]\n",
      "                 Class     Images  Instances      Box(P          R      mAP50  mAP50-95): 100%|██████████| 1/1 [00:03<00:00,  3.14s/it]"
     ]
    },
    {
     "name": "stdout",
     "output_type": "stream",
     "text": [
      "                   all         10         46      0.796      0.763      0.884      0.474\n"
     ]
    },
    {
     "name": "stderr",
     "output_type": "stream",
     "text": [
      "\n"
     ]
    },
    {
     "name": "stdout",
     "output_type": "stream",
     "text": [
      "\n",
      "      Epoch    GPU_mem   box_loss   cls_loss   dfl_loss  Instances       Size\n"
     ]
    },
    {
     "name": "stderr",
     "output_type": "stream",
     "text": [
      "     19/100         0G      1.238      0.592      1.119         74        640: 100%|██████████| 7/7 [01:50<00:00, 15.74s/it]\n",
      "                 Class     Images  Instances      Box(P          R      mAP50  mAP50-95): 100%|██████████| 1/1 [00:03<00:00,  3.30s/it]"
     ]
    },
    {
     "name": "stdout",
     "output_type": "stream",
     "text": [
      "                   all         10         46      0.869      0.863      0.897      0.479\n"
     ]
    },
    {
     "name": "stderr",
     "output_type": "stream",
     "text": [
      "\n"
     ]
    },
    {
     "name": "stdout",
     "output_type": "stream",
     "text": [
      "\n",
      "      Epoch    GPU_mem   box_loss   cls_loss   dfl_loss  Instances       Size\n"
     ]
    },
    {
     "name": "stderr",
     "output_type": "stream",
     "text": [
      "     20/100         0G      1.271     0.6179      1.169         62        640: 100%|██████████| 7/7 [01:47<00:00, 15.36s/it]\n",
      "                 Class     Images  Instances      Box(P          R      mAP50  mAP50-95): 100%|██████████| 1/1 [00:02<00:00,  2.07s/it]"
     ]
    },
    {
     "name": "stdout",
     "output_type": "stream",
     "text": [
      "                   all         10         46      0.914      0.891      0.926      0.491\n"
     ]
    },
    {
     "name": "stderr",
     "output_type": "stream",
     "text": [
      "\n"
     ]
    },
    {
     "name": "stdout",
     "output_type": "stream",
     "text": [
      "\n",
      "      Epoch    GPU_mem   box_loss   cls_loss   dfl_loss  Instances       Size\n"
     ]
    },
    {
     "name": "stderr",
     "output_type": "stream",
     "text": [
      "     21/100         0G      1.267     0.6156      1.152         68        640: 100%|██████████| 7/7 [01:50<00:00, 15.77s/it]\n",
      "                 Class     Images  Instances      Box(P          R      mAP50  mAP50-95): 100%|██████████| 1/1 [00:03<00:00,  3.26s/it]"
     ]
    },
    {
     "name": "stdout",
     "output_type": "stream",
     "text": [
      "                   all         10         46      0.891      0.891      0.934      0.483\n"
     ]
    },
    {
     "name": "stderr",
     "output_type": "stream",
     "text": [
      "\n"
     ]
    },
    {
     "name": "stdout",
     "output_type": "stream",
     "text": [
      "\n",
      "      Epoch    GPU_mem   box_loss   cls_loss   dfl_loss  Instances       Size\n"
     ]
    },
    {
     "name": "stderr",
     "output_type": "stream",
     "text": [
      "     22/100         0G      1.226     0.5822      1.123         61        640: 100%|██████████| 7/7 [01:50<00:00, 15.82s/it]\n",
      "                 Class     Images  Instances      Box(P          R      mAP50  mAP50-95): 100%|██████████| 1/1 [00:03<00:00,  3.24s/it]"
     ]
    },
    {
     "name": "stdout",
     "output_type": "stream",
     "text": [
      "                   all         10         46      0.841      0.957      0.928      0.454\n"
     ]
    },
    {
     "name": "stderr",
     "output_type": "stream",
     "text": [
      "\n"
     ]
    },
    {
     "name": "stdout",
     "output_type": "stream",
     "text": [
      "\n",
      "      Epoch    GPU_mem   box_loss   cls_loss   dfl_loss  Instances       Size\n"
     ]
    },
    {
     "name": "stderr",
     "output_type": "stream",
     "text": [
      "     23/100         0G      1.187     0.5474      1.105         78        640: 100%|██████████| 7/7 [01:51<00:00, 15.88s/it]\n",
      "                 Class     Images  Instances      Box(P          R      mAP50  mAP50-95): 100%|██████████| 1/1 [00:03<00:00,  3.29s/it]"
     ]
    },
    {
     "name": "stdout",
     "output_type": "stream",
     "text": [
      "                   all         10         46      0.911      0.935       0.96      0.515\n"
     ]
    },
    {
     "name": "stderr",
     "output_type": "stream",
     "text": [
      "\n"
     ]
    },
    {
     "name": "stdout",
     "output_type": "stream",
     "text": [
      "\n",
      "      Epoch    GPU_mem   box_loss   cls_loss   dfl_loss  Instances       Size\n"
     ]
    },
    {
     "name": "stderr",
     "output_type": "stream",
     "text": [
      "     24/100         0G      1.221     0.5625      1.124         77        640: 100%|██████████| 7/7 [01:50<00:00, 15.84s/it]\n",
      "                 Class     Images  Instances      Box(P          R      mAP50  mAP50-95): 100%|██████████| 1/1 [00:03<00:00,  3.29s/it]"
     ]
    },
    {
     "name": "stdout",
     "output_type": "stream",
     "text": [
      "                   all         10         46      0.952      0.855      0.927      0.469\n"
     ]
    },
    {
     "name": "stderr",
     "output_type": "stream",
     "text": [
      "\n"
     ]
    },
    {
     "name": "stdout",
     "output_type": "stream",
     "text": [
      "\n",
      "      Epoch    GPU_mem   box_loss   cls_loss   dfl_loss  Instances       Size\n"
     ]
    },
    {
     "name": "stderr",
     "output_type": "stream",
     "text": [
      "     25/100         0G      1.239     0.5684      1.114         66        640: 100%|██████████| 7/7 [01:51<00:00, 15.90s/it]\n",
      "                 Class     Images  Instances      Box(P          R      mAP50  mAP50-95): 100%|██████████| 1/1 [00:03<00:00,  3.22s/it]"
     ]
    },
    {
     "name": "stdout",
     "output_type": "stream",
     "text": [
      "                   all         10         46      0.913      0.907      0.952      0.477\n"
     ]
    },
    {
     "name": "stderr",
     "output_type": "stream",
     "text": [
      "\n"
     ]
    },
    {
     "name": "stdout",
     "output_type": "stream",
     "text": [
      "\n",
      "      Epoch    GPU_mem   box_loss   cls_loss   dfl_loss  Instances       Size\n"
     ]
    },
    {
     "name": "stderr",
     "output_type": "stream",
     "text": [
      "     26/100         0G      1.221     0.5614      1.151         49        640: 100%|██████████| 7/7 [01:51<00:00, 15.86s/it]\n",
      "                 Class     Images  Instances      Box(P          R      mAP50  mAP50-95): 100%|██████████| 1/1 [00:03<00:00,  3.30s/it]"
     ]
    },
    {
     "name": "stdout",
     "output_type": "stream",
     "text": [
      "                   all         10         46      0.935      0.934       0.98      0.543\n"
     ]
    },
    {
     "name": "stderr",
     "output_type": "stream",
     "text": [
      "\n"
     ]
    },
    {
     "name": "stdout",
     "output_type": "stream",
     "text": [
      "\n",
      "      Epoch    GPU_mem   box_loss   cls_loss   dfl_loss  Instances       Size\n"
     ]
    },
    {
     "name": "stderr",
     "output_type": "stream",
     "text": [
      "     27/100         0G      1.193     0.5543      1.085         78        640: 100%|██████████| 7/7 [01:50<00:00, 15.81s/it]\n",
      "                 Class     Images  Instances      Box(P          R      mAP50  mAP50-95): 100%|██████████| 1/1 [00:03<00:00,  3.66s/it]"
     ]
    },
    {
     "name": "stdout",
     "output_type": "stream",
     "text": [
      "                   all         10         46      0.933      0.906      0.977      0.524\n"
     ]
    },
    {
     "name": "stderr",
     "output_type": "stream",
     "text": [
      "\n"
     ]
    },
    {
     "name": "stdout",
     "output_type": "stream",
     "text": [
      "\n",
      "      Epoch    GPU_mem   box_loss   cls_loss   dfl_loss  Instances       Size\n"
     ]
    },
    {
     "name": "stderr",
     "output_type": "stream",
     "text": [
      "     28/100         0G       1.21     0.5575      1.131         46        640: 100%|██████████| 7/7 [01:52<00:00, 16.01s/it]\n",
      "                 Class     Images  Instances      Box(P          R      mAP50  mAP50-95): 100%|██████████| 1/1 [00:03<00:00,  3.30s/it]"
     ]
    },
    {
     "name": "stdout",
     "output_type": "stream",
     "text": [
      "                   all         10         46      0.909      0.935      0.969      0.523\n"
     ]
    },
    {
     "name": "stderr",
     "output_type": "stream",
     "text": [
      "\n"
     ]
    },
    {
     "name": "stdout",
     "output_type": "stream",
     "text": [
      "\n",
      "      Epoch    GPU_mem   box_loss   cls_loss   dfl_loss  Instances       Size\n"
     ]
    },
    {
     "name": "stderr",
     "output_type": "stream",
     "text": [
      "     29/100         0G      1.134     0.5502      1.066         88        640: 100%|██████████| 7/7 [01:51<00:00, 15.97s/it]\n",
      "                 Class     Images  Instances      Box(P          R      mAP50  mAP50-95): 100%|██████████| 1/1 [00:03<00:00,  3.23s/it]"
     ]
    },
    {
     "name": "stdout",
     "output_type": "stream",
     "text": [
      "                   all         10         46      0.975      0.846      0.949      0.492\n"
     ]
    },
    {
     "name": "stderr",
     "output_type": "stream",
     "text": [
      "\n"
     ]
    },
    {
     "name": "stdout",
     "output_type": "stream",
     "text": [
      "\n",
      "      Epoch    GPU_mem   box_loss   cls_loss   dfl_loss  Instances       Size\n"
     ]
    },
    {
     "name": "stderr",
     "output_type": "stream",
     "text": [
      "     30/100         0G      1.143      0.549      1.097         49        640: 100%|██████████| 7/7 [01:51<00:00, 15.98s/it]\n",
      "                 Class     Images  Instances      Box(P          R      mAP50  mAP50-95): 100%|██████████| 1/1 [00:03<00:00,  3.16s/it]"
     ]
    },
    {
     "name": "stdout",
     "output_type": "stream",
     "text": [
      "                   all         10         46      0.952      0.864      0.933      0.493\n"
     ]
    },
    {
     "name": "stderr",
     "output_type": "stream",
     "text": [
      "\n"
     ]
    },
    {
     "name": "stdout",
     "output_type": "stream",
     "text": [
      "\n",
      "      Epoch    GPU_mem   box_loss   cls_loss   dfl_loss  Instances       Size\n"
     ]
    },
    {
     "name": "stderr",
     "output_type": "stream",
     "text": [
      "     31/100         0G      1.145      0.529      1.092         76        640: 100%|██████████| 7/7 [01:51<00:00, 15.97s/it]\n",
      "                 Class     Images  Instances      Box(P          R      mAP50  mAP50-95): 100%|██████████| 1/1 [00:03<00:00,  3.25s/it]"
     ]
    },
    {
     "name": "stdout",
     "output_type": "stream",
     "text": [
      "                   all         10         46      0.899      0.913      0.957      0.522\n"
     ]
    },
    {
     "name": "stderr",
     "output_type": "stream",
     "text": [
      "\n"
     ]
    },
    {
     "name": "stdout",
     "output_type": "stream",
     "text": [
      "\n",
      "      Epoch    GPU_mem   box_loss   cls_loss   dfl_loss  Instances       Size\n"
     ]
    },
    {
     "name": "stderr",
     "output_type": "stream",
     "text": [
      "     32/100         0G       1.15     0.5402      1.118         73        640: 100%|██████████| 7/7 [01:47<00:00, 15.35s/it]\n",
      "                 Class     Images  Instances      Box(P          R      mAP50  mAP50-95): 100%|██████████| 1/1 [00:03<00:00,  3.26s/it]"
     ]
    },
    {
     "name": "stdout",
     "output_type": "stream",
     "text": [
      "                   all         10         46      0.877      0.933      0.965      0.497\n"
     ]
    },
    {
     "name": "stderr",
     "output_type": "stream",
     "text": [
      "\n"
     ]
    },
    {
     "name": "stdout",
     "output_type": "stream",
     "text": [
      "\n",
      "      Epoch    GPU_mem   box_loss   cls_loss   dfl_loss  Instances       Size\n"
     ]
    },
    {
     "name": "stderr",
     "output_type": "stream",
     "text": [
      "     33/100         0G      1.153     0.5505      1.082         81        640: 100%|██████████| 7/7 [01:53<00:00, 16.17s/it]\n",
      "                 Class     Images  Instances      Box(P          R      mAP50  mAP50-95): 100%|██████████| 1/1 [00:03<00:00,  3.25s/it]"
     ]
    },
    {
     "name": "stdout",
     "output_type": "stream",
     "text": [
      "                   all         10         46      0.974       0.83      0.968      0.477\n"
     ]
    },
    {
     "name": "stderr",
     "output_type": "stream",
     "text": [
      "\n"
     ]
    },
    {
     "name": "stdout",
     "output_type": "stream",
     "text": [
      "\n",
      "      Epoch    GPU_mem   box_loss   cls_loss   dfl_loss  Instances       Size\n"
     ]
    },
    {
     "name": "stderr",
     "output_type": "stream",
     "text": [
      "     34/100         0G      1.142     0.5238        1.1         45        640: 100%|██████████| 7/7 [01:51<00:00, 15.95s/it]\n",
      "                 Class     Images  Instances      Box(P          R      mAP50  mAP50-95): 100%|██████████| 1/1 [00:03<00:00,  3.31s/it]"
     ]
    },
    {
     "name": "stdout",
     "output_type": "stream",
     "text": [
      "                   all         10         46      0.991       0.87      0.981      0.528\n"
     ]
    },
    {
     "name": "stderr",
     "output_type": "stream",
     "text": [
      "\n"
     ]
    },
    {
     "name": "stdout",
     "output_type": "stream",
     "text": [
      "\n",
      "      Epoch    GPU_mem   box_loss   cls_loss   dfl_loss  Instances       Size\n"
     ]
    },
    {
     "name": "stderr",
     "output_type": "stream",
     "text": [
      "     35/100         0G      1.091     0.5108      1.071        104        640: 100%|██████████| 7/7 [01:52<00:00, 16.03s/it]\n",
      "                 Class     Images  Instances      Box(P          R      mAP50  mAP50-95): 100%|██████████| 1/1 [00:03<00:00,  3.24s/it]"
     ]
    },
    {
     "name": "stdout",
     "output_type": "stream",
     "text": [
      "                   all         10         46      0.994      0.891      0.977      0.494\n"
     ]
    },
    {
     "name": "stderr",
     "output_type": "stream",
     "text": [
      "\n"
     ]
    },
    {
     "name": "stdout",
     "output_type": "stream",
     "text": [
      "\n",
      "      Epoch    GPU_mem   box_loss   cls_loss   dfl_loss  Instances       Size\n"
     ]
    },
    {
     "name": "stderr",
     "output_type": "stream",
     "text": [
      "     36/100         0G      1.146     0.5407      1.095         79        640: 100%|██████████| 7/7 [01:50<00:00, 15.86s/it]\n",
      "                 Class     Images  Instances      Box(P          R      mAP50  mAP50-95): 100%|██████████| 1/1 [00:03<00:00,  3.25s/it]"
     ]
    },
    {
     "name": "stdout",
     "output_type": "stream",
     "text": [
      "                   all         10         46      0.953      0.957      0.987      0.503\n"
     ]
    },
    {
     "name": "stderr",
     "output_type": "stream",
     "text": [
      "\n"
     ]
    },
    {
     "name": "stdout",
     "output_type": "stream",
     "text": [
      "\n",
      "      Epoch    GPU_mem   box_loss   cls_loss   dfl_loss  Instances       Size\n"
     ]
    },
    {
     "name": "stderr",
     "output_type": "stream",
     "text": [
      "     37/100         0G      1.086     0.5255      1.066         64        640: 100%|██████████| 7/7 [01:51<00:00, 15.90s/it]\n",
      "                 Class     Images  Instances      Box(P          R      mAP50  mAP50-95): 100%|██████████| 1/1 [00:03<00:00,  3.27s/it]"
     ]
    },
    {
     "name": "stdout",
     "output_type": "stream",
     "text": [
      "                   all         10         46      0.937      0.976      0.989      0.528\n"
     ]
    },
    {
     "name": "stderr",
     "output_type": "stream",
     "text": [
      "\n"
     ]
    },
    {
     "name": "stdout",
     "output_type": "stream",
     "text": [
      "\n",
      "      Epoch    GPU_mem   box_loss   cls_loss   dfl_loss  Instances       Size\n"
     ]
    },
    {
     "name": "stderr",
     "output_type": "stream",
     "text": [
      "     38/100         0G      1.061     0.4918      1.082         79        640: 100%|██████████| 7/7 [01:51<00:00, 15.98s/it]\n",
      "                 Class     Images  Instances      Box(P          R      mAP50  mAP50-95): 100%|██████████| 1/1 [00:03<00:00,  3.19s/it]"
     ]
    },
    {
     "name": "stdout",
     "output_type": "stream",
     "text": [
      "                   all         10         46      0.902      0.997       0.98      0.522\n"
     ]
    },
    {
     "name": "stderr",
     "output_type": "stream",
     "text": [
      "\n"
     ]
    },
    {
     "name": "stdout",
     "output_type": "stream",
     "text": [
      "\n",
      "      Epoch    GPU_mem   box_loss   cls_loss   dfl_loss  Instances       Size\n"
     ]
    },
    {
     "name": "stderr",
     "output_type": "stream",
     "text": [
      "     39/100         0G      1.048     0.5032      1.076         51        640: 100%|██████████| 7/7 [01:51<00:00, 15.95s/it]\n",
      "                 Class     Images  Instances      Box(P          R      mAP50  mAP50-95): 100%|██████████| 1/1 [00:03<00:00,  3.27s/it]"
     ]
    },
    {
     "name": "stdout",
     "output_type": "stream",
     "text": [
      "                   all         10         46      0.952      0.865       0.96      0.497\n"
     ]
    },
    {
     "name": "stderr",
     "output_type": "stream",
     "text": [
      "\n"
     ]
    },
    {
     "name": "stdout",
     "output_type": "stream",
     "text": [
      "\n",
      "      Epoch    GPU_mem   box_loss   cls_loss   dfl_loss  Instances       Size\n"
     ]
    },
    {
     "name": "stderr",
     "output_type": "stream",
     "text": [
      "     40/100         0G      1.024     0.5009       1.05         67        640: 100%|██████████| 7/7 [01:48<00:00, 15.53s/it]\n",
      "                 Class     Images  Instances      Box(P          R      mAP50  mAP50-95): 100%|██████████| 1/1 [00:03<00:00,  3.28s/it]"
     ]
    },
    {
     "name": "stdout",
     "output_type": "stream",
     "text": [
      "                   all         10         46      0.893      0.957      0.946      0.465\n"
     ]
    },
    {
     "name": "stderr",
     "output_type": "stream",
     "text": [
      "\n"
     ]
    },
    {
     "name": "stdout",
     "output_type": "stream",
     "text": [
      "\n",
      "      Epoch    GPU_mem   box_loss   cls_loss   dfl_loss  Instances       Size\n"
     ]
    },
    {
     "name": "stderr",
     "output_type": "stream",
     "text": [
      "     41/100         0G      1.006     0.4831      1.036         81        640: 100%|██████████| 7/7 [01:51<00:00, 16.00s/it]\n",
      "                 Class     Images  Instances      Box(P          R      mAP50  mAP50-95): 100%|██████████| 1/1 [00:03<00:00,  3.31s/it]"
     ]
    },
    {
     "name": "stdout",
     "output_type": "stream",
     "text": [
      "                   all         10         46      0.888      0.957      0.946      0.513\n"
     ]
    },
    {
     "name": "stderr",
     "output_type": "stream",
     "text": [
      "\n"
     ]
    },
    {
     "name": "stdout",
     "output_type": "stream",
     "text": [
      "\n",
      "      Epoch    GPU_mem   box_loss   cls_loss   dfl_loss  Instances       Size\n"
     ]
    },
    {
     "name": "stderr",
     "output_type": "stream",
     "text": [
      "     42/100         0G      1.026     0.4943      1.044         56        640: 100%|██████████| 7/7 [01:51<00:00, 15.86s/it]\n",
      "                 Class     Images  Instances      Box(P          R      mAP50  mAP50-95): 100%|██████████| 1/1 [00:03<00:00,  3.29s/it]"
     ]
    },
    {
     "name": "stdout",
     "output_type": "stream",
     "text": [
      "                   all         10         46      0.898      0.955      0.946      0.497\n"
     ]
    },
    {
     "name": "stderr",
     "output_type": "stream",
     "text": [
      "\n"
     ]
    },
    {
     "name": "stdout",
     "output_type": "stream",
     "text": [
      "\n",
      "      Epoch    GPU_mem   box_loss   cls_loss   dfl_loss  Instances       Size\n"
     ]
    },
    {
     "name": "stderr",
     "output_type": "stream",
     "text": [
      "     43/100         0G      1.025     0.4919      1.029         52        640: 100%|██████████| 7/7 [01:50<00:00, 15.85s/it]\n",
      "                 Class     Images  Instances      Box(P          R      mAP50  mAP50-95): 100%|██████████| 1/1 [00:03<00:00,  3.23s/it]"
     ]
    },
    {
     "name": "stdout",
     "output_type": "stream",
     "text": [
      "                   all         10         46      0.876      0.978      0.959      0.532\n"
     ]
    },
    {
     "name": "stderr",
     "output_type": "stream",
     "text": [
      "\n"
     ]
    },
    {
     "name": "stdout",
     "output_type": "stream",
     "text": [
      "\n",
      "      Epoch    GPU_mem   box_loss   cls_loss   dfl_loss  Instances       Size\n"
     ]
    },
    {
     "name": "stderr",
     "output_type": "stream",
     "text": [
      "     44/100         0G     0.9991     0.4646      1.024         62        640: 100%|██████████| 7/7 [01:50<00:00, 15.86s/it]\n",
      "                 Class     Images  Instances      Box(P          R      mAP50  mAP50-95): 100%|██████████| 1/1 [00:03<00:00,  3.33s/it]"
     ]
    },
    {
     "name": "stdout",
     "output_type": "stream",
     "text": [
      "                   all         10         46      0.929      0.859      0.945      0.507\n"
     ]
    },
    {
     "name": "stderr",
     "output_type": "stream",
     "text": [
      "\n"
     ]
    },
    {
     "name": "stdout",
     "output_type": "stream",
     "text": [
      "\n",
      "      Epoch    GPU_mem   box_loss   cls_loss   dfl_loss  Instances       Size\n"
     ]
    },
    {
     "name": "stderr",
     "output_type": "stream",
     "text": [
      "     45/100         0G      0.991     0.4731      1.034         64        640: 100%|██████████| 7/7 [01:51<00:00, 15.92s/it]\n",
      "                 Class     Images  Instances      Box(P          R      mAP50  mAP50-95): 100%|██████████| 1/1 [00:03<00:00,  3.12s/it]"
     ]
    },
    {
     "name": "stdout",
     "output_type": "stream",
     "text": [
      "                   all         10         46      0.909      0.913      0.941        0.5\n"
     ]
    },
    {
     "name": "stderr",
     "output_type": "stream",
     "text": [
      "\n"
     ]
    },
    {
     "name": "stdout",
     "output_type": "stream",
     "text": [
      "\n",
      "      Epoch    GPU_mem   box_loss   cls_loss   dfl_loss  Instances       Size\n"
     ]
    },
    {
     "name": "stderr",
     "output_type": "stream",
     "text": [
      "     46/100         0G     0.9719     0.4613       1.01         57        640: 100%|██████████| 7/7 [01:51<00:00, 15.93s/it]\n",
      "                 Class     Images  Instances      Box(P          R      mAP50  mAP50-95): 100%|██████████| 1/1 [00:03<00:00,  3.21s/it]"
     ]
    },
    {
     "name": "stdout",
     "output_type": "stream",
     "text": [
      "                   all         10         46      0.907      0.913      0.936      0.514\n"
     ]
    },
    {
     "name": "stderr",
     "output_type": "stream",
     "text": [
      "\n"
     ]
    },
    {
     "name": "stdout",
     "output_type": "stream",
     "text": [
      "\n",
      "      Epoch    GPU_mem   box_loss   cls_loss   dfl_loss  Instances       Size\n"
     ]
    },
    {
     "name": "stderr",
     "output_type": "stream",
     "text": [
      "     47/100         0G       1.01     0.4816      1.035         80        640: 100%|██████████| 7/7 [01:51<00:00, 15.93s/it]\n",
      "                 Class     Images  Instances      Box(P          R      mAP50  mAP50-95): 100%|██████████| 1/1 [00:03<00:00,  3.13s/it]"
     ]
    },
    {
     "name": "stdout",
     "output_type": "stream",
     "text": [
      "                   all         10         46      0.932      0.913      0.948      0.523\n"
     ]
    },
    {
     "name": "stderr",
     "output_type": "stream",
     "text": [
      "\n"
     ]
    },
    {
     "name": "stdout",
     "output_type": "stream",
     "text": [
      "\n",
      "      Epoch    GPU_mem   box_loss   cls_loss   dfl_loss  Instances       Size\n"
     ]
    },
    {
     "name": "stderr",
     "output_type": "stream",
     "text": [
      "     48/100         0G     0.9855     0.4637      1.033         50        640: 100%|██████████| 7/7 [01:51<00:00, 15.92s/it]\n",
      "                 Class     Images  Instances      Box(P          R      mAP50  mAP50-95): 100%|██████████| 1/1 [00:03<00:00,  3.31s/it]"
     ]
    },
    {
     "name": "stdout",
     "output_type": "stream",
     "text": [
      "                   all         10         46      0.954      0.912      0.944      0.527\n"
     ]
    },
    {
     "name": "stderr",
     "output_type": "stream",
     "text": [
      "\n"
     ]
    },
    {
     "name": "stdout",
     "output_type": "stream",
     "text": [
      "\n",
      "      Epoch    GPU_mem   box_loss   cls_loss   dfl_loss  Instances       Size\n"
     ]
    },
    {
     "name": "stderr",
     "output_type": "stream",
     "text": [
      "     49/100         0G     0.9804     0.4615      1.037         51        640: 100%|██████████| 7/7 [01:52<00:00, 16.00s/it]\n",
      "                 Class     Images  Instances      Box(P          R      mAP50  mAP50-95): 100%|██████████| 1/1 [00:03<00:00,  3.22s/it]"
     ]
    },
    {
     "name": "stdout",
     "output_type": "stream",
     "text": [
      "                   all         10         46       0.93      0.913      0.928      0.501\n"
     ]
    },
    {
     "name": "stderr",
     "output_type": "stream",
     "text": [
      "\n"
     ]
    },
    {
     "name": "stdout",
     "output_type": "stream",
     "text": [
      "\n",
      "      Epoch    GPU_mem   box_loss   cls_loss   dfl_loss  Instances       Size\n"
     ]
    },
    {
     "name": "stderr",
     "output_type": "stream",
     "text": [
      "     50/100         0G     0.9654      0.466      1.001         58        640: 100%|██████████| 7/7 [01:51<00:00, 15.96s/it]\n",
      "                 Class     Images  Instances      Box(P          R      mAP50  mAP50-95): 100%|██████████| 1/1 [00:03<00:00,  3.22s/it]"
     ]
    },
    {
     "name": "stdout",
     "output_type": "stream",
     "text": [
      "                   all         10         46      0.915      0.933      0.949      0.504\n"
     ]
    },
    {
     "name": "stderr",
     "output_type": "stream",
     "text": [
      "\n"
     ]
    },
    {
     "name": "stdout",
     "output_type": "stream",
     "text": [
      "\n",
      "      Epoch    GPU_mem   box_loss   cls_loss   dfl_loss  Instances       Size\n"
     ]
    },
    {
     "name": "stderr",
     "output_type": "stream",
     "text": [
      "     51/100         0G     0.9347     0.4319      1.005         68        640: 100%|██████████| 7/7 [01:51<00:00, 15.93s/it]\n",
      "                 Class     Images  Instances      Box(P          R      mAP50  mAP50-95): 100%|██████████| 1/1 [00:03<00:00,  3.19s/it]"
     ]
    },
    {
     "name": "stdout",
     "output_type": "stream",
     "text": [
      "                   all         10         46      0.953      0.913      0.969      0.517\n"
     ]
    },
    {
     "name": "stderr",
     "output_type": "stream",
     "text": [
      "\n"
     ]
    },
    {
     "name": "stdout",
     "output_type": "stream",
     "text": [
      "\n",
      "      Epoch    GPU_mem   box_loss   cls_loss   dfl_loss  Instances       Size\n"
     ]
    },
    {
     "name": "stderr",
     "output_type": "stream",
     "text": [
      "     52/100         0G     0.9428     0.4529      1.025         67        640: 100%|██████████| 7/7 [01:51<00:00, 15.87s/it]\n",
      "                 Class     Images  Instances      Box(P          R      mAP50  mAP50-95): 100%|██████████| 1/1 [00:03<00:00,  3.21s/it]"
     ]
    },
    {
     "name": "stdout",
     "output_type": "stream",
     "text": [
      "                   all         10         46      0.955      0.929       0.97      0.519\n"
     ]
    },
    {
     "name": "stderr",
     "output_type": "stream",
     "text": [
      "\n"
     ]
    },
    {
     "name": "stdout",
     "output_type": "stream",
     "text": [
      "\n",
      "      Epoch    GPU_mem   box_loss   cls_loss   dfl_loss  Instances       Size\n"
     ]
    },
    {
     "name": "stderr",
     "output_type": "stream",
     "text": [
      "     53/100         0G     0.8954     0.4283     0.9932         67        640: 100%|██████████| 7/7 [01:48<00:00, 15.48s/it]\n",
      "                 Class     Images  Instances      Box(P          R      mAP50  mAP50-95): 100%|██████████| 1/1 [00:03<00:00,  3.08s/it]"
     ]
    },
    {
     "name": "stdout",
     "output_type": "stream",
     "text": [
      "                   all         10         46      0.956      0.978      0.992      0.528\n"
     ]
    },
    {
     "name": "stderr",
     "output_type": "stream",
     "text": [
      "\n"
     ]
    },
    {
     "name": "stdout",
     "output_type": "stream",
     "text": [
      "\n",
      "      Epoch    GPU_mem   box_loss   cls_loss   dfl_loss  Instances       Size\n"
     ]
    },
    {
     "name": "stderr",
     "output_type": "stream",
     "text": [
      "     54/100         0G     0.9085     0.4295      1.006         60        640: 100%|██████████| 7/7 [01:47<00:00, 15.38s/it]\n",
      "                 Class     Images  Instances      Box(P          R      mAP50  mAP50-95): 100%|██████████| 1/1 [00:03<00:00,  3.19s/it]"
     ]
    },
    {
     "name": "stdout",
     "output_type": "stream",
     "text": [
      "                   all         10         46       0.95      0.957       0.99      0.531\n"
     ]
    },
    {
     "name": "stderr",
     "output_type": "stream",
     "text": [
      "\n"
     ]
    },
    {
     "name": "stdout",
     "output_type": "stream",
     "text": [
      "\n",
      "      Epoch    GPU_mem   box_loss   cls_loss   dfl_loss  Instances       Size\n"
     ]
    },
    {
     "name": "stderr",
     "output_type": "stream",
     "text": [
      "     55/100         0G     0.9018      0.427     0.9998         54        640: 100%|██████████| 7/7 [01:52<00:00, 16.04s/it]\n",
      "                 Class     Images  Instances      Box(P          R      mAP50  mAP50-95): 100%|██████████| 1/1 [00:03<00:00,  3.25s/it]"
     ]
    },
    {
     "name": "stdout",
     "output_type": "stream",
     "text": [
      "                   all         10         46      0.933      0.957      0.984      0.511\n"
     ]
    },
    {
     "name": "stderr",
     "output_type": "stream",
     "text": [
      "\n"
     ]
    },
    {
     "name": "stdout",
     "output_type": "stream",
     "text": [
      "\n",
      "      Epoch    GPU_mem   box_loss   cls_loss   dfl_loss  Instances       Size\n"
     ]
    },
    {
     "name": "stderr",
     "output_type": "stream",
     "text": [
      "     56/100         0G     0.9145     0.4304     0.9885         73        640: 100%|██████████| 7/7 [01:51<00:00, 15.95s/it]\n",
      "                 Class     Images  Instances      Box(P          R      mAP50  mAP50-95): 100%|██████████| 1/1 [00:03<00:00,  3.36s/it]"
     ]
    },
    {
     "name": "stdout",
     "output_type": "stream",
     "text": [
      "                   all         10         46      0.934      0.935      0.986      0.556\n"
     ]
    },
    {
     "name": "stderr",
     "output_type": "stream",
     "text": [
      "\n"
     ]
    },
    {
     "name": "stdout",
     "output_type": "stream",
     "text": [
      "\n",
      "      Epoch    GPU_mem   box_loss   cls_loss   dfl_loss  Instances       Size\n"
     ]
    },
    {
     "name": "stderr",
     "output_type": "stream",
     "text": [
      "     57/100         0G     0.9143     0.4395      1.006         73        640: 100%|██████████| 7/7 [01:51<00:00, 15.90s/it]\n",
      "                 Class     Images  Instances      Box(P          R      mAP50  mAP50-95): 100%|██████████| 1/1 [00:03<00:00,  3.25s/it]"
     ]
    },
    {
     "name": "stdout",
     "output_type": "stream",
     "text": [
      "                   all         10         46      0.935      0.933      0.985       0.55\n"
     ]
    },
    {
     "name": "stderr",
     "output_type": "stream",
     "text": [
      "\n"
     ]
    },
    {
     "name": "stdout",
     "output_type": "stream",
     "text": [
      "\n",
      "      Epoch    GPU_mem   box_loss   cls_loss   dfl_loss  Instances       Size\n"
     ]
    },
    {
     "name": "stderr",
     "output_type": "stream",
     "text": [
      "     58/100         0G     0.8963     0.4351     0.9833         68        640: 100%|██████████| 7/7 [01:51<00:00, 15.97s/it]\n",
      "                 Class     Images  Instances      Box(P          R      mAP50  mAP50-95): 100%|██████████| 1/1 [00:03<00:00,  3.22s/it]"
     ]
    },
    {
     "name": "stdout",
     "output_type": "stream",
     "text": [
      "                   all         10         46      0.965      0.913      0.982      0.528\n"
     ]
    },
    {
     "name": "stderr",
     "output_type": "stream",
     "text": [
      "\n"
     ]
    },
    {
     "name": "stdout",
     "output_type": "stream",
     "text": [
      "\n",
      "      Epoch    GPU_mem   box_loss   cls_loss   dfl_loss  Instances       Size\n"
     ]
    },
    {
     "name": "stderr",
     "output_type": "stream",
     "text": [
      "     59/100         0G       0.87     0.4206     0.9937         38        640: 100%|██████████| 7/7 [01:51<00:00, 15.95s/it]\n",
      "                 Class     Images  Instances      Box(P          R      mAP50  mAP50-95): 100%|██████████| 1/1 [00:03<00:00,  3.23s/it]"
     ]
    },
    {
     "name": "stdout",
     "output_type": "stream",
     "text": [
      "                   all         10         46      0.993      0.848      0.973      0.578\n"
     ]
    },
    {
     "name": "stderr",
     "output_type": "stream",
     "text": [
      "\n"
     ]
    },
    {
     "name": "stdout",
     "output_type": "stream",
     "text": [
      "\n",
      "      Epoch    GPU_mem   box_loss   cls_loss   dfl_loss  Instances       Size\n"
     ]
    },
    {
     "name": "stderr",
     "output_type": "stream",
     "text": [
      "     60/100         0G     0.8553     0.4147     0.9707         72        640: 100%|██████████| 7/7 [01:52<00:00, 16.09s/it]\n",
      "                 Class     Images  Instances      Box(P          R      mAP50  mAP50-95): 100%|██████████| 1/1 [00:03<00:00,  3.32s/it]"
     ]
    },
    {
     "name": "stdout",
     "output_type": "stream",
     "text": [
      "                   all         10         46      0.933      0.906      0.956      0.502\n"
     ]
    },
    {
     "name": "stderr",
     "output_type": "stream",
     "text": [
      "\n"
     ]
    },
    {
     "name": "stdout",
     "output_type": "stream",
     "text": [
      "\n",
      "      Epoch    GPU_mem   box_loss   cls_loss   dfl_loss  Instances       Size\n"
     ]
    },
    {
     "name": "stderr",
     "output_type": "stream",
     "text": [
      "     61/100         0G     0.8839     0.4146     0.9925         61        640: 100%|██████████| 7/7 [01:52<00:00, 16.14s/it]\n",
      "                 Class     Images  Instances      Box(P          R      mAP50  mAP50-95): 100%|██████████| 1/1 [00:03<00:00,  3.25s/it]"
     ]
    },
    {
     "name": "stdout",
     "output_type": "stream",
     "text": [
      "                   all         10         46      0.933      0.906      0.964      0.509\n"
     ]
    },
    {
     "name": "stderr",
     "output_type": "stream",
     "text": [
      "\n"
     ]
    },
    {
     "name": "stdout",
     "output_type": "stream",
     "text": [
      "\n",
      "      Epoch    GPU_mem   box_loss   cls_loss   dfl_loss  Instances       Size\n"
     ]
    },
    {
     "name": "stderr",
     "output_type": "stream",
     "text": [
      "     62/100         0G     0.8673     0.4234     0.9717         61        640: 100%|██████████| 7/7 [01:22<00:00, 11.73s/it]\n",
      "                 Class     Images  Instances      Box(P          R      mAP50  mAP50-95): 100%|██████████| 1/1 [00:02<00:00,  2.22s/it]"
     ]
    },
    {
     "name": "stdout",
     "output_type": "stream",
     "text": [
      "                   all         10         46      0.972      0.891      0.956      0.518\n"
     ]
    },
    {
     "name": "stderr",
     "output_type": "stream",
     "text": [
      "\n"
     ]
    },
    {
     "name": "stdout",
     "output_type": "stream",
     "text": [
      "\n",
      "      Epoch    GPU_mem   box_loss   cls_loss   dfl_loss  Instances       Size\n"
     ]
    },
    {
     "name": "stderr",
     "output_type": "stream",
     "text": [
      "     63/100         0G     0.8156     0.4063     0.9594         46        640: 100%|██████████| 7/7 [01:12<00:00, 10.35s/it]\n",
      "                 Class     Images  Instances      Box(P          R      mAP50  mAP50-95): 100%|██████████| 1/1 [00:02<00:00,  2.28s/it]"
     ]
    },
    {
     "name": "stdout",
     "output_type": "stream",
     "text": [
      "                   all         10         46      0.953      0.889      0.956      0.523\n"
     ]
    },
    {
     "name": "stderr",
     "output_type": "stream",
     "text": [
      "\n"
     ]
    },
    {
     "name": "stdout",
     "output_type": "stream",
     "text": [
      "\n",
      "      Epoch    GPU_mem   box_loss   cls_loss   dfl_loss  Instances       Size\n"
     ]
    },
    {
     "name": "stderr",
     "output_type": "stream",
     "text": [
      "     64/100         0G     0.8333     0.4072     0.9688         79        640: 100%|██████████| 7/7 [01:10<00:00, 10.01s/it]\n",
      "                 Class     Images  Instances      Box(P          R      mAP50  mAP50-95): 100%|██████████| 1/1 [00:02<00:00,  2.12s/it]"
     ]
    },
    {
     "name": "stdout",
     "output_type": "stream",
     "text": [
      "                   all         10         46      0.967      0.913      0.958      0.526\n"
     ]
    },
    {
     "name": "stderr",
     "output_type": "stream",
     "text": [
      "\n"
     ]
    },
    {
     "name": "stdout",
     "output_type": "stream",
     "text": [
      "\n",
      "      Epoch    GPU_mem   box_loss   cls_loss   dfl_loss  Instances       Size\n"
     ]
    },
    {
     "name": "stderr",
     "output_type": "stream",
     "text": [
      "     65/100         0G     0.7784     0.3891     0.9344         80        640: 100%|██████████| 7/7 [01:10<00:00, 10.12s/it]\n",
      "                 Class     Images  Instances      Box(P          R      mAP50  mAP50-95): 100%|██████████| 1/1 [00:02<00:00,  2.10s/it]"
     ]
    },
    {
     "name": "stdout",
     "output_type": "stream",
     "text": [
      "                   all         10         46      0.952      0.913      0.967      0.537\n"
     ]
    },
    {
     "name": "stderr",
     "output_type": "stream",
     "text": [
      "\n"
     ]
    },
    {
     "name": "stdout",
     "output_type": "stream",
     "text": [
      "\n",
      "      Epoch    GPU_mem   box_loss   cls_loss   dfl_loss  Instances       Size\n"
     ]
    },
    {
     "name": "stderr",
     "output_type": "stream",
     "text": [
      "     66/100         0G     0.8124     0.4123     0.9767         50        640: 100%|██████████| 7/7 [01:10<00:00, 10.07s/it]\n",
      "                 Class     Images  Instances      Box(P          R      mAP50  mAP50-95): 100%|██████████| 1/1 [00:02<00:00,  2.17s/it]"
     ]
    },
    {
     "name": "stdout",
     "output_type": "stream",
     "text": [
      "                   all         10         46      0.997      0.935      0.987      0.527\n"
     ]
    },
    {
     "name": "stderr",
     "output_type": "stream",
     "text": [
      "\n"
     ]
    },
    {
     "name": "stdout",
     "output_type": "stream",
     "text": [
      "\n",
      "      Epoch    GPU_mem   box_loss   cls_loss   dfl_loss  Instances       Size\n"
     ]
    },
    {
     "name": "stderr",
     "output_type": "stream",
     "text": [
      "     67/100         0G      0.825        0.4     0.9729         52        640: 100%|██████████| 7/7 [01:10<00:00, 10.08s/it]\n",
      "                 Class     Images  Instances      Box(P          R      mAP50  mAP50-95): 100%|██████████| 1/1 [00:02<00:00,  2.20s/it]"
     ]
    },
    {
     "name": "stdout",
     "output_type": "stream",
     "text": [
      "                   all         10         46      0.957      0.973      0.991      0.564\n"
     ]
    },
    {
     "name": "stderr",
     "output_type": "stream",
     "text": [
      "\n"
     ]
    },
    {
     "name": "stdout",
     "output_type": "stream",
     "text": [
      "\n",
      "      Epoch    GPU_mem   box_loss   cls_loss   dfl_loss  Instances       Size\n"
     ]
    },
    {
     "name": "stderr",
     "output_type": "stream",
     "text": [
      "     68/100         0G       0.79      0.397     0.9644         73        640: 100%|██████████| 7/7 [01:12<00:00, 10.29s/it]\n",
      "                 Class     Images  Instances      Box(P          R      mAP50  mAP50-95): 100%|██████████| 1/1 [00:02<00:00,  2.10s/it]"
     ]
    },
    {
     "name": "stdout",
     "output_type": "stream",
     "text": [
      "                   all         10         46      0.994      0.913       0.98      0.549\n"
     ]
    },
    {
     "name": "stderr",
     "output_type": "stream",
     "text": [
      "\n"
     ]
    },
    {
     "name": "stdout",
     "output_type": "stream",
     "text": [
      "\n",
      "      Epoch    GPU_mem   box_loss   cls_loss   dfl_loss  Instances       Size\n"
     ]
    },
    {
     "name": "stderr",
     "output_type": "stream",
     "text": [
      "     69/100         0G     0.7603     0.3875     0.9398         59        640: 100%|██████████| 7/7 [01:11<00:00, 10.18s/it]\n",
      "                 Class     Images  Instances      Box(P          R      mAP50  mAP50-95): 100%|██████████| 1/1 [00:02<00:00,  2.14s/it]"
     ]
    },
    {
     "name": "stdout",
     "output_type": "stream",
     "text": [
      "                   all         10         46          1      0.907      0.976      0.546\n"
     ]
    },
    {
     "name": "stderr",
     "output_type": "stream",
     "text": [
      "\n"
     ]
    },
    {
     "name": "stdout",
     "output_type": "stream",
     "text": [
      "\n",
      "      Epoch    GPU_mem   box_loss   cls_loss   dfl_loss  Instances       Size\n"
     ]
    },
    {
     "name": "stderr",
     "output_type": "stream",
     "text": [
      "     70/100         0G      0.793     0.3894     0.9532         68        640: 100%|██████████| 7/7 [01:11<00:00, 10.26s/it]\n",
      "                 Class     Images  Instances      Box(P          R      mAP50  mAP50-95): 100%|██████████| 1/1 [00:02<00:00,  2.10s/it]"
     ]
    },
    {
     "name": "stdout",
     "output_type": "stream",
     "text": [
      "                   all         10         46      0.974      0.978      0.983      0.539\n"
     ]
    },
    {
     "name": "stderr",
     "output_type": "stream",
     "text": [
      "\n"
     ]
    },
    {
     "name": "stdout",
     "output_type": "stream",
     "text": [
      "\n",
      "      Epoch    GPU_mem   box_loss   cls_loss   dfl_loss  Instances       Size\n"
     ]
    },
    {
     "name": "stderr",
     "output_type": "stream",
     "text": [
      "     71/100         0G     0.7794      0.387     0.9404         53        640: 100%|██████████| 7/7 [01:12<00:00, 10.31s/it]\n",
      "                 Class     Images  Instances      Box(P          R      mAP50  mAP50-95): 100%|██████████| 1/1 [00:02<00:00,  2.25s/it]"
     ]
    },
    {
     "name": "stdout",
     "output_type": "stream",
     "text": [
      "                   all         10         46          1      0.972      0.993      0.539\n"
     ]
    },
    {
     "name": "stderr",
     "output_type": "stream",
     "text": [
      "\n"
     ]
    },
    {
     "name": "stdout",
     "output_type": "stream",
     "text": [
      "\n",
      "      Epoch    GPU_mem   box_loss   cls_loss   dfl_loss  Instances       Size\n"
     ]
    },
    {
     "name": "stderr",
     "output_type": "stream",
     "text": [
      "     72/100         0G     0.7762     0.3865     0.9403         62        640: 100%|██████████| 7/7 [01:13<00:00, 10.44s/it]\n",
      "                 Class     Images  Instances      Box(P          R      mAP50  mAP50-95): 100%|██████████| 1/1 [00:02<00:00,  2.20s/it]"
     ]
    },
    {
     "name": "stdout",
     "output_type": "stream",
     "text": [
      "                   all         10         46      0.977      0.957      0.981       0.55\n"
     ]
    },
    {
     "name": "stderr",
     "output_type": "stream",
     "text": [
      "\n"
     ]
    },
    {
     "name": "stdout",
     "output_type": "stream",
     "text": [
      "\n",
      "      Epoch    GPU_mem   box_loss   cls_loss   dfl_loss  Instances       Size\n"
     ]
    },
    {
     "name": "stderr",
     "output_type": "stream",
     "text": [
      "     73/100         0G     0.7884     0.3937     0.9497         92        640: 100%|██████████| 7/7 [01:14<00:00, 10.67s/it]\n",
      "                 Class     Images  Instances      Box(P          R      mAP50  mAP50-95): 100%|██████████| 1/1 [00:02<00:00,  2.21s/it]"
     ]
    },
    {
     "name": "stdout",
     "output_type": "stream",
     "text": [
      "                   all         10         46          1      0.947      0.992      0.551\n"
     ]
    },
    {
     "name": "stderr",
     "output_type": "stream",
     "text": [
      "\n"
     ]
    },
    {
     "name": "stdout",
     "output_type": "stream",
     "text": [
      "\n",
      "      Epoch    GPU_mem   box_loss   cls_loss   dfl_loss  Instances       Size\n"
     ]
    },
    {
     "name": "stderr",
     "output_type": "stream",
     "text": [
      "     74/100         0G     0.7361     0.3701      0.939         65        640: 100%|██████████| 7/7 [01:15<00:00, 10.79s/it]\n",
      "                 Class     Images  Instances      Box(P          R      mAP50  mAP50-95): 100%|██████████| 1/1 [00:02<00:00,  2.33s/it]"
     ]
    },
    {
     "name": "stdout",
     "output_type": "stream",
     "text": [
      "                   all         10         46      0.916      0.957      0.978      0.524\n"
     ]
    },
    {
     "name": "stderr",
     "output_type": "stream",
     "text": [
      "\n"
     ]
    },
    {
     "name": "stdout",
     "output_type": "stream",
     "text": [
      "\n",
      "      Epoch    GPU_mem   box_loss   cls_loss   dfl_loss  Instances       Size\n"
     ]
    },
    {
     "name": "stderr",
     "output_type": "stream",
     "text": [
      "     75/100         0G     0.7443     0.3843     0.9355         90        640: 100%|██████████| 7/7 [01:15<00:00, 10.80s/it]\n",
      "                 Class     Images  Instances      Box(P          R      mAP50  mAP50-95): 100%|██████████| 1/1 [00:02<00:00,  2.26s/it]"
     ]
    },
    {
     "name": "stdout",
     "output_type": "stream",
     "text": [
      "                   all         10         46      0.917      0.957      0.981      0.535\n"
     ]
    },
    {
     "name": "stderr",
     "output_type": "stream",
     "text": [
      "\n"
     ]
    },
    {
     "name": "stdout",
     "output_type": "stream",
     "text": [
      "\n",
      "      Epoch    GPU_mem   box_loss   cls_loss   dfl_loss  Instances       Size\n"
     ]
    },
    {
     "name": "stderr",
     "output_type": "stream",
     "text": [
      "     76/100         0G     0.7484     0.3669      0.938         76        640: 100%|██████████| 7/7 [01:15<00:00, 10.82s/it]\n",
      "                 Class     Images  Instances      Box(P          R      mAP50  mAP50-95): 100%|██████████| 1/1 [00:02<00:00,  2.27s/it]"
     ]
    },
    {
     "name": "stdout",
     "output_type": "stream",
     "text": [
      "                   all         10         46      0.896      0.978      0.981      0.544\n"
     ]
    },
    {
     "name": "stderr",
     "output_type": "stream",
     "text": [
      "\n"
     ]
    },
    {
     "name": "stdout",
     "output_type": "stream",
     "text": [
      "\n",
      "      Epoch    GPU_mem   box_loss   cls_loss   dfl_loss  Instances       Size\n"
     ]
    },
    {
     "name": "stderr",
     "output_type": "stream",
     "text": [
      "     77/100         0G     0.7012     0.3618     0.9217         52        640: 100%|██████████| 7/7 [01:16<00:00, 10.92s/it]\n",
      "                 Class     Images  Instances      Box(P          R      mAP50  mAP50-95): 100%|██████████| 1/1 [00:02<00:00,  2.25s/it]"
     ]
    },
    {
     "name": "stdout",
     "output_type": "stream",
     "text": [
      "                   all         10         46      0.915      0.978      0.979      0.549\n"
     ]
    },
    {
     "name": "stderr",
     "output_type": "stream",
     "text": [
      "\n"
     ]
    },
    {
     "name": "stdout",
     "output_type": "stream",
     "text": [
      "\n",
      "      Epoch    GPU_mem   box_loss   cls_loss   dfl_loss  Instances       Size\n"
     ]
    },
    {
     "name": "stderr",
     "output_type": "stream",
     "text": [
      "     78/100         0G     0.7258     0.3696     0.9271         58        640: 100%|██████████| 7/7 [01:16<00:00, 10.88s/it]\n",
      "                 Class     Images  Instances      Box(P          R      mAP50  mAP50-95): 100%|██████████| 1/1 [00:02<00:00,  2.32s/it]"
     ]
    },
    {
     "name": "stdout",
     "output_type": "stream",
     "text": [
      "                   all         10         46      0.877      0.932      0.957      0.557\n"
     ]
    },
    {
     "name": "stderr",
     "output_type": "stream",
     "text": [
      "\n"
     ]
    },
    {
     "name": "stdout",
     "output_type": "stream",
     "text": [
      "\n",
      "      Epoch    GPU_mem   box_loss   cls_loss   dfl_loss  Instances       Size\n"
     ]
    },
    {
     "name": "stderr",
     "output_type": "stream",
     "text": [
      "     79/100         0G     0.7223     0.3629     0.9327         83        640: 100%|██████████| 7/7 [01:15<00:00, 10.83s/it]\n",
      "                 Class     Images  Instances      Box(P          R      mAP50  mAP50-95): 100%|██████████| 1/1 [00:02<00:00,  2.35s/it]"
     ]
    },
    {
     "name": "stdout",
     "output_type": "stream",
     "text": [
      "                   all         10         46      0.915      0.933      0.976      0.563\n"
     ]
    },
    {
     "name": "stderr",
     "output_type": "stream",
     "text": [
      "\n"
     ]
    },
    {
     "name": "stdout",
     "output_type": "stream",
     "text": [
      "\n",
      "      Epoch    GPU_mem   box_loss   cls_loss   dfl_loss  Instances       Size\n"
     ]
    },
    {
     "name": "stderr",
     "output_type": "stream",
     "text": [
      "     80/100         0G      0.702     0.3639     0.9149         66        640: 100%|██████████| 7/7 [01:15<00:00, 10.81s/it]\n",
      "                 Class     Images  Instances      Box(P          R      mAP50  mAP50-95): 100%|██████████| 1/1 [00:02<00:00,  2.27s/it]"
     ]
    },
    {
     "name": "stdout",
     "output_type": "stream",
     "text": [
      "                   all         10         46      0.952      0.913      0.976      0.547\n"
     ]
    },
    {
     "name": "stderr",
     "output_type": "stream",
     "text": [
      "\n"
     ]
    },
    {
     "name": "stdout",
     "output_type": "stream",
     "text": [
      "\n",
      "      Epoch    GPU_mem   box_loss   cls_loss   dfl_loss  Instances       Size\n"
     ]
    },
    {
     "name": "stderr",
     "output_type": "stream",
     "text": [
      "     81/100         0G     0.6667     0.3477     0.9106         53        640: 100%|██████████| 7/7 [01:15<00:00, 10.84s/it]\n",
      "                 Class     Images  Instances      Box(P          R      mAP50  mAP50-95): 100%|██████████| 1/1 [00:02<00:00,  2.25s/it]"
     ]
    },
    {
     "name": "stdout",
     "output_type": "stream",
     "text": [
      "                   all         10         46      0.952      0.913      0.974      0.546\n"
     ]
    },
    {
     "name": "stderr",
     "output_type": "stream",
     "text": [
      "\n"
     ]
    },
    {
     "name": "stdout",
     "output_type": "stream",
     "text": [
      "\n",
      "      Epoch    GPU_mem   box_loss   cls_loss   dfl_loss  Instances       Size\n"
     ]
    },
    {
     "name": "stderr",
     "output_type": "stream",
     "text": [
      "     82/100         0G     0.6685     0.3383     0.9151         52        640: 100%|██████████| 7/7 [01:15<00:00, 10.80s/it]\n",
      "                 Class     Images  Instances      Box(P          R      mAP50  mAP50-95): 100%|██████████| 1/1 [00:02<00:00,  2.31s/it]"
     ]
    },
    {
     "name": "stdout",
     "output_type": "stream",
     "text": [
      "                   all         10         46      0.953      0.913      0.965      0.562\n"
     ]
    },
    {
     "name": "stderr",
     "output_type": "stream",
     "text": [
      "\n"
     ]
    },
    {
     "name": "stdout",
     "output_type": "stream",
     "text": [
      "\n",
      "      Epoch    GPU_mem   box_loss   cls_loss   dfl_loss  Instances       Size\n"
     ]
    },
    {
     "name": "stderr",
     "output_type": "stream",
     "text": [
      "     83/100         0G     0.6405     0.3319     0.8948         67        640: 100%|██████████| 7/7 [01:16<00:00, 10.93s/it]\n",
      "                 Class     Images  Instances      Box(P          R      mAP50  mAP50-95): 100%|██████████| 1/1 [00:02<00:00,  2.38s/it]"
     ]
    },
    {
     "name": "stdout",
     "output_type": "stream",
     "text": [
      "                   all         10         46      0.953      0.935      0.981      0.575\n"
     ]
    },
    {
     "name": "stderr",
     "output_type": "stream",
     "text": [
      "\n"
     ]
    },
    {
     "name": "stdout",
     "output_type": "stream",
     "text": [
      "\n",
      "      Epoch    GPU_mem   box_loss   cls_loss   dfl_loss  Instances       Size\n"
     ]
    },
    {
     "name": "stderr",
     "output_type": "stream",
     "text": [
      "     84/100         0G     0.6742     0.3434     0.9139         74        640: 100%|██████████| 7/7 [01:15<00:00, 10.81s/it]\n",
      "                 Class     Images  Instances      Box(P          R      mAP50  mAP50-95): 100%|██████████| 1/1 [00:02<00:00,  2.25s/it]"
     ]
    },
    {
     "name": "stdout",
     "output_type": "stream",
     "text": [
      "                   all         10         46      0.932      0.913      0.964      0.567\n"
     ]
    },
    {
     "name": "stderr",
     "output_type": "stream",
     "text": [
      "\n"
     ]
    },
    {
     "name": "stdout",
     "output_type": "stream",
     "text": [
      "\n",
      "      Epoch    GPU_mem   box_loss   cls_loss   dfl_loss  Instances       Size\n"
     ]
    },
    {
     "name": "stderr",
     "output_type": "stream",
     "text": [
      "     85/100         0G      0.669     0.3461     0.9227         61        640: 100%|██████████| 7/7 [01:16<00:00, 10.89s/it]\n",
      "                 Class     Images  Instances      Box(P          R      mAP50  mAP50-95): 100%|██████████| 1/1 [00:02<00:00,  2.25s/it]"
     ]
    },
    {
     "name": "stdout",
     "output_type": "stream",
     "text": [
      "                   all         10         46      0.914       0.93      0.964      0.574\n"
     ]
    },
    {
     "name": "stderr",
     "output_type": "stream",
     "text": [
      "\n"
     ]
    },
    {
     "name": "stdout",
     "output_type": "stream",
     "text": [
      "\n",
      "      Epoch    GPU_mem   box_loss   cls_loss   dfl_loss  Instances       Size\n"
     ]
    },
    {
     "name": "stderr",
     "output_type": "stream",
     "text": [
      "     86/100         0G     0.6679     0.3455     0.9154         55        640: 100%|██████████| 7/7 [01:15<00:00, 10.72s/it]\n",
      "                 Class     Images  Instances      Box(P          R      mAP50  mAP50-95): 100%|██████████| 1/1 [00:02<00:00,  2.35s/it]"
     ]
    },
    {
     "name": "stdout",
     "output_type": "stream",
     "text": [
      "                   all         10         46      0.954      0.901      0.963      0.572\n"
     ]
    },
    {
     "name": "stderr",
     "output_type": "stream",
     "text": [
      "\n"
     ]
    },
    {
     "name": "stdout",
     "output_type": "stream",
     "text": [
      "\n",
      "      Epoch    GPU_mem   box_loss   cls_loss   dfl_loss  Instances       Size\n"
     ]
    },
    {
     "name": "stderr",
     "output_type": "stream",
     "text": [
      "     87/100         0G     0.6496     0.3456     0.8903         58        640: 100%|██████████| 7/7 [01:15<00:00, 10.76s/it]\n",
      "                 Class     Images  Instances      Box(P          R      mAP50  mAP50-95): 100%|██████████| 1/1 [00:02<00:00,  2.32s/it]"
     ]
    },
    {
     "name": "stdout",
     "output_type": "stream",
     "text": [
      "                   all         10         46      0.977      0.909      0.966      0.576\n"
     ]
    },
    {
     "name": "stderr",
     "output_type": "stream",
     "text": [
      "\n"
     ]
    },
    {
     "name": "stdout",
     "output_type": "stream",
     "text": [
      "\n",
      "      Epoch    GPU_mem   box_loss   cls_loss   dfl_loss  Instances       Size\n"
     ]
    },
    {
     "name": "stderr",
     "output_type": "stream",
     "text": [
      "     88/100         0G     0.6436      0.337     0.8941         40        640: 100%|██████████| 7/7 [01:15<00:00, 10.75s/it]\n",
      "                 Class     Images  Instances      Box(P          R      mAP50  mAP50-95): 100%|██████████| 1/1 [00:02<00:00,  2.25s/it]"
     ]
    },
    {
     "name": "stdout",
     "output_type": "stream",
     "text": [
      "                   all         10         46          1      0.931      0.984      0.569\n"
     ]
    },
    {
     "name": "stderr",
     "output_type": "stream",
     "text": [
      "\n"
     ]
    },
    {
     "name": "stdout",
     "output_type": "stream",
     "text": [
      "\n",
      "      Epoch    GPU_mem   box_loss   cls_loss   dfl_loss  Instances       Size\n"
     ]
    },
    {
     "name": "stderr",
     "output_type": "stream",
     "text": [
      "     89/100         0G     0.6569     0.3405     0.9122         59        640: 100%|██████████| 7/7 [01:15<00:00, 10.73s/it]\n",
      "                 Class     Images  Instances      Box(P          R      mAP50  mAP50-95): 100%|██████████| 1/1 [00:02<00:00,  2.23s/it]"
     ]
    },
    {
     "name": "stdout",
     "output_type": "stream",
     "text": [
      "                   all         10         46      0.958      0.989      0.993      0.574\n"
     ]
    },
    {
     "name": "stderr",
     "output_type": "stream",
     "text": [
      "\n"
     ]
    },
    {
     "name": "stdout",
     "output_type": "stream",
     "text": [
      "\n",
      "      Epoch    GPU_mem   box_loss   cls_loss   dfl_loss  Instances       Size\n"
     ]
    },
    {
     "name": "stderr",
     "output_type": "stream",
     "text": [
      "     90/100         0G     0.6263     0.3325     0.9067         68        640: 100%|██████████| 7/7 [01:15<00:00, 10.75s/it]\n",
      "                 Class     Images  Instances      Box(P          R      mAP50  mAP50-95): 100%|██████████| 1/1 [00:02<00:00,  2.22s/it]"
     ]
    },
    {
     "name": "stdout",
     "output_type": "stream",
     "text": [
      "                   all         10         46      0.958      0.991      0.993      0.579\n"
     ]
    },
    {
     "name": "stderr",
     "output_type": "stream",
     "text": [
      "\n"
     ]
    },
    {
     "name": "stdout",
     "output_type": "stream",
     "text": [
      "Closing dataloader mosaic\n",
      "\n",
      "      Epoch    GPU_mem   box_loss   cls_loss   dfl_loss  Instances       Size\n"
     ]
    },
    {
     "name": "stderr",
     "output_type": "stream",
     "text": [
      "     91/100         0G     0.6202     0.3106     0.8852         39        640: 100%|██████████| 7/7 [01:14<00:00, 10.68s/it]\n",
      "                 Class     Images  Instances      Box(P          R      mAP50  mAP50-95): 100%|██████████| 1/1 [00:02<00:00,  2.34s/it]"
     ]
    },
    {
     "name": "stdout",
     "output_type": "stream",
     "text": [
      "                   all         10         46      0.958      0.991      0.993      0.571\n"
     ]
    },
    {
     "name": "stderr",
     "output_type": "stream",
     "text": [
      "\n"
     ]
    },
    {
     "name": "stdout",
     "output_type": "stream",
     "text": [
      "\n",
      "      Epoch    GPU_mem   box_loss   cls_loss   dfl_loss  Instances       Size\n"
     ]
    },
    {
     "name": "stderr",
     "output_type": "stream",
     "text": [
      "     92/100         0G      0.592     0.2952     0.8715         37        640: 100%|██████████| 7/7 [01:15<00:00, 10.75s/it]\n",
      "                 Class     Images  Instances      Box(P          R      mAP50  mAP50-95): 100%|██████████| 1/1 [00:02<00:00,  2.27s/it]"
     ]
    },
    {
     "name": "stdout",
     "output_type": "stream",
     "text": [
      "                   all         10         46      0.975      0.935      0.986      0.546\n"
     ]
    },
    {
     "name": "stderr",
     "output_type": "stream",
     "text": [
      "\n"
     ]
    },
    {
     "name": "stdout",
     "output_type": "stream",
     "text": [
      "\n",
      "      Epoch    GPU_mem   box_loss   cls_loss   dfl_loss  Instances       Size\n"
     ]
    },
    {
     "name": "stderr",
     "output_type": "stream",
     "text": [
      "     93/100         0G     0.5757     0.2926      0.863         37        640: 100%|██████████| 7/7 [01:14<00:00, 10.66s/it]\n",
      "                 Class     Images  Instances      Box(P          R      mAP50  mAP50-95): 100%|██████████| 1/1 [00:02<00:00,  2.22s/it]"
     ]
    },
    {
     "name": "stdout",
     "output_type": "stream",
     "text": [
      "                   all         10         46      0.915      0.931      0.969      0.525\n"
     ]
    },
    {
     "name": "stderr",
     "output_type": "stream",
     "text": [
      "\n"
     ]
    },
    {
     "name": "stdout",
     "output_type": "stream",
     "text": [
      "\n",
      "      Epoch    GPU_mem   box_loss   cls_loss   dfl_loss  Instances       Size\n"
     ]
    },
    {
     "name": "stderr",
     "output_type": "stream",
     "text": [
      "     94/100         0G     0.5682     0.2932     0.8669         37        640: 100%|██████████| 7/7 [01:14<00:00, 10.68s/it]\n",
      "                 Class     Images  Instances      Box(P          R      mAP50  mAP50-95): 100%|██████████| 1/1 [00:02<00:00,  2.69s/it]"
     ]
    },
    {
     "name": "stdout",
     "output_type": "stream",
     "text": [
      "                   all         10         46      0.915      0.931      0.958      0.532\n"
     ]
    },
    {
     "name": "stderr",
     "output_type": "stream",
     "text": [
      "\n"
     ]
    },
    {
     "name": "stdout",
     "output_type": "stream",
     "text": [
      "\n",
      "      Epoch    GPU_mem   box_loss   cls_loss   dfl_loss  Instances       Size\n"
     ]
    },
    {
     "name": "stderr",
     "output_type": "stream",
     "text": [
      "     95/100         0G     0.5641     0.2896     0.8671         36        640: 100%|██████████| 7/7 [01:53<00:00, 16.15s/it]\n",
      "                 Class     Images  Instances      Box(P          R      mAP50  mAP50-95): 100%|██████████| 1/1 [00:03<00:00,  3.33s/it]"
     ]
    },
    {
     "name": "stdout",
     "output_type": "stream",
     "text": [
      "                   all         10         46      0.956      0.955      0.991      0.548\n"
     ]
    },
    {
     "name": "stderr",
     "output_type": "stream",
     "text": [
      "\n"
     ]
    },
    {
     "name": "stdout",
     "output_type": "stream",
     "text": [
      "\n",
      "      Epoch    GPU_mem   box_loss   cls_loss   dfl_loss  Instances       Size\n"
     ]
    },
    {
     "name": "stderr",
     "output_type": "stream",
     "text": [
      "     96/100         0G     0.5283     0.2726     0.8448         39        640: 100%|██████████| 7/7 [01:52<00:00, 16.05s/it]\n",
      "                 Class     Images  Instances      Box(P          R      mAP50  mAP50-95): 100%|██████████| 1/1 [00:03<00:00,  3.35s/it]"
     ]
    },
    {
     "name": "stdout",
     "output_type": "stream",
     "text": [
      "                   all         10         46      0.958      0.981      0.992      0.566\n"
     ]
    },
    {
     "name": "stderr",
     "output_type": "stream",
     "text": [
      "\n"
     ]
    },
    {
     "name": "stdout",
     "output_type": "stream",
     "text": [
      "\n",
      "      Epoch    GPU_mem   box_loss   cls_loss   dfl_loss  Instances       Size\n"
     ]
    },
    {
     "name": "stderr",
     "output_type": "stream",
     "text": [
      "     97/100         0G     0.5217     0.2778     0.8468         39        640: 100%|██████████| 7/7 [01:50<00:00, 15.82s/it]\n",
      "                 Class     Images  Instances      Box(P          R      mAP50  mAP50-95): 100%|██████████| 1/1 [00:03<00:00,  3.38s/it]"
     ]
    },
    {
     "name": "stdout",
     "output_type": "stream",
     "text": [
      "                   all         10         46      0.958      0.991      0.992      0.572\n"
     ]
    },
    {
     "name": "stderr",
     "output_type": "stream",
     "text": [
      "\n"
     ]
    },
    {
     "name": "stdout",
     "output_type": "stream",
     "text": [
      "\n",
      "      Epoch    GPU_mem   box_loss   cls_loss   dfl_loss  Instances       Size\n"
     ]
    },
    {
     "name": "stderr",
     "output_type": "stream",
     "text": [
      "     98/100         0G     0.5283     0.2756     0.8479         39        640: 100%|██████████| 7/7 [01:55<00:00, 16.45s/it]\n",
      "                 Class     Images  Instances      Box(P          R      mAP50  mAP50-95): 100%|██████████| 1/1 [00:03<00:00,  3.22s/it]"
     ]
    },
    {
     "name": "stdout",
     "output_type": "stream",
     "text": [
      "                   all         10         46      0.958      0.996      0.992      0.569\n"
     ]
    },
    {
     "name": "stderr",
     "output_type": "stream",
     "text": [
      "\n"
     ]
    },
    {
     "name": "stdout",
     "output_type": "stream",
     "text": [
      "\n",
      "      Epoch    GPU_mem   box_loss   cls_loss   dfl_loss  Instances       Size\n"
     ]
    },
    {
     "name": "stderr",
     "output_type": "stream",
     "text": [
      "     99/100         0G     0.5292     0.2698      0.869         41        640: 100%|██████████| 7/7 [01:49<00:00, 15.62s/it]\n",
      "                 Class     Images  Instances      Box(P          R      mAP50  mAP50-95): 100%|██████████| 1/1 [00:03<00:00,  3.15s/it]"
     ]
    },
    {
     "name": "stdout",
     "output_type": "stream",
     "text": [
      "                   all         10         46      0.939      0.999       0.99      0.559\n"
     ]
    },
    {
     "name": "stderr",
     "output_type": "stream",
     "text": [
      "\n"
     ]
    },
    {
     "name": "stdout",
     "output_type": "stream",
     "text": [
      "\n",
      "      Epoch    GPU_mem   box_loss   cls_loss   dfl_loss  Instances       Size\n"
     ]
    },
    {
     "name": "stderr",
     "output_type": "stream",
     "text": [
      "    100/100         0G     0.5184     0.2723     0.8559         39        640: 100%|██████████| 7/7 [01:49<00:00, 15.64s/it]\n",
      "                 Class     Images  Instances      Box(P          R      mAP50  mAP50-95): 100%|██████████| 1/1 [00:03<00:00,  3.31s/it]"
     ]
    },
    {
     "name": "stdout",
     "output_type": "stream",
     "text": [
      "                   all         10         46      0.938      0.995       0.99      0.556\n"
     ]
    },
    {
     "name": "stderr",
     "output_type": "stream",
     "text": [
      "\n"
     ]
    },
    {
     "name": "stdout",
     "output_type": "stream",
     "text": [
      "\n",
      "100 epochs completed in 2.768 hours.\n",
      "Optimizer stripped from C:\\Users\\praph\\runs\\detect\\train30\\weights\\last.pt, 22.5MB\n",
      "Optimizer stripped from C:\\Users\\praph\\runs\\detect\\train30\\weights\\best.pt, 22.5MB\n",
      "\n",
      "Validating C:\\Users\\praph\\runs\\detect\\train30\\weights\\best.pt...\n",
      "Ultralytics YOLOv8.2.12  Python-3.12.3 torch-2.3.0+cpu CPU (AMD Ryzen 5 7535U with Radeon Graphics)\n",
      "Model summary (fused): 168 layers, 11125971 parameters, 0 gradients, 28.4 GFLOPs\n"
     ]
    },
    {
     "name": "stderr",
     "output_type": "stream",
     "text": [
      "                 Class     Images  Instances      Box(P          R      mAP50  mAP50-95): 100%|██████████| 1/1 [00:03<00:00,  3.06s/it]\n"
     ]
    },
    {
     "name": "stdout",
     "output_type": "stream",
     "text": [
      "                   all         10         46      0.958      0.991      0.993      0.579\n",
      "Speed: 3.0ms preprocess, 250.6ms inference, 0.0ms loss, 1.6ms postprocess per image\n",
      "Results saved to \u001b[1mC:\\Users\\praph\\runs\\detect\\train30\u001b[0m\n"
     ]
    },
    {
     "data": {
      "text/plain": [
       "ultralytics.utils.metrics.DetMetrics object with attributes:\n",
       "\n",
       "ap_class_index: array([0])\n",
       "box: ultralytics.utils.metrics.Metric object\n",
       "confusion_matrix: <ultralytics.utils.metrics.ConfusionMatrix object at 0x00000238D3EF9F40>\n",
       "curves: ['Precision-Recall(B)', 'F1-Confidence(B)', 'Precision-Confidence(B)', 'Recall-Confidence(B)']\n",
       "curves_results: [[array([          0,    0.001001,    0.002002,    0.003003,    0.004004,    0.005005,    0.006006,    0.007007,    0.008008,    0.009009,     0.01001,    0.011011,    0.012012,    0.013013,    0.014014,    0.015015,    0.016016,    0.017017,    0.018018,    0.019019,     0.02002,    0.021021,    0.022022,    0.023023,\n",
       "          0.024024,    0.025025,    0.026026,    0.027027,    0.028028,    0.029029,     0.03003,    0.031031,    0.032032,    0.033033,    0.034034,    0.035035,    0.036036,    0.037037,    0.038038,    0.039039,     0.04004,    0.041041,    0.042042,    0.043043,    0.044044,    0.045045,    0.046046,    0.047047,\n",
       "          0.048048,    0.049049,     0.05005,    0.051051,    0.052052,    0.053053,    0.054054,    0.055055,    0.056056,    0.057057,    0.058058,    0.059059,     0.06006,    0.061061,    0.062062,    0.063063,    0.064064,    0.065065,    0.066066,    0.067067,    0.068068,    0.069069,     0.07007,    0.071071,\n",
       "          0.072072,    0.073073,    0.074074,    0.075075,    0.076076,    0.077077,    0.078078,    0.079079,     0.08008,    0.081081,    0.082082,    0.083083,    0.084084,    0.085085,    0.086086,    0.087087,    0.088088,    0.089089,     0.09009,    0.091091,    0.092092,    0.093093,    0.094094,    0.095095,\n",
       "          0.096096,    0.097097,    0.098098,    0.099099,      0.1001,      0.1011,      0.1021,      0.1031,      0.1041,     0.10511,     0.10611,     0.10711,     0.10811,     0.10911,     0.11011,     0.11111,     0.11211,     0.11311,     0.11411,     0.11512,     0.11612,     0.11712,     0.11812,     0.11912,\n",
       "           0.12012,     0.12112,     0.12212,     0.12312,     0.12412,     0.12513,     0.12613,     0.12713,     0.12813,     0.12913,     0.13013,     0.13113,     0.13213,     0.13313,     0.13413,     0.13514,     0.13614,     0.13714,     0.13814,     0.13914,     0.14014,     0.14114,     0.14214,     0.14314,\n",
       "           0.14414,     0.14515,     0.14615,     0.14715,     0.14815,     0.14915,     0.15015,     0.15115,     0.15215,     0.15315,     0.15415,     0.15516,     0.15616,     0.15716,     0.15816,     0.15916,     0.16016,     0.16116,     0.16216,     0.16316,     0.16416,     0.16517,     0.16617,     0.16717,\n",
       "           0.16817,     0.16917,     0.17017,     0.17117,     0.17217,     0.17317,     0.17417,     0.17518,     0.17618,     0.17718,     0.17818,     0.17918,     0.18018,     0.18118,     0.18218,     0.18318,     0.18418,     0.18519,     0.18619,     0.18719,     0.18819,     0.18919,     0.19019,     0.19119,\n",
       "           0.19219,     0.19319,     0.19419,      0.1952,      0.1962,      0.1972,      0.1982,      0.1992,      0.2002,      0.2012,      0.2022,      0.2032,      0.2042,     0.20521,     0.20621,     0.20721,     0.20821,     0.20921,     0.21021,     0.21121,     0.21221,     0.21321,     0.21421,     0.21522,\n",
       "           0.21622,     0.21722,     0.21822,     0.21922,     0.22022,     0.22122,     0.22222,     0.22322,     0.22422,     0.22523,     0.22623,     0.22723,     0.22823,     0.22923,     0.23023,     0.23123,     0.23223,     0.23323,     0.23423,     0.23524,     0.23624,     0.23724,     0.23824,     0.23924,\n",
       "           0.24024,     0.24124,     0.24224,     0.24324,     0.24424,     0.24525,     0.24625,     0.24725,     0.24825,     0.24925,     0.25025,     0.25125,     0.25225,     0.25325,     0.25425,     0.25526,     0.25626,     0.25726,     0.25826,     0.25926,     0.26026,     0.26126,     0.26226,     0.26326,\n",
       "           0.26426,     0.26527,     0.26627,     0.26727,     0.26827,     0.26927,     0.27027,     0.27127,     0.27227,     0.27327,     0.27427,     0.27528,     0.27628,     0.27728,     0.27828,     0.27928,     0.28028,     0.28128,     0.28228,     0.28328,     0.28428,     0.28529,     0.28629,     0.28729,\n",
       "           0.28829,     0.28929,     0.29029,     0.29129,     0.29229,     0.29329,     0.29429,      0.2953,      0.2963,      0.2973,      0.2983,      0.2993,      0.3003,      0.3013,      0.3023,      0.3033,      0.3043,     0.30531,     0.30631,     0.30731,     0.30831,     0.30931,     0.31031,     0.31131,\n",
       "           0.31231,     0.31331,     0.31431,     0.31532,     0.31632,     0.31732,     0.31832,     0.31932,     0.32032,     0.32132,     0.32232,     0.32332,     0.32432,     0.32533,     0.32633,     0.32733,     0.32833,     0.32933,     0.33033,     0.33133,     0.33233,     0.33333,     0.33433,     0.33534,\n",
       "           0.33634,     0.33734,     0.33834,     0.33934,     0.34034,     0.34134,     0.34234,     0.34334,     0.34434,     0.34535,     0.34635,     0.34735,     0.34835,     0.34935,     0.35035,     0.35135,     0.35235,     0.35335,     0.35435,     0.35536,     0.35636,     0.35736,     0.35836,     0.35936,\n",
       "           0.36036,     0.36136,     0.36236,     0.36336,     0.36436,     0.36537,     0.36637,     0.36737,     0.36837,     0.36937,     0.37037,     0.37137,     0.37237,     0.37337,     0.37437,     0.37538,     0.37638,     0.37738,     0.37838,     0.37938,     0.38038,     0.38138,     0.38238,     0.38338,\n",
       "           0.38438,     0.38539,     0.38639,     0.38739,     0.38839,     0.38939,     0.39039,     0.39139,     0.39239,     0.39339,     0.39439,      0.3954,      0.3964,      0.3974,      0.3984,      0.3994,      0.4004,      0.4014,      0.4024,      0.4034,      0.4044,     0.40541,     0.40641,     0.40741,\n",
       "           0.40841,     0.40941,     0.41041,     0.41141,     0.41241,     0.41341,     0.41441,     0.41542,     0.41642,     0.41742,     0.41842,     0.41942,     0.42042,     0.42142,     0.42242,     0.42342,     0.42442,     0.42543,     0.42643,     0.42743,     0.42843,     0.42943,     0.43043,     0.43143,\n",
       "           0.43243,     0.43343,     0.43443,     0.43544,     0.43644,     0.43744,     0.43844,     0.43944,     0.44044,     0.44144,     0.44244,     0.44344,     0.44444,     0.44545,     0.44645,     0.44745,     0.44845,     0.44945,     0.45045,     0.45145,     0.45245,     0.45345,     0.45445,     0.45546,\n",
       "           0.45646,     0.45746,     0.45846,     0.45946,     0.46046,     0.46146,     0.46246,     0.46346,     0.46446,     0.46547,     0.46647,     0.46747,     0.46847,     0.46947,     0.47047,     0.47147,     0.47247,     0.47347,     0.47447,     0.47548,     0.47648,     0.47748,     0.47848,     0.47948,\n",
       "           0.48048,     0.48148,     0.48248,     0.48348,     0.48448,     0.48549,     0.48649,     0.48749,     0.48849,     0.48949,     0.49049,     0.49149,     0.49249,     0.49349,     0.49449,      0.4955,      0.4965,      0.4975,      0.4985,      0.4995,      0.5005,      0.5015,      0.5025,      0.5035,\n",
       "            0.5045,     0.50551,     0.50651,     0.50751,     0.50851,     0.50951,     0.51051,     0.51151,     0.51251,     0.51351,     0.51451,     0.51552,     0.51652,     0.51752,     0.51852,     0.51952,     0.52052,     0.52152,     0.52252,     0.52352,     0.52452,     0.52553,     0.52653,     0.52753,\n",
       "           0.52853,     0.52953,     0.53053,     0.53153,     0.53253,     0.53353,     0.53453,     0.53554,     0.53654,     0.53754,     0.53854,     0.53954,     0.54054,     0.54154,     0.54254,     0.54354,     0.54454,     0.54555,     0.54655,     0.54755,     0.54855,     0.54955,     0.55055,     0.55155,\n",
       "           0.55255,     0.55355,     0.55455,     0.55556,     0.55656,     0.55756,     0.55856,     0.55956,     0.56056,     0.56156,     0.56256,     0.56356,     0.56456,     0.56557,     0.56657,     0.56757,     0.56857,     0.56957,     0.57057,     0.57157,     0.57257,     0.57357,     0.57457,     0.57558,\n",
       "           0.57658,     0.57758,     0.57858,     0.57958,     0.58058,     0.58158,     0.58258,     0.58358,     0.58458,     0.58559,     0.58659,     0.58759,     0.58859,     0.58959,     0.59059,     0.59159,     0.59259,     0.59359,     0.59459,      0.5956,      0.5966,      0.5976,      0.5986,      0.5996,\n",
       "            0.6006,      0.6016,      0.6026,      0.6036,      0.6046,     0.60561,     0.60661,     0.60761,     0.60861,     0.60961,     0.61061,     0.61161,     0.61261,     0.61361,     0.61461,     0.61562,     0.61662,     0.61762,     0.61862,     0.61962,     0.62062,     0.62162,     0.62262,     0.62362,\n",
       "           0.62462,     0.62563,     0.62663,     0.62763,     0.62863,     0.62963,     0.63063,     0.63163,     0.63263,     0.63363,     0.63463,     0.63564,     0.63664,     0.63764,     0.63864,     0.63964,     0.64064,     0.64164,     0.64264,     0.64364,     0.64464,     0.64565,     0.64665,     0.64765,\n",
       "           0.64865,     0.64965,     0.65065,     0.65165,     0.65265,     0.65365,     0.65465,     0.65566,     0.65666,     0.65766,     0.65866,     0.65966,     0.66066,     0.66166,     0.66266,     0.66366,     0.66466,     0.66567,     0.66667,     0.66767,     0.66867,     0.66967,     0.67067,     0.67167,\n",
       "           0.67267,     0.67367,     0.67467,     0.67568,     0.67668,     0.67768,     0.67868,     0.67968,     0.68068,     0.68168,     0.68268,     0.68368,     0.68468,     0.68569,     0.68669,     0.68769,     0.68869,     0.68969,     0.69069,     0.69169,     0.69269,     0.69369,     0.69469,      0.6957,\n",
       "            0.6967,      0.6977,      0.6987,      0.6997,      0.7007,      0.7017,      0.7027,      0.7037,      0.7047,     0.70571,     0.70671,     0.70771,     0.70871,     0.70971,     0.71071,     0.71171,     0.71271,     0.71371,     0.71471,     0.71572,     0.71672,     0.71772,     0.71872,     0.71972,\n",
       "           0.72072,     0.72172,     0.72272,     0.72372,     0.72472,     0.72573,     0.72673,     0.72773,     0.72873,     0.72973,     0.73073,     0.73173,     0.73273,     0.73373,     0.73473,     0.73574,     0.73674,     0.73774,     0.73874,     0.73974,     0.74074,     0.74174,     0.74274,     0.74374,\n",
       "           0.74474,     0.74575,     0.74675,     0.74775,     0.74875,     0.74975,     0.75075,     0.75175,     0.75275,     0.75375,     0.75475,     0.75576,     0.75676,     0.75776,     0.75876,     0.75976,     0.76076,     0.76176,     0.76276,     0.76376,     0.76476,     0.76577,     0.76677,     0.76777,\n",
       "           0.76877,     0.76977,     0.77077,     0.77177,     0.77277,     0.77377,     0.77477,     0.77578,     0.77678,     0.77778,     0.77878,     0.77978,     0.78078,     0.78178,     0.78278,     0.78378,     0.78478,     0.78579,     0.78679,     0.78779,     0.78879,     0.78979,     0.79079,     0.79179,\n",
       "           0.79279,     0.79379,     0.79479,      0.7958,      0.7968,      0.7978,      0.7988,      0.7998,      0.8008,      0.8018,      0.8028,      0.8038,      0.8048,     0.80581,     0.80681,     0.80781,     0.80881,     0.80981,     0.81081,     0.81181,     0.81281,     0.81381,     0.81481,     0.81582,\n",
       "           0.81682,     0.81782,     0.81882,     0.81982,     0.82082,     0.82182,     0.82282,     0.82382,     0.82482,     0.82583,     0.82683,     0.82783,     0.82883,     0.82983,     0.83083,     0.83183,     0.83283,     0.83383,     0.83483,     0.83584,     0.83684,     0.83784,     0.83884,     0.83984,\n",
       "           0.84084,     0.84184,     0.84284,     0.84384,     0.84484,     0.84585,     0.84685,     0.84785,     0.84885,     0.84985,     0.85085,     0.85185,     0.85285,     0.85385,     0.85485,     0.85586,     0.85686,     0.85786,     0.85886,     0.85986,     0.86086,     0.86186,     0.86286,     0.86386,\n",
       "           0.86486,     0.86587,     0.86687,     0.86787,     0.86887,     0.86987,     0.87087,     0.87187,     0.87287,     0.87387,     0.87487,     0.87588,     0.87688,     0.87788,     0.87888,     0.87988,     0.88088,     0.88188,     0.88288,     0.88388,     0.88488,     0.88589,     0.88689,     0.88789,\n",
       "           0.88889,     0.88989,     0.89089,     0.89189,     0.89289,     0.89389,     0.89489,      0.8959,      0.8969,      0.8979,      0.8989,      0.8999,      0.9009,      0.9019,      0.9029,      0.9039,      0.9049,     0.90591,     0.90691,     0.90791,     0.90891,     0.90991,     0.91091,     0.91191,\n",
       "           0.91291,     0.91391,     0.91491,     0.91592,     0.91692,     0.91792,     0.91892,     0.91992,     0.92092,     0.92192,     0.92292,     0.92392,     0.92492,     0.92593,     0.92693,     0.92793,     0.92893,     0.92993,     0.93093,     0.93193,     0.93293,     0.93393,     0.93493,     0.93594,\n",
       "           0.93694,     0.93794,     0.93894,     0.93994,     0.94094,     0.94194,     0.94294,     0.94394,     0.94494,     0.94595,     0.94695,     0.94795,     0.94895,     0.94995,     0.95095,     0.95195,     0.95295,     0.95395,     0.95495,     0.95596,     0.95696,     0.95796,     0.95896,     0.95996,\n",
       "           0.96096,     0.96196,     0.96296,     0.96396,     0.96496,     0.96597,     0.96697,     0.96797,     0.96897,     0.96997,     0.97097,     0.97197,     0.97297,     0.97397,     0.97497,     0.97598,     0.97698,     0.97798,     0.97898,     0.97998,     0.98098,     0.98198,     0.98298,     0.98398,\n",
       "           0.98498,     0.98599,     0.98699,     0.98799,     0.98899,     0.98999,     0.99099,     0.99199,     0.99299,     0.99399,     0.99499,       0.996,       0.997,       0.998,       0.999,           1]), array([[          1,           1,           1,           1,           1,           1,           1,           1,           1,           1,           1,           1,           1,           1,           1,           1,           1,           1,           1,           1,           1,           1,           1,\n",
       "                  1,           1,           1,           1,           1,           1,           1,           1,           1,           1,           1,           1,           1,           1,           1,           1,           1,           1,           1,           1,           1,           1,           1,\n",
       "                  1,           1,           1,           1,           1,           1,           1,           1,           1,           1,           1,           1,           1,           1,           1,           1,           1,           1,           1,           1,           1,           1,           1,\n",
       "                  1,           1,           1,           1,           1,           1,           1,           1,           1,           1,           1,           1,           1,           1,           1,           1,           1,           1,           1,           1,           1,           1,           1,\n",
       "                  1,           1,           1,           1,           1,           1,           1,           1,           1,           1,           1,           1,           1,           1,           1,           1,           1,           1,           1,           1,           1,           1,           1,\n",
       "                  1,           1,           1,           1,           1,           1,           1,           1,           1,           1,           1,           1,           1,           1,           1,           1,           1,           1,           1,           1,           1,           1,           1,\n",
       "                  1,           1,           1,           1,           1,           1,           1,           1,           1,           1,           1,           1,           1,           1,           1,           1,           1,           1,           1,           1,           1,           1,           1,\n",
       "                  1,           1,           1,           1,           1,           1,           1,           1,           1,           1,           1,           1,           1,           1,           1,           1,           1,           1,           1,           1,           1,           1,           1,\n",
       "                  1,           1,           1,           1,           1,           1,           1,           1,           1,           1,           1,           1,           1,           1,           1,           1,           1,           1,           1,           1,           1,           1,           1,\n",
       "                  1,           1,           1,           1,           1,           1,           1,           1,           1,           1,           1,           1,           1,           1,           1,           1,           1,           1,           1,           1,           1,           1,           1,\n",
       "                  1,           1,           1,           1,           1,           1,           1,           1,           1,           1,           1,           1,           1,           1,           1,           1,           1,           1,           1,           1,           1,           1,           1,\n",
       "                  1,           1,           1,           1,           1,           1,           1,           1,           1,           1,           1,           1,           1,           1,           1,           1,           1,           1,           1,           1,           1,           1,           1,\n",
       "                  1,           1,           1,           1,           1,           1,           1,           1,           1,           1,           1,           1,           1,           1,           1,           1,           1,           1,           1,           1,           1,           1,           1,\n",
       "                  1,           1,           1,           1,           1,           1,           1,           1,           1,           1,           1,           1,           1,           1,           1,           1,           1,           1,           1,           1,           1,           1,           1,\n",
       "                  1,           1,           1,           1,           1,           1,           1,           1,           1,           1,           1,           1,           1,           1,           1,           1,           1,           1,           1,           1,           1,           1,           1,\n",
       "                  1,           1,           1,           1,           1,           1,           1,           1,           1,           1,           1,           1,           1,           1,           1,           1,           1,           1,           1,           1,           1,           1,           1,\n",
       "                  1,           1,           1,           1,           1,           1,           1,           1,           1,           1,           1,           1,           1,           1,           1,           1,           1,           1,           1,           1,           1,           1,           1,\n",
       "                  1,           1,           1,           1,           1,           1,           1,           1,           1,           1,           1,           1,           1,           1,           1,           1,           1,           1,           1,           1,           1,           1,           1,\n",
       "                  1,           1,           1,           1,           1,           1,           1,           1,           1,           1,           1,           1,           1,           1,           1,           1,           1,           1,           1,           1,           1,           1,           1,\n",
       "                  1,           1,           1,           1,           1,           1,           1,           1,           1,           1,           1,           1,           1,           1,           1,           1,           1,           1,           1,           1,           1,           1,           1,\n",
       "                  1,           1,           1,           1,           1,           1,           1,           1,           1,           1,           1,           1,           1,           1,           1,           1,           1,           1,           1,           1,           1,           1,           1,\n",
       "                  1,           1,           1,           1,           1,           1,           1,           1,           1,           1,           1,           1,           1,           1,           1,           1,           1,           1,           1,           1,           1,           1,           1,\n",
       "                  1,           1,           1,           1,           1,           1,           1,           1,           1,           1,           1,           1,           1,           1,           1,           1,           1,           1,           1,           1,           1,           1,           1,\n",
       "                  1,           1,           1,           1,           1,           1,           1,           1,           1,           1,           1,           1,           1,           1,           1,           1,           1,           1,           1,           1,           1,           1,           1,\n",
       "                  1,           1,           1,           1,           1,           1,           1,           1,           1,           1,           1,           1,           1,           1,           1,           1,           1,           1,           1,           1,           1,           1,           1,\n",
       "                  1,           1,           1,           1,           1,           1,           1,           1,           1,           1,           1,           1,           1,           1,           1,           1,           1,           1,           1,           1,           1,           1,           1,\n",
       "                  1,           1,           1,           1,           1,           1,           1,           1,           1,           1,           1,           1,           1,           1,           1,           1,           1,           1,           1,           1,           1,           1,           1,\n",
       "                  1,           1,           1,           1,           1,           1,           1,           1,           1,           1,           1,           1,           1,           1,           1,           1,           1,           1,           1,           1,           1,           1,           1,\n",
       "                  1,           1,           1,           1,           1,           1,           1,           1,           1,           1,           1,           1,           1,           1,           1,           1,           1,           1,           1,           1,           1,           1,           1,\n",
       "                  1,           1,           1,           1,           1,           1,           1,           1,           1,           1,           1,           1,           1,           1,           1,           1,           1,           1,           1,           1,           1,           1,           1,\n",
       "                  1,           1,           1,           1,           1,           1,           1,           1,           1,           1,           1,           1,           1,           1,           1,           1,           1,           1,           1,           1,           1,           1,           1,\n",
       "                  1,           1,           1,           1,           1,           1,           1,           1,           1,           1,           1,           1,           1,           1,           1,           1,           1,           1,           1,           1,           1,           1,           1,\n",
       "                  1,           1,           1,           1,           1,           1,           1,           1,           1,           1,           1,           1,           1,           1,           1,           1,           1,           1,           1,           1,           1,           1,           1,\n",
       "                  1,           1,           1,           1,           1,           1,           1,           1,           1,           1,           1,           1,           1,           1,           1,           1,           1,           1,           1,           1,           1,           1,           1,\n",
       "                  1,           1,           1,           1,           1,           1,           1,           1,           1,           1,           1,           1,           1,           1,           1,           1,           1,           1,           1,           1,           1,           1,           1,\n",
       "                  1,           1,           1,           1,           1,           1,           1,           1,           1,           1,           1,           1,           1,           1,           1,           1,           1,           1,           1,           1,           1,           1,           1,\n",
       "                  1,           1,           1,           1,           1,           1,           1,           1,           1,           1,           1,           1,           1,           1,           1,           1,           1,           1,           1,           1,           1,           1,           1,\n",
       "                  1,           1,           1,           1,           1,           1,           1,           1,           1,           1,           1,           1,           1,           1,           1,           1,           1,           1,           1,           1,           1,           1,           1,\n",
       "                  1,           1,           1,           1,           1,           1,           1,           1,           1,           1,           1,           1,           1,           1,           1,           1,           1,           1,           1,           1,           1,           1,           1,\n",
       "                  1,           1,           1,           1,           1,           1,           1,           1,           1,           1,           1,           1,           1,           1,           1,           1,           1,           1,           1,           1,           1,           1,           1,\n",
       "                  1,           1,           1,           1,           1,           1,           1,           1,           1,           1,           1,           1,           1,           1,     0.95833,     0.95833,     0.95833,     0.95833,     0.95833,     0.95833,     0.95833,     0.95833,     0.95833,\n",
       "            0.95833,     0.95833,     0.95833,     0.95833,     0.95833,     0.95833,     0.95833,     0.95833,     0.95833,     0.95833,     0.95833,     0.95833,     0.95833,     0.95833,     0.95833,     0.95833,     0.95833,     0.95833,     0.95833,     0.95833,     0.95833,     0.95833,     0.95833,\n",
       "            0.95833,     0.95833,     0.95833,     0.95833,     0.95833,     0.95833,     0.95833,     0.95833,     0.95833,     0.95833,     0.95833,     0.95833,     0.95833,     0.95833,     0.95833,     0.95833,     0.95833,     0.95833,     0.95833,     0.95833,     0.95833,     0.95833,     0.95833,\n",
       "            0.95833,     0.95833,     0.95833,     0.95833,     0.95833,     0.95833,     0.95833,     0.95833,     0.95833,     0.95833,           0]]), 'Recall', 'Precision'], [array([          0,    0.001001,    0.002002,    0.003003,    0.004004,    0.005005,    0.006006,    0.007007,    0.008008,    0.009009,     0.01001,    0.011011,    0.012012,    0.013013,    0.014014,    0.015015,    0.016016,    0.017017,    0.018018,    0.019019,     0.02002,    0.021021,    0.022022,    0.023023,\n",
       "          0.024024,    0.025025,    0.026026,    0.027027,    0.028028,    0.029029,     0.03003,    0.031031,    0.032032,    0.033033,    0.034034,    0.035035,    0.036036,    0.037037,    0.038038,    0.039039,     0.04004,    0.041041,    0.042042,    0.043043,    0.044044,    0.045045,    0.046046,    0.047047,\n",
       "          0.048048,    0.049049,     0.05005,    0.051051,    0.052052,    0.053053,    0.054054,    0.055055,    0.056056,    0.057057,    0.058058,    0.059059,     0.06006,    0.061061,    0.062062,    0.063063,    0.064064,    0.065065,    0.066066,    0.067067,    0.068068,    0.069069,     0.07007,    0.071071,\n",
       "          0.072072,    0.073073,    0.074074,    0.075075,    0.076076,    0.077077,    0.078078,    0.079079,     0.08008,    0.081081,    0.082082,    0.083083,    0.084084,    0.085085,    0.086086,    0.087087,    0.088088,    0.089089,     0.09009,    0.091091,    0.092092,    0.093093,    0.094094,    0.095095,\n",
       "          0.096096,    0.097097,    0.098098,    0.099099,      0.1001,      0.1011,      0.1021,      0.1031,      0.1041,     0.10511,     0.10611,     0.10711,     0.10811,     0.10911,     0.11011,     0.11111,     0.11211,     0.11311,     0.11411,     0.11512,     0.11612,     0.11712,     0.11812,     0.11912,\n",
       "           0.12012,     0.12112,     0.12212,     0.12312,     0.12412,     0.12513,     0.12613,     0.12713,     0.12813,     0.12913,     0.13013,     0.13113,     0.13213,     0.13313,     0.13413,     0.13514,     0.13614,     0.13714,     0.13814,     0.13914,     0.14014,     0.14114,     0.14214,     0.14314,\n",
       "           0.14414,     0.14515,     0.14615,     0.14715,     0.14815,     0.14915,     0.15015,     0.15115,     0.15215,     0.15315,     0.15415,     0.15516,     0.15616,     0.15716,     0.15816,     0.15916,     0.16016,     0.16116,     0.16216,     0.16316,     0.16416,     0.16517,     0.16617,     0.16717,\n",
       "           0.16817,     0.16917,     0.17017,     0.17117,     0.17217,     0.17317,     0.17417,     0.17518,     0.17618,     0.17718,     0.17818,     0.17918,     0.18018,     0.18118,     0.18218,     0.18318,     0.18418,     0.18519,     0.18619,     0.18719,     0.18819,     0.18919,     0.19019,     0.19119,\n",
       "           0.19219,     0.19319,     0.19419,      0.1952,      0.1962,      0.1972,      0.1982,      0.1992,      0.2002,      0.2012,      0.2022,      0.2032,      0.2042,     0.20521,     0.20621,     0.20721,     0.20821,     0.20921,     0.21021,     0.21121,     0.21221,     0.21321,     0.21421,     0.21522,\n",
       "           0.21622,     0.21722,     0.21822,     0.21922,     0.22022,     0.22122,     0.22222,     0.22322,     0.22422,     0.22523,     0.22623,     0.22723,     0.22823,     0.22923,     0.23023,     0.23123,     0.23223,     0.23323,     0.23423,     0.23524,     0.23624,     0.23724,     0.23824,     0.23924,\n",
       "           0.24024,     0.24124,     0.24224,     0.24324,     0.24424,     0.24525,     0.24625,     0.24725,     0.24825,     0.24925,     0.25025,     0.25125,     0.25225,     0.25325,     0.25425,     0.25526,     0.25626,     0.25726,     0.25826,     0.25926,     0.26026,     0.26126,     0.26226,     0.26326,\n",
       "           0.26426,     0.26527,     0.26627,     0.26727,     0.26827,     0.26927,     0.27027,     0.27127,     0.27227,     0.27327,     0.27427,     0.27528,     0.27628,     0.27728,     0.27828,     0.27928,     0.28028,     0.28128,     0.28228,     0.28328,     0.28428,     0.28529,     0.28629,     0.28729,\n",
       "           0.28829,     0.28929,     0.29029,     0.29129,     0.29229,     0.29329,     0.29429,      0.2953,      0.2963,      0.2973,      0.2983,      0.2993,      0.3003,      0.3013,      0.3023,      0.3033,      0.3043,     0.30531,     0.30631,     0.30731,     0.30831,     0.30931,     0.31031,     0.31131,\n",
       "           0.31231,     0.31331,     0.31431,     0.31532,     0.31632,     0.31732,     0.31832,     0.31932,     0.32032,     0.32132,     0.32232,     0.32332,     0.32432,     0.32533,     0.32633,     0.32733,     0.32833,     0.32933,     0.33033,     0.33133,     0.33233,     0.33333,     0.33433,     0.33534,\n",
       "           0.33634,     0.33734,     0.33834,     0.33934,     0.34034,     0.34134,     0.34234,     0.34334,     0.34434,     0.34535,     0.34635,     0.34735,     0.34835,     0.34935,     0.35035,     0.35135,     0.35235,     0.35335,     0.35435,     0.35536,     0.35636,     0.35736,     0.35836,     0.35936,\n",
       "           0.36036,     0.36136,     0.36236,     0.36336,     0.36436,     0.36537,     0.36637,     0.36737,     0.36837,     0.36937,     0.37037,     0.37137,     0.37237,     0.37337,     0.37437,     0.37538,     0.37638,     0.37738,     0.37838,     0.37938,     0.38038,     0.38138,     0.38238,     0.38338,\n",
       "           0.38438,     0.38539,     0.38639,     0.38739,     0.38839,     0.38939,     0.39039,     0.39139,     0.39239,     0.39339,     0.39439,      0.3954,      0.3964,      0.3974,      0.3984,      0.3994,      0.4004,      0.4014,      0.4024,      0.4034,      0.4044,     0.40541,     0.40641,     0.40741,\n",
       "           0.40841,     0.40941,     0.41041,     0.41141,     0.41241,     0.41341,     0.41441,     0.41542,     0.41642,     0.41742,     0.41842,     0.41942,     0.42042,     0.42142,     0.42242,     0.42342,     0.42442,     0.42543,     0.42643,     0.42743,     0.42843,     0.42943,     0.43043,     0.43143,\n",
       "           0.43243,     0.43343,     0.43443,     0.43544,     0.43644,     0.43744,     0.43844,     0.43944,     0.44044,     0.44144,     0.44244,     0.44344,     0.44444,     0.44545,     0.44645,     0.44745,     0.44845,     0.44945,     0.45045,     0.45145,     0.45245,     0.45345,     0.45445,     0.45546,\n",
       "           0.45646,     0.45746,     0.45846,     0.45946,     0.46046,     0.46146,     0.46246,     0.46346,     0.46446,     0.46547,     0.46647,     0.46747,     0.46847,     0.46947,     0.47047,     0.47147,     0.47247,     0.47347,     0.47447,     0.47548,     0.47648,     0.47748,     0.47848,     0.47948,\n",
       "           0.48048,     0.48148,     0.48248,     0.48348,     0.48448,     0.48549,     0.48649,     0.48749,     0.48849,     0.48949,     0.49049,     0.49149,     0.49249,     0.49349,     0.49449,      0.4955,      0.4965,      0.4975,      0.4985,      0.4995,      0.5005,      0.5015,      0.5025,      0.5035,\n",
       "            0.5045,     0.50551,     0.50651,     0.50751,     0.50851,     0.50951,     0.51051,     0.51151,     0.51251,     0.51351,     0.51451,     0.51552,     0.51652,     0.51752,     0.51852,     0.51952,     0.52052,     0.52152,     0.52252,     0.52352,     0.52452,     0.52553,     0.52653,     0.52753,\n",
       "           0.52853,     0.52953,     0.53053,     0.53153,     0.53253,     0.53353,     0.53453,     0.53554,     0.53654,     0.53754,     0.53854,     0.53954,     0.54054,     0.54154,     0.54254,     0.54354,     0.54454,     0.54555,     0.54655,     0.54755,     0.54855,     0.54955,     0.55055,     0.55155,\n",
       "           0.55255,     0.55355,     0.55455,     0.55556,     0.55656,     0.55756,     0.55856,     0.55956,     0.56056,     0.56156,     0.56256,     0.56356,     0.56456,     0.56557,     0.56657,     0.56757,     0.56857,     0.56957,     0.57057,     0.57157,     0.57257,     0.57357,     0.57457,     0.57558,\n",
       "           0.57658,     0.57758,     0.57858,     0.57958,     0.58058,     0.58158,     0.58258,     0.58358,     0.58458,     0.58559,     0.58659,     0.58759,     0.58859,     0.58959,     0.59059,     0.59159,     0.59259,     0.59359,     0.59459,      0.5956,      0.5966,      0.5976,      0.5986,      0.5996,\n",
       "            0.6006,      0.6016,      0.6026,      0.6036,      0.6046,     0.60561,     0.60661,     0.60761,     0.60861,     0.60961,     0.61061,     0.61161,     0.61261,     0.61361,     0.61461,     0.61562,     0.61662,     0.61762,     0.61862,     0.61962,     0.62062,     0.62162,     0.62262,     0.62362,\n",
       "           0.62462,     0.62563,     0.62663,     0.62763,     0.62863,     0.62963,     0.63063,     0.63163,     0.63263,     0.63363,     0.63463,     0.63564,     0.63664,     0.63764,     0.63864,     0.63964,     0.64064,     0.64164,     0.64264,     0.64364,     0.64464,     0.64565,     0.64665,     0.64765,\n",
       "           0.64865,     0.64965,     0.65065,     0.65165,     0.65265,     0.65365,     0.65465,     0.65566,     0.65666,     0.65766,     0.65866,     0.65966,     0.66066,     0.66166,     0.66266,     0.66366,     0.66466,     0.66567,     0.66667,     0.66767,     0.66867,     0.66967,     0.67067,     0.67167,\n",
       "           0.67267,     0.67367,     0.67467,     0.67568,     0.67668,     0.67768,     0.67868,     0.67968,     0.68068,     0.68168,     0.68268,     0.68368,     0.68468,     0.68569,     0.68669,     0.68769,     0.68869,     0.68969,     0.69069,     0.69169,     0.69269,     0.69369,     0.69469,      0.6957,\n",
       "            0.6967,      0.6977,      0.6987,      0.6997,      0.7007,      0.7017,      0.7027,      0.7037,      0.7047,     0.70571,     0.70671,     0.70771,     0.70871,     0.70971,     0.71071,     0.71171,     0.71271,     0.71371,     0.71471,     0.71572,     0.71672,     0.71772,     0.71872,     0.71972,\n",
       "           0.72072,     0.72172,     0.72272,     0.72372,     0.72472,     0.72573,     0.72673,     0.72773,     0.72873,     0.72973,     0.73073,     0.73173,     0.73273,     0.73373,     0.73473,     0.73574,     0.73674,     0.73774,     0.73874,     0.73974,     0.74074,     0.74174,     0.74274,     0.74374,\n",
       "           0.74474,     0.74575,     0.74675,     0.74775,     0.74875,     0.74975,     0.75075,     0.75175,     0.75275,     0.75375,     0.75475,     0.75576,     0.75676,     0.75776,     0.75876,     0.75976,     0.76076,     0.76176,     0.76276,     0.76376,     0.76476,     0.76577,     0.76677,     0.76777,\n",
       "           0.76877,     0.76977,     0.77077,     0.77177,     0.77277,     0.77377,     0.77477,     0.77578,     0.77678,     0.77778,     0.77878,     0.77978,     0.78078,     0.78178,     0.78278,     0.78378,     0.78478,     0.78579,     0.78679,     0.78779,     0.78879,     0.78979,     0.79079,     0.79179,\n",
       "           0.79279,     0.79379,     0.79479,      0.7958,      0.7968,      0.7978,      0.7988,      0.7998,      0.8008,      0.8018,      0.8028,      0.8038,      0.8048,     0.80581,     0.80681,     0.80781,     0.80881,     0.80981,     0.81081,     0.81181,     0.81281,     0.81381,     0.81481,     0.81582,\n",
       "           0.81682,     0.81782,     0.81882,     0.81982,     0.82082,     0.82182,     0.82282,     0.82382,     0.82482,     0.82583,     0.82683,     0.82783,     0.82883,     0.82983,     0.83083,     0.83183,     0.83283,     0.83383,     0.83483,     0.83584,     0.83684,     0.83784,     0.83884,     0.83984,\n",
       "           0.84084,     0.84184,     0.84284,     0.84384,     0.84484,     0.84585,     0.84685,     0.84785,     0.84885,     0.84985,     0.85085,     0.85185,     0.85285,     0.85385,     0.85485,     0.85586,     0.85686,     0.85786,     0.85886,     0.85986,     0.86086,     0.86186,     0.86286,     0.86386,\n",
       "           0.86486,     0.86587,     0.86687,     0.86787,     0.86887,     0.86987,     0.87087,     0.87187,     0.87287,     0.87387,     0.87487,     0.87588,     0.87688,     0.87788,     0.87888,     0.87988,     0.88088,     0.88188,     0.88288,     0.88388,     0.88488,     0.88589,     0.88689,     0.88789,\n",
       "           0.88889,     0.88989,     0.89089,     0.89189,     0.89289,     0.89389,     0.89489,      0.8959,      0.8969,      0.8979,      0.8989,      0.8999,      0.9009,      0.9019,      0.9029,      0.9039,      0.9049,     0.90591,     0.90691,     0.90791,     0.90891,     0.90991,     0.91091,     0.91191,\n",
       "           0.91291,     0.91391,     0.91491,     0.91592,     0.91692,     0.91792,     0.91892,     0.91992,     0.92092,     0.92192,     0.92292,     0.92392,     0.92492,     0.92593,     0.92693,     0.92793,     0.92893,     0.92993,     0.93093,     0.93193,     0.93293,     0.93393,     0.93493,     0.93594,\n",
       "           0.93694,     0.93794,     0.93894,     0.93994,     0.94094,     0.94194,     0.94294,     0.94394,     0.94494,     0.94595,     0.94695,     0.94795,     0.94895,     0.94995,     0.95095,     0.95195,     0.95295,     0.95395,     0.95495,     0.95596,     0.95696,     0.95796,     0.95896,     0.95996,\n",
       "           0.96096,     0.96196,     0.96296,     0.96396,     0.96496,     0.96597,     0.96697,     0.96797,     0.96897,     0.96997,     0.97097,     0.97197,     0.97297,     0.97397,     0.97497,     0.97598,     0.97698,     0.97798,     0.97898,     0.97998,     0.98098,     0.98198,     0.98298,     0.98398,\n",
       "           0.98498,     0.98599,     0.98699,     0.98799,     0.98899,     0.98999,     0.99099,     0.99199,     0.99299,     0.99399,     0.99499,       0.996,       0.997,       0.998,       0.999,           1]), array([[    0.82883,     0.82883,     0.87528,     0.90298,      0.9319,     0.93933,     0.94379,     0.94822,     0.94893,     0.94943,     0.94993,     0.95043,     0.95093,     0.95142,     0.95192,     0.95242,     0.95292,     0.95341,     0.95391,      0.9544,      0.9549,     0.95539,     0.95589,\n",
       "            0.95638,     0.95687,     0.95737,     0.95786,     0.95839,     0.96001,     0.96163,     0.96324,     0.96484,     0.96644,     0.96804,     0.97799,     0.97864,     0.97855,     0.97846,     0.97838,     0.97829,      0.9782,     0.97811,     0.97803,     0.97794,     0.97785,     0.97776,\n",
       "            0.97767,     0.97759,      0.9775,     0.97741,     0.97732,     0.97723,     0.97715,     0.97706,     0.97697,     0.97688,     0.97679,      0.9767,     0.97662,     0.97653,     0.97644,     0.97635,     0.97626,     0.97618,     0.97609,       0.976,     0.97591,     0.97582,     0.97573,\n",
       "            0.97565,     0.97556,     0.97547,     0.97538,     0.97529,      0.9752,     0.97512,     0.97503,     0.97494,     0.97485,     0.97476,     0.97467,     0.97458,      0.9745,     0.97441,     0.97432,     0.97423,     0.97414,     0.97405,     0.97397,     0.97388,     0.97379,      0.9737,\n",
       "            0.97361,     0.97352,     0.97343,     0.97334,     0.97326,     0.97317,     0.97308,     0.97299,      0.9729,     0.97281,     0.97272,     0.97263,     0.97255,     0.97246,     0.97237,     0.97228,     0.97219,      0.9721,     0.97201,     0.97192,     0.97183,     0.97175,     0.97166,\n",
       "            0.97157,     0.97148,     0.97139,      0.9713,     0.97121,     0.97112,     0.97103,     0.97094,     0.97086,     0.97077,     0.97068,     0.97059,      0.9705,     0.97041,     0.97032,     0.97023,     0.97014,     0.97005,     0.96996,     0.96987,     0.96979,      0.9697,     0.96961,\n",
       "            0.96952,     0.96943,     0.96934,     0.96925,     0.96916,     0.96907,     0.96898,     0.96889,      0.9688,     0.96871,     0.96862,     0.96853,     0.96845,     0.96836,     0.96827,     0.96818,     0.96809,       0.968,     0.96791,     0.96782,     0.96772,     0.96758,     0.96744,\n",
       "             0.9673,     0.96717,     0.96703,     0.96689,     0.96675,     0.96661,     0.96647,     0.96633,     0.96619,     0.96605,     0.96591,     0.96577,     0.96563,     0.96549,     0.96535,     0.96521,     0.96507,     0.96493,     0.96479,     0.96465,     0.96451,     0.96437,     0.96423,\n",
       "            0.96409,     0.96395,     0.96381,     0.96367,     0.96353,     0.96339,     0.96325,     0.96311,     0.96297,     0.96283,     0.96269,     0.96255,     0.96241,     0.96227,     0.96213,     0.96199,     0.96185,     0.96171,     0.96156,     0.96142,     0.96128,     0.96114,       0.961,\n",
       "            0.96086,     0.96072,     0.96058,     0.96044,      0.9603,     0.96016,     0.96001,     0.95987,     0.95973,     0.95959,     0.95945,     0.95931,     0.95917,     0.95903,     0.95888,     0.95874,      0.9586,     0.95846,     0.95832,     0.95818,     0.95804,     0.95789,     0.95775,\n",
       "            0.95761,     0.95747,     0.95733,     0.95719,     0.95704,      0.9569,     0.95676,     0.95662,     0.95649,     0.95638,     0.95627,     0.95616,     0.95605,     0.95594,     0.95583,     0.95572,     0.95561,      0.9555,     0.95539,     0.95528,     0.95517,     0.95506,     0.95495,\n",
       "            0.95484,     0.95473,     0.95462,     0.95451,      0.9544,     0.95429,     0.95418,     0.95407,     0.95396,     0.95385,     0.95374,     0.95363,     0.95352,     0.95341,      0.9533,     0.95319,     0.95308,     0.95297,     0.95285,     0.95274,     0.95263,     0.95252,     0.95241,\n",
       "             0.9523,     0.95219,     0.95208,     0.95197,     0.95186,     0.95175,     0.95164,     0.95153,     0.95142,     0.95131,      0.9512,     0.95109,     0.95098,     0.95086,     0.95075,     0.95064,     0.95053,     0.95042,     0.95031,      0.9502,     0.95009,     0.94998,     0.94987,\n",
       "            0.94976,     0.94964,     0.94953,     0.94942,     0.94931,      0.9492,     0.94909,     0.94898,     0.94887,     0.94876,     0.94864,     0.94853,     0.94842,     0.94831,      0.9482,     0.94809,     0.94798,     0.94787,     0.94775,     0.94764,     0.94753,     0.94742,     0.94731,\n",
       "             0.9472,     0.94709,     0.94697,     0.94686,     0.94675,     0.94664,     0.94653,     0.94642,      0.9463,     0.94619,     0.94608,     0.94597,     0.94586,     0.94575,     0.94563,     0.94552,     0.94541,      0.9453,     0.94519,     0.94507,     0.94508,     0.94512,     0.94515,\n",
       "            0.94519,     0.94522,     0.94526,     0.94529,     0.94532,     0.94536,     0.94539,     0.94543,     0.94546,      0.9455,     0.94553,     0.94556,      0.9456,     0.94563,     0.94567,      0.9457,     0.94574,     0.94577,      0.9458,     0.94584,     0.94587,     0.94591,     0.94594,\n",
       "            0.94598,     0.94601,     0.94604,     0.94608,     0.94611,     0.94615,     0.94618,     0.94622,     0.94625,     0.94628,     0.94632,     0.94635,     0.94639,     0.94642,     0.94645,     0.94649,     0.94652,     0.94656,     0.94659,     0.94663,     0.94666,     0.94669,     0.94673,\n",
       "            0.94676,      0.9468,     0.94683,     0.94687,      0.9469,     0.94693,     0.94697,       0.947,     0.94704,     0.94707,      0.9471,     0.94714,     0.94717,     0.94721,     0.94724,     0.94728,     0.94731,     0.94734,     0.94738,     0.94741,     0.94745,     0.94748,     0.94751,\n",
       "            0.94755,     0.94758,     0.94762,     0.94765,     0.94769,     0.94772,     0.94775,     0.94779,     0.94782,     0.94786,     0.94789,     0.94792,     0.94796,     0.94799,     0.94803,     0.94806,      0.9481,     0.94813,     0.94816,      0.9482,     0.94823,     0.94827,      0.9483,\n",
       "            0.94833,     0.94837,      0.9484,     0.94844,     0.94847,      0.9485,     0.94854,     0.94857,     0.94861,     0.94864,     0.94867,     0.94871,     0.94874,     0.94878,     0.94881,     0.94884,     0.94888,     0.94891,     0.94895,     0.94898,     0.94902,     0.94905,     0.94908,\n",
       "            0.94912,     0.94915,     0.94919,     0.94922,     0.94925,     0.94929,     0.94932,     0.94936,     0.94939,     0.94942,     0.94946,     0.94949,     0.94953,     0.94956,     0.94959,     0.94963,     0.94966,      0.9497,     0.94973,     0.94976,      0.9498,     0.94983,     0.94987,\n",
       "             0.9499,     0.94993,     0.94997,        0.95,     0.95004,     0.95007,      0.9501,     0.95014,     0.95017,     0.95021,     0.95024,     0.95027,     0.95031,     0.95034,     0.95038,     0.95041,     0.95044,     0.95048,     0.95051,     0.95054,     0.95058,     0.95061,     0.95065,\n",
       "            0.95068,     0.95071,     0.95075,     0.95078,     0.95082,     0.95085,     0.95088,     0.95092,     0.95095,     0.95099,     0.95102,     0.95105,     0.95109,     0.95112,     0.95116,     0.95119,     0.95122,     0.95126,     0.95129,     0.95132,     0.95136,     0.95139,     0.95143,\n",
       "            0.95146,     0.95149,     0.95153,     0.95156,      0.9516,     0.95163,     0.95166,      0.9517,     0.95173,     0.95176,      0.9518,     0.95183,     0.95187,      0.9519,     0.95193,     0.95197,       0.952,     0.95204,     0.95207,      0.9521,     0.95214,     0.95217,      0.9522,\n",
       "            0.95224,     0.95227,     0.95231,     0.95234,     0.95237,     0.95241,     0.95244,     0.95247,     0.95251,     0.95254,     0.95258,     0.95261,     0.95264,     0.95268,     0.95271,     0.95274,     0.95278,     0.95281,     0.95285,     0.95288,     0.95291,     0.95295,     0.95298,\n",
       "            0.95302,     0.95305,     0.95308,     0.95312,     0.95315,     0.95318,     0.95322,     0.95325,     0.95328,     0.95332,     0.95335,     0.95339,     0.95342,     0.95345,     0.95349,     0.95352,     0.95355,     0.95359,     0.95362,     0.95366,     0.95369,     0.95372,     0.95376,\n",
       "            0.95379,     0.95382,     0.95386,     0.95389,     0.95393,     0.95396,     0.95399,     0.95403,     0.95406,     0.95409,     0.95413,     0.95416,     0.95419,     0.95423,     0.95426,      0.9543,     0.95433,     0.95436,      0.9544,     0.95443,     0.95446,      0.9545,     0.95453,\n",
       "            0.95456,      0.9546,     0.95463,     0.95467,      0.9547,     0.95473,     0.95477,      0.9548,     0.95483,     0.95487,      0.9549,     0.95493,     0.95497,       0.955,     0.95504,     0.95507,      0.9551,     0.95514,     0.95517,      0.9552,     0.95524,     0.95527,      0.9553,\n",
       "            0.95534,     0.95537,      0.9554,     0.95544,     0.95547,     0.95551,     0.95554,     0.95583,     0.95635,     0.95688,      0.9574,     0.95793,     0.95845,     0.95897,     0.95949,     0.96002,     0.96054,     0.96106,     0.96158,      0.9621,     0.96262,     0.96313,     0.96365,\n",
       "            0.96417,     0.96468,      0.9652,     0.96571,     0.96623,     0.96618,     0.96604,     0.96591,     0.96578,     0.96564,     0.96551,     0.96538,     0.96524,     0.96511,     0.96498,     0.96485,     0.96471,     0.96458,     0.96445,     0.96431,     0.96418,     0.96405,     0.96391,\n",
       "            0.96378,     0.96365,     0.96351,     0.96338,     0.96324,     0.96311,     0.96298,     0.96284,     0.96271,     0.96258,     0.96244,     0.96231,     0.96217,     0.96204,     0.96191,     0.96177,     0.96164,      0.9615,     0.96137,     0.96124,      0.9611,     0.96097,     0.96083,\n",
       "             0.9607,     0.96057,     0.96043,      0.9603,     0.96016,     0.96003,     0.95989,     0.95976,     0.95962,     0.95949,     0.95936,     0.95922,     0.95909,     0.95895,     0.95882,     0.95868,     0.95855,     0.95841,     0.95828,     0.95814,     0.95801,     0.95787,     0.95774,\n",
       "             0.9576,     0.95747,     0.95733,      0.9572,     0.95706,     0.95693,     0.95679,     0.95666,     0.95652,     0.95639,     0.95625,     0.95612,     0.95598,     0.95584,     0.95571,     0.95557,     0.95544,      0.9553,     0.95517,     0.95503,     0.95489,     0.95476,     0.95462,\n",
       "            0.95433,     0.95383,     0.95333,     0.95282,     0.95232,     0.95181,     0.95131,      0.9508,      0.9503,     0.94979,     0.94929,     0.94878,     0.94827,     0.94776,     0.94725,     0.94674,     0.94624,     0.94572,     0.94521,      0.9447,     0.94419,     0.94368,     0.94317,\n",
       "            0.94265,     0.94198,     0.94125,     0.94052,     0.93979,     0.93905,     0.93832,     0.93758,     0.93685,     0.93611,     0.93537,     0.93464,      0.9339,     0.93316,     0.93241,     0.93167,     0.93093,     0.92747,      0.9168,     0.91569,     0.91458,     0.91346,     0.91234,\n",
       "            0.91122,     0.91009,     0.90897,     0.90784,     0.90671,     0.90557,     0.90445,     0.90334,     0.90223,     0.90112,     0.90001,      0.8989,     0.89778,     0.89666,     0.89554,     0.89442,     0.89329,     0.89216,     0.88257,     0.87754,     0.87686,     0.87619,     0.87552,\n",
       "            0.87484,     0.87417,     0.87349,     0.87282,     0.87214,     0.87146,     0.87078,     0.87011,     0.86943,     0.86874,     0.86806,     0.86738,      0.8667,     0.86601,     0.86533,     0.86464,     0.86334,     0.86093,     0.85851,     0.85608,     0.85364,     0.85119,     0.84805,\n",
       "            0.84426,     0.84044,     0.83659,     0.82222,     0.81372,     0.80616,     0.77994,     0.76823,     0.75983,      0.7509,      0.7416,     0.73474,     0.72846,     0.72192,     0.70424,     0.70255,     0.70087,     0.69919,      0.6975,     0.69581,     0.69411,     0.69241,     0.69071,\n",
       "              0.689,     0.68728,     0.68487,     0.67518,     0.66063,     0.64568,     0.64371,     0.64174,     0.63977,     0.63778,     0.63579,      0.6338,      0.6318,     0.62979,     0.62778,     0.62506,     0.62174,     0.61841,     0.61505,     0.61169,      0.6083,     0.59541,     0.55949,\n",
       "            0.55156,     0.54353,     0.47836,     0.46154,     0.45404,     0.44647,      0.4355,     0.41328,      0.3627,     0.33934,     0.24462,      0.1841,     0.15819,     0.11903,     0.11264,     0.10621,    0.099735,    0.093214,    0.086648,    0.080552,    0.074941,    0.069296,    0.063619,\n",
       "           0.057908,    0.052163,    0.046384,           0,           0,           0,           0,           0,           0,           0,           0,           0,           0,           0,           0,           0,           0,           0,           0,           0,           0,           0,           0,\n",
       "                  0,           0,           0,           0,           0,           0,           0,           0,           0,           0,           0,           0,           0,           0,           0,           0,           0,           0,           0,           0,           0,           0,           0,\n",
       "                  0,           0,           0,           0,           0,           0,           0,           0,           0,           0,           0,           0,           0,           0,           0,           0,           0,           0,           0,           0,           0,           0,           0,\n",
       "                  0,           0,           0,           0,           0,           0,           0,           0,           0,           0,           0]]), 'Confidence', 'F1'], [array([          0,    0.001001,    0.002002,    0.003003,    0.004004,    0.005005,    0.006006,    0.007007,    0.008008,    0.009009,     0.01001,    0.011011,    0.012012,    0.013013,    0.014014,    0.015015,    0.016016,    0.017017,    0.018018,    0.019019,     0.02002,    0.021021,    0.022022,    0.023023,\n",
       "          0.024024,    0.025025,    0.026026,    0.027027,    0.028028,    0.029029,     0.03003,    0.031031,    0.032032,    0.033033,    0.034034,    0.035035,    0.036036,    0.037037,    0.038038,    0.039039,     0.04004,    0.041041,    0.042042,    0.043043,    0.044044,    0.045045,    0.046046,    0.047047,\n",
       "          0.048048,    0.049049,     0.05005,    0.051051,    0.052052,    0.053053,    0.054054,    0.055055,    0.056056,    0.057057,    0.058058,    0.059059,     0.06006,    0.061061,    0.062062,    0.063063,    0.064064,    0.065065,    0.066066,    0.067067,    0.068068,    0.069069,     0.07007,    0.071071,\n",
       "          0.072072,    0.073073,    0.074074,    0.075075,    0.076076,    0.077077,    0.078078,    0.079079,     0.08008,    0.081081,    0.082082,    0.083083,    0.084084,    0.085085,    0.086086,    0.087087,    0.088088,    0.089089,     0.09009,    0.091091,    0.092092,    0.093093,    0.094094,    0.095095,\n",
       "          0.096096,    0.097097,    0.098098,    0.099099,      0.1001,      0.1011,      0.1021,      0.1031,      0.1041,     0.10511,     0.10611,     0.10711,     0.10811,     0.10911,     0.11011,     0.11111,     0.11211,     0.11311,     0.11411,     0.11512,     0.11612,     0.11712,     0.11812,     0.11912,\n",
       "           0.12012,     0.12112,     0.12212,     0.12312,     0.12412,     0.12513,     0.12613,     0.12713,     0.12813,     0.12913,     0.13013,     0.13113,     0.13213,     0.13313,     0.13413,     0.13514,     0.13614,     0.13714,     0.13814,     0.13914,     0.14014,     0.14114,     0.14214,     0.14314,\n",
       "           0.14414,     0.14515,     0.14615,     0.14715,     0.14815,     0.14915,     0.15015,     0.15115,     0.15215,     0.15315,     0.15415,     0.15516,     0.15616,     0.15716,     0.15816,     0.15916,     0.16016,     0.16116,     0.16216,     0.16316,     0.16416,     0.16517,     0.16617,     0.16717,\n",
       "           0.16817,     0.16917,     0.17017,     0.17117,     0.17217,     0.17317,     0.17417,     0.17518,     0.17618,     0.17718,     0.17818,     0.17918,     0.18018,     0.18118,     0.18218,     0.18318,     0.18418,     0.18519,     0.18619,     0.18719,     0.18819,     0.18919,     0.19019,     0.19119,\n",
       "           0.19219,     0.19319,     0.19419,      0.1952,      0.1962,      0.1972,      0.1982,      0.1992,      0.2002,      0.2012,      0.2022,      0.2032,      0.2042,     0.20521,     0.20621,     0.20721,     0.20821,     0.20921,     0.21021,     0.21121,     0.21221,     0.21321,     0.21421,     0.21522,\n",
       "           0.21622,     0.21722,     0.21822,     0.21922,     0.22022,     0.22122,     0.22222,     0.22322,     0.22422,     0.22523,     0.22623,     0.22723,     0.22823,     0.22923,     0.23023,     0.23123,     0.23223,     0.23323,     0.23423,     0.23524,     0.23624,     0.23724,     0.23824,     0.23924,\n",
       "           0.24024,     0.24124,     0.24224,     0.24324,     0.24424,     0.24525,     0.24625,     0.24725,     0.24825,     0.24925,     0.25025,     0.25125,     0.25225,     0.25325,     0.25425,     0.25526,     0.25626,     0.25726,     0.25826,     0.25926,     0.26026,     0.26126,     0.26226,     0.26326,\n",
       "           0.26426,     0.26527,     0.26627,     0.26727,     0.26827,     0.26927,     0.27027,     0.27127,     0.27227,     0.27327,     0.27427,     0.27528,     0.27628,     0.27728,     0.27828,     0.27928,     0.28028,     0.28128,     0.28228,     0.28328,     0.28428,     0.28529,     0.28629,     0.28729,\n",
       "           0.28829,     0.28929,     0.29029,     0.29129,     0.29229,     0.29329,     0.29429,      0.2953,      0.2963,      0.2973,      0.2983,      0.2993,      0.3003,      0.3013,      0.3023,      0.3033,      0.3043,     0.30531,     0.30631,     0.30731,     0.30831,     0.30931,     0.31031,     0.31131,\n",
       "           0.31231,     0.31331,     0.31431,     0.31532,     0.31632,     0.31732,     0.31832,     0.31932,     0.32032,     0.32132,     0.32232,     0.32332,     0.32432,     0.32533,     0.32633,     0.32733,     0.32833,     0.32933,     0.33033,     0.33133,     0.33233,     0.33333,     0.33433,     0.33534,\n",
       "           0.33634,     0.33734,     0.33834,     0.33934,     0.34034,     0.34134,     0.34234,     0.34334,     0.34434,     0.34535,     0.34635,     0.34735,     0.34835,     0.34935,     0.35035,     0.35135,     0.35235,     0.35335,     0.35435,     0.35536,     0.35636,     0.35736,     0.35836,     0.35936,\n",
       "           0.36036,     0.36136,     0.36236,     0.36336,     0.36436,     0.36537,     0.36637,     0.36737,     0.36837,     0.36937,     0.37037,     0.37137,     0.37237,     0.37337,     0.37437,     0.37538,     0.37638,     0.37738,     0.37838,     0.37938,     0.38038,     0.38138,     0.38238,     0.38338,\n",
       "           0.38438,     0.38539,     0.38639,     0.38739,     0.38839,     0.38939,     0.39039,     0.39139,     0.39239,     0.39339,     0.39439,      0.3954,      0.3964,      0.3974,      0.3984,      0.3994,      0.4004,      0.4014,      0.4024,      0.4034,      0.4044,     0.40541,     0.40641,     0.40741,\n",
       "           0.40841,     0.40941,     0.41041,     0.41141,     0.41241,     0.41341,     0.41441,     0.41542,     0.41642,     0.41742,     0.41842,     0.41942,     0.42042,     0.42142,     0.42242,     0.42342,     0.42442,     0.42543,     0.42643,     0.42743,     0.42843,     0.42943,     0.43043,     0.43143,\n",
       "           0.43243,     0.43343,     0.43443,     0.43544,     0.43644,     0.43744,     0.43844,     0.43944,     0.44044,     0.44144,     0.44244,     0.44344,     0.44444,     0.44545,     0.44645,     0.44745,     0.44845,     0.44945,     0.45045,     0.45145,     0.45245,     0.45345,     0.45445,     0.45546,\n",
       "           0.45646,     0.45746,     0.45846,     0.45946,     0.46046,     0.46146,     0.46246,     0.46346,     0.46446,     0.46547,     0.46647,     0.46747,     0.46847,     0.46947,     0.47047,     0.47147,     0.47247,     0.47347,     0.47447,     0.47548,     0.47648,     0.47748,     0.47848,     0.47948,\n",
       "           0.48048,     0.48148,     0.48248,     0.48348,     0.48448,     0.48549,     0.48649,     0.48749,     0.48849,     0.48949,     0.49049,     0.49149,     0.49249,     0.49349,     0.49449,      0.4955,      0.4965,      0.4975,      0.4985,      0.4995,      0.5005,      0.5015,      0.5025,      0.5035,\n",
       "            0.5045,     0.50551,     0.50651,     0.50751,     0.50851,     0.50951,     0.51051,     0.51151,     0.51251,     0.51351,     0.51451,     0.51552,     0.51652,     0.51752,     0.51852,     0.51952,     0.52052,     0.52152,     0.52252,     0.52352,     0.52452,     0.52553,     0.52653,     0.52753,\n",
       "           0.52853,     0.52953,     0.53053,     0.53153,     0.53253,     0.53353,     0.53453,     0.53554,     0.53654,     0.53754,     0.53854,     0.53954,     0.54054,     0.54154,     0.54254,     0.54354,     0.54454,     0.54555,     0.54655,     0.54755,     0.54855,     0.54955,     0.55055,     0.55155,\n",
       "           0.55255,     0.55355,     0.55455,     0.55556,     0.55656,     0.55756,     0.55856,     0.55956,     0.56056,     0.56156,     0.56256,     0.56356,     0.56456,     0.56557,     0.56657,     0.56757,     0.56857,     0.56957,     0.57057,     0.57157,     0.57257,     0.57357,     0.57457,     0.57558,\n",
       "           0.57658,     0.57758,     0.57858,     0.57958,     0.58058,     0.58158,     0.58258,     0.58358,     0.58458,     0.58559,     0.58659,     0.58759,     0.58859,     0.58959,     0.59059,     0.59159,     0.59259,     0.59359,     0.59459,      0.5956,      0.5966,      0.5976,      0.5986,      0.5996,\n",
       "            0.6006,      0.6016,      0.6026,      0.6036,      0.6046,     0.60561,     0.60661,     0.60761,     0.60861,     0.60961,     0.61061,     0.61161,     0.61261,     0.61361,     0.61461,     0.61562,     0.61662,     0.61762,     0.61862,     0.61962,     0.62062,     0.62162,     0.62262,     0.62362,\n",
       "           0.62462,     0.62563,     0.62663,     0.62763,     0.62863,     0.62963,     0.63063,     0.63163,     0.63263,     0.63363,     0.63463,     0.63564,     0.63664,     0.63764,     0.63864,     0.63964,     0.64064,     0.64164,     0.64264,     0.64364,     0.64464,     0.64565,     0.64665,     0.64765,\n",
       "           0.64865,     0.64965,     0.65065,     0.65165,     0.65265,     0.65365,     0.65465,     0.65566,     0.65666,     0.65766,     0.65866,     0.65966,     0.66066,     0.66166,     0.66266,     0.66366,     0.66466,     0.66567,     0.66667,     0.66767,     0.66867,     0.66967,     0.67067,     0.67167,\n",
       "           0.67267,     0.67367,     0.67467,     0.67568,     0.67668,     0.67768,     0.67868,     0.67968,     0.68068,     0.68168,     0.68268,     0.68368,     0.68468,     0.68569,     0.68669,     0.68769,     0.68869,     0.68969,     0.69069,     0.69169,     0.69269,     0.69369,     0.69469,      0.6957,\n",
       "            0.6967,      0.6977,      0.6987,      0.6997,      0.7007,      0.7017,      0.7027,      0.7037,      0.7047,     0.70571,     0.70671,     0.70771,     0.70871,     0.70971,     0.71071,     0.71171,     0.71271,     0.71371,     0.71471,     0.71572,     0.71672,     0.71772,     0.71872,     0.71972,\n",
       "           0.72072,     0.72172,     0.72272,     0.72372,     0.72472,     0.72573,     0.72673,     0.72773,     0.72873,     0.72973,     0.73073,     0.73173,     0.73273,     0.73373,     0.73473,     0.73574,     0.73674,     0.73774,     0.73874,     0.73974,     0.74074,     0.74174,     0.74274,     0.74374,\n",
       "           0.74474,     0.74575,     0.74675,     0.74775,     0.74875,     0.74975,     0.75075,     0.75175,     0.75275,     0.75375,     0.75475,     0.75576,     0.75676,     0.75776,     0.75876,     0.75976,     0.76076,     0.76176,     0.76276,     0.76376,     0.76476,     0.76577,     0.76677,     0.76777,\n",
       "           0.76877,     0.76977,     0.77077,     0.77177,     0.77277,     0.77377,     0.77477,     0.77578,     0.77678,     0.77778,     0.77878,     0.77978,     0.78078,     0.78178,     0.78278,     0.78378,     0.78478,     0.78579,     0.78679,     0.78779,     0.78879,     0.78979,     0.79079,     0.79179,\n",
       "           0.79279,     0.79379,     0.79479,      0.7958,      0.7968,      0.7978,      0.7988,      0.7998,      0.8008,      0.8018,      0.8028,      0.8038,      0.8048,     0.80581,     0.80681,     0.80781,     0.80881,     0.80981,     0.81081,     0.81181,     0.81281,     0.81381,     0.81481,     0.81582,\n",
       "           0.81682,     0.81782,     0.81882,     0.81982,     0.82082,     0.82182,     0.82282,     0.82382,     0.82482,     0.82583,     0.82683,     0.82783,     0.82883,     0.82983,     0.83083,     0.83183,     0.83283,     0.83383,     0.83483,     0.83584,     0.83684,     0.83784,     0.83884,     0.83984,\n",
       "           0.84084,     0.84184,     0.84284,     0.84384,     0.84484,     0.84585,     0.84685,     0.84785,     0.84885,     0.84985,     0.85085,     0.85185,     0.85285,     0.85385,     0.85485,     0.85586,     0.85686,     0.85786,     0.85886,     0.85986,     0.86086,     0.86186,     0.86286,     0.86386,\n",
       "           0.86486,     0.86587,     0.86687,     0.86787,     0.86887,     0.86987,     0.87087,     0.87187,     0.87287,     0.87387,     0.87487,     0.87588,     0.87688,     0.87788,     0.87888,     0.87988,     0.88088,     0.88188,     0.88288,     0.88388,     0.88488,     0.88589,     0.88689,     0.88789,\n",
       "           0.88889,     0.88989,     0.89089,     0.89189,     0.89289,     0.89389,     0.89489,      0.8959,      0.8969,      0.8979,      0.8989,      0.8999,      0.9009,      0.9019,      0.9029,      0.9039,      0.9049,     0.90591,     0.90691,     0.90791,     0.90891,     0.90991,     0.91091,     0.91191,\n",
       "           0.91291,     0.91391,     0.91491,     0.91592,     0.91692,     0.91792,     0.91892,     0.91992,     0.92092,     0.92192,     0.92292,     0.92392,     0.92492,     0.92593,     0.92693,     0.92793,     0.92893,     0.92993,     0.93093,     0.93193,     0.93293,     0.93393,     0.93493,     0.93594,\n",
       "           0.93694,     0.93794,     0.93894,     0.93994,     0.94094,     0.94194,     0.94294,     0.94394,     0.94494,     0.94595,     0.94695,     0.94795,     0.94895,     0.94995,     0.95095,     0.95195,     0.95295,     0.95395,     0.95495,     0.95596,     0.95696,     0.95796,     0.95896,     0.95996,\n",
       "           0.96096,     0.96196,     0.96296,     0.96396,     0.96496,     0.96597,     0.96697,     0.96797,     0.96897,     0.96997,     0.97097,     0.97197,     0.97297,     0.97397,     0.97497,     0.97598,     0.97698,     0.97798,     0.97898,     0.97998,     0.98098,     0.98198,     0.98298,     0.98398,\n",
       "           0.98498,     0.98599,     0.98699,     0.98799,     0.98899,     0.98999,     0.99099,     0.99199,     0.99299,     0.99399,     0.99499,       0.996,       0.997,       0.998,       0.999,           1]), array([[    0.70769,     0.70769,     0.77822,     0.82312,     0.87248,      0.8856,     0.89357,     0.90154,     0.90282,     0.90372,     0.90463,     0.90554,     0.90644,     0.90735,     0.90825,     0.90916,     0.91007,     0.91097,     0.91188,     0.91278,     0.91369,      0.9146,      0.9155,\n",
       "            0.91641,     0.91731,     0.91822,     0.91913,     0.92011,      0.9231,     0.92609,     0.92908,     0.93207,     0.93506,     0.93805,     0.95693,     0.95833,     0.95832,     0.95831,     0.95831,      0.9583,     0.95829,     0.95828,     0.95828,     0.95827,     0.95826,     0.95825,\n",
       "            0.95825,     0.95824,     0.95823,     0.95823,     0.95822,     0.95821,      0.9582,      0.9582,     0.95819,     0.95818,     0.95818,     0.95817,     0.95816,     0.95815,     0.95815,     0.95814,     0.95813,     0.95813,     0.95812,     0.95811,      0.9581,      0.9581,     0.95809,\n",
       "            0.95808,     0.95808,     0.95807,     0.95806,     0.95805,     0.95805,     0.95804,     0.95803,     0.95803,     0.95802,     0.95801,       0.958,       0.958,     0.95799,     0.95798,     0.95798,     0.95797,     0.95796,     0.95795,     0.95795,     0.95794,     0.95793,     0.95793,\n",
       "            0.95792,     0.95791,      0.9579,      0.9579,     0.95789,     0.95788,     0.95788,     0.95787,     0.95786,     0.95785,     0.95785,     0.95784,     0.95783,     0.95783,     0.95782,     0.95781,      0.9578,      0.9578,     0.95779,     0.95778,     0.95778,     0.95777,     0.95776,\n",
       "            0.95775,     0.95775,     0.95774,     0.95773,     0.95773,     0.95772,     0.95771,      0.9577,      0.9577,     0.95769,     0.95768,     0.95767,     0.95767,     0.95766,     0.95765,     0.95765,     0.95764,     0.95763,     0.95762,     0.95762,     0.95761,      0.9576,      0.9576,\n",
       "            0.95759,     0.95758,     0.95757,     0.95757,     0.95756,     0.95755,     0.95755,     0.95754,     0.95753,     0.95752,     0.95752,     0.95751,      0.9575,      0.9575,     0.95749,     0.95748,     0.95747,     0.95747,     0.95746,     0.95745,     0.95745,     0.95743,     0.95742,\n",
       "            0.95741,      0.9574,     0.95739,     0.95738,     0.95736,     0.95735,     0.95734,     0.95733,     0.95732,     0.95731,     0.95729,     0.95728,     0.95727,     0.95726,     0.95725,     0.95724,     0.95722,     0.95721,      0.9572,     0.95719,     0.95718,     0.95717,     0.95716,\n",
       "            0.95714,     0.95713,     0.95712,     0.95711,      0.9571,     0.95709,     0.95707,     0.95706,     0.95705,     0.95704,     0.95703,     0.95702,       0.957,     0.95699,     0.95698,     0.95697,     0.95696,     0.95695,     0.95694,     0.95692,     0.95691,      0.9569,     0.95689,\n",
       "            0.95688,     0.95687,     0.95685,     0.95684,     0.95683,     0.95682,     0.95681,      0.9568,     0.95678,     0.95677,     0.95676,     0.95675,     0.95674,     0.95673,     0.95672,      0.9567,     0.95669,     0.95668,     0.95667,     0.95666,     0.95665,     0.95663,     0.95662,\n",
       "            0.95661,      0.9566,     0.95659,     0.95658,     0.95656,     0.95655,     0.95654,     0.95653,     0.95652,     0.95651,      0.9565,     0.95649,     0.95648,     0.95647,     0.95646,     0.95645,     0.95644,     0.95643,     0.95643,     0.95642,     0.95641,      0.9564,     0.95639,\n",
       "            0.95638,     0.95637,     0.95636,     0.95635,     0.95634,     0.95633,     0.95632,     0.95631,      0.9563,     0.95629,     0.95629,     0.95628,     0.95627,     0.95626,     0.95625,     0.95624,     0.95623,     0.95622,     0.95621,      0.9562,     0.95619,     0.95618,     0.95617,\n",
       "            0.95616,     0.95615,     0.95615,     0.95614,     0.95613,     0.95612,     0.95611,      0.9561,     0.95609,     0.95608,     0.95607,     0.95606,     0.95605,     0.95604,     0.95603,     0.95602,     0.95601,     0.95601,       0.956,     0.95599,     0.95598,     0.95597,     0.95596,\n",
       "            0.95595,     0.95594,     0.95593,     0.95592,     0.95591,      0.9559,     0.95589,     0.95588,     0.95587,     0.95587,     0.95586,     0.95585,     0.95584,     0.95583,     0.95582,     0.95581,      0.9558,     0.95579,     0.95578,     0.95577,     0.95576,     0.95575,     0.95574,\n",
       "            0.95573,     0.95573,     0.95572,     0.95571,      0.9557,     0.95569,     0.95568,     0.95567,     0.95566,     0.95565,     0.95564,     0.95563,     0.95562,     0.95561,      0.9556,     0.95559,     0.95559,     0.95558,     0.95557,     0.95556,     0.95561,     0.95568,     0.95575,\n",
       "            0.95582,     0.95589,     0.95596,     0.95604,     0.95611,     0.95618,     0.95625,     0.95632,     0.95639,     0.95646,     0.95653,      0.9566,     0.95667,     0.95674,     0.95681,     0.95688,     0.95695,     0.95702,     0.95709,     0.95716,     0.95723,      0.9573,     0.95737,\n",
       "            0.95744,     0.95751,     0.95758,     0.95765,     0.95772,     0.95779,     0.95786,     0.95793,       0.958,     0.95807,     0.95814,     0.95821,     0.95828,     0.95835,     0.95842,     0.95849,     0.95856,     0.95863,      0.9587,     0.95877,     0.95884,     0.95891,     0.95898,\n",
       "            0.95905,     0.95912,     0.95919,     0.95926,     0.95933,     0.95941,     0.95948,     0.95955,     0.95962,     0.95969,     0.95976,     0.95983,      0.9599,     0.95997,     0.96004,     0.96011,     0.96018,     0.96025,     0.96032,     0.96039,     0.96046,     0.96053,      0.9606,\n",
       "            0.96067,     0.96074,     0.96081,     0.96088,     0.96095,     0.96102,     0.96109,     0.96116,     0.96123,      0.9613,     0.96137,     0.96144,     0.96151,     0.96158,     0.96165,     0.96172,     0.96179,     0.96186,     0.96193,       0.962,     0.96207,     0.96214,     0.96221,\n",
       "            0.96228,     0.96235,     0.96242,     0.96249,     0.96256,     0.96263,     0.96271,     0.96278,     0.96285,     0.96292,     0.96299,     0.96306,     0.96313,      0.9632,     0.96327,     0.96334,     0.96341,     0.96348,     0.96355,     0.96362,     0.96369,     0.96376,     0.96383,\n",
       "             0.9639,     0.96397,     0.96404,     0.96411,     0.96418,     0.96425,     0.96432,     0.96439,     0.96446,     0.96453,      0.9646,     0.96467,     0.96474,     0.96481,     0.96488,     0.96495,     0.96502,     0.96509,     0.96516,     0.96523,      0.9653,     0.96537,     0.96544,\n",
       "            0.96551,     0.96558,     0.96565,     0.96572,     0.96579,     0.96586,     0.96593,       0.966,     0.96608,     0.96615,     0.96622,     0.96629,     0.96636,     0.96643,      0.9665,     0.96657,     0.96664,     0.96671,     0.96678,     0.96685,     0.96692,     0.96699,     0.96706,\n",
       "            0.96713,      0.9672,     0.96727,     0.96734,     0.96741,     0.96748,     0.96755,     0.96762,     0.96769,     0.96776,     0.96783,      0.9679,     0.96797,     0.96804,     0.96811,     0.96818,     0.96825,     0.96832,     0.96839,     0.96846,     0.96853,      0.9686,     0.96867,\n",
       "            0.96874,     0.96881,     0.96888,     0.96895,     0.96902,     0.96909,     0.96916,     0.96923,      0.9693,     0.96938,     0.96945,     0.96952,     0.96959,     0.96966,     0.96973,      0.9698,     0.96987,     0.96994,     0.97001,     0.97008,     0.97015,     0.97022,     0.97029,\n",
       "            0.97036,     0.97043,      0.9705,     0.97057,     0.97064,     0.97071,     0.97078,     0.97085,     0.97092,     0.97099,     0.97106,     0.97113,      0.9712,     0.97127,     0.97134,     0.97141,     0.97148,     0.97155,     0.97162,     0.97169,     0.97176,     0.97183,      0.9719,\n",
       "            0.97197,     0.97204,     0.97211,     0.97218,     0.97225,     0.97232,     0.97239,     0.97246,     0.97253,      0.9726,     0.97267,     0.97275,     0.97282,     0.97289,     0.97296,     0.97303,      0.9731,     0.97317,     0.97324,     0.97331,     0.97338,     0.97345,     0.97352,\n",
       "            0.97359,     0.97366,     0.97373,      0.9738,     0.97387,     0.97394,     0.97401,     0.97408,     0.97415,     0.97422,     0.97429,     0.97436,     0.97443,      0.9745,     0.97457,     0.97464,     0.97471,     0.97478,     0.97485,     0.97492,     0.97499,     0.97506,     0.97513,\n",
       "             0.9752,     0.97527,     0.97534,     0.97541,     0.97548,     0.97555,     0.97562,     0.97569,     0.97576,     0.97583,      0.9759,     0.97597,     0.97605,     0.97612,     0.97619,     0.97626,     0.97633,      0.9764,     0.97647,     0.97654,     0.97661,     0.97668,     0.97675,\n",
       "            0.97682,     0.97689,     0.97696,     0.97703,      0.9771,     0.97717,     0.97724,     0.97784,     0.97894,     0.98004,     0.98114,     0.98224,     0.98335,     0.98445,     0.98555,     0.98665,     0.98775,     0.98885,     0.98995,     0.99105,     0.99216,     0.99326,     0.99436,\n",
       "            0.99546,     0.99656,     0.99766,     0.99876,     0.99987,           1,           1,           1,           1,           1,           1,           1,           1,           1,           1,           1,           1,           1,           1,           1,           1,           1,           1,\n",
       "                  1,           1,           1,           1,           1,           1,           1,           1,           1,           1,           1,           1,           1,           1,           1,           1,           1,           1,           1,           1,           1,           1,           1,\n",
       "                  1,           1,           1,           1,           1,           1,           1,           1,           1,           1,           1,           1,           1,           1,           1,           1,           1,           1,           1,           1,           1,           1,           1,\n",
       "                  1,           1,           1,           1,           1,           1,           1,           1,           1,           1,           1,           1,           1,           1,           1,           1,           1,           1,           1,           1,           1,           1,           1,\n",
       "                  1,           1,           1,           1,           1,           1,           1,           1,           1,           1,           1,           1,           1,           1,           1,           1,           1,           1,           1,           1,           1,           1,           1,\n",
       "                  1,           1,           1,           1,           1,           1,           1,           1,           1,           1,           1,           1,           1,           1,           1,           1,           1,           1,           1,           1,           1,           1,           1,\n",
       "                  1,           1,           1,           1,           1,           1,           1,           1,           1,           1,           1,           1,           1,           1,           1,           1,           1,           1,           1,           1,           1,           1,           1,\n",
       "                  1,           1,           1,           1,           1,           1,           1,           1,           1,           1,           1,           1,           1,           1,           1,           1,           1,           1,           1,           1,           1,           1,           1,\n",
       "                  1,           1,           1,           1,           1,           1,           1,           1,           1,           1,           1,           1,           1,           1,           1,           1,           1,           1,           1,           1,           1,           1,           1,\n",
       "                  1,           1,           1,           1,           1,           1,           1,           1,           1,           1,           1,           1,           1,           1,           1,           1,           1,           1,           1,           1,           1,           1,           1,\n",
       "                  1,           1,           1,           1,           1,           1,           1,           1,           1,           1,           1,           1,           1,           1,           1,           1,           1,           1,           1,           1,           1,           1,           1,\n",
       "                  1,           1,           1,           1,           1,           1,           1,           1,           1,           1,           1,           1,           1,           1,           1,           1,           1,           1,           1,           1,           1,           1,           1,\n",
       "                  1,           1,           1,           1,           1,           1,           1,           1,           1,           1,           1,           1,           1,           1,           1,           1,           1,           1,           1,           1,           1,           1,           1,\n",
       "                  1,           1,           1,           1,           1,           1,           1,           1,           1,           1,           1,           1,           1,           1,           1,           1,           1,           1,           1,           1,           1,           1,           1,\n",
       "                  1,           1,           1,           1,           1,           1,           1,           1,           1,           1,           1]]), 'Confidence', 'Precision'], [array([          0,    0.001001,    0.002002,    0.003003,    0.004004,    0.005005,    0.006006,    0.007007,    0.008008,    0.009009,     0.01001,    0.011011,    0.012012,    0.013013,    0.014014,    0.015015,    0.016016,    0.017017,    0.018018,    0.019019,     0.02002,    0.021021,    0.022022,    0.023023,\n",
       "          0.024024,    0.025025,    0.026026,    0.027027,    0.028028,    0.029029,     0.03003,    0.031031,    0.032032,    0.033033,    0.034034,    0.035035,    0.036036,    0.037037,    0.038038,    0.039039,     0.04004,    0.041041,    0.042042,    0.043043,    0.044044,    0.045045,    0.046046,    0.047047,\n",
       "          0.048048,    0.049049,     0.05005,    0.051051,    0.052052,    0.053053,    0.054054,    0.055055,    0.056056,    0.057057,    0.058058,    0.059059,     0.06006,    0.061061,    0.062062,    0.063063,    0.064064,    0.065065,    0.066066,    0.067067,    0.068068,    0.069069,     0.07007,    0.071071,\n",
       "          0.072072,    0.073073,    0.074074,    0.075075,    0.076076,    0.077077,    0.078078,    0.079079,     0.08008,    0.081081,    0.082082,    0.083083,    0.084084,    0.085085,    0.086086,    0.087087,    0.088088,    0.089089,     0.09009,    0.091091,    0.092092,    0.093093,    0.094094,    0.095095,\n",
       "          0.096096,    0.097097,    0.098098,    0.099099,      0.1001,      0.1011,      0.1021,      0.1031,      0.1041,     0.10511,     0.10611,     0.10711,     0.10811,     0.10911,     0.11011,     0.11111,     0.11211,     0.11311,     0.11411,     0.11512,     0.11612,     0.11712,     0.11812,     0.11912,\n",
       "           0.12012,     0.12112,     0.12212,     0.12312,     0.12412,     0.12513,     0.12613,     0.12713,     0.12813,     0.12913,     0.13013,     0.13113,     0.13213,     0.13313,     0.13413,     0.13514,     0.13614,     0.13714,     0.13814,     0.13914,     0.14014,     0.14114,     0.14214,     0.14314,\n",
       "           0.14414,     0.14515,     0.14615,     0.14715,     0.14815,     0.14915,     0.15015,     0.15115,     0.15215,     0.15315,     0.15415,     0.15516,     0.15616,     0.15716,     0.15816,     0.15916,     0.16016,     0.16116,     0.16216,     0.16316,     0.16416,     0.16517,     0.16617,     0.16717,\n",
       "           0.16817,     0.16917,     0.17017,     0.17117,     0.17217,     0.17317,     0.17417,     0.17518,     0.17618,     0.17718,     0.17818,     0.17918,     0.18018,     0.18118,     0.18218,     0.18318,     0.18418,     0.18519,     0.18619,     0.18719,     0.18819,     0.18919,     0.19019,     0.19119,\n",
       "           0.19219,     0.19319,     0.19419,      0.1952,      0.1962,      0.1972,      0.1982,      0.1992,      0.2002,      0.2012,      0.2022,      0.2032,      0.2042,     0.20521,     0.20621,     0.20721,     0.20821,     0.20921,     0.21021,     0.21121,     0.21221,     0.21321,     0.21421,     0.21522,\n",
       "           0.21622,     0.21722,     0.21822,     0.21922,     0.22022,     0.22122,     0.22222,     0.22322,     0.22422,     0.22523,     0.22623,     0.22723,     0.22823,     0.22923,     0.23023,     0.23123,     0.23223,     0.23323,     0.23423,     0.23524,     0.23624,     0.23724,     0.23824,     0.23924,\n",
       "           0.24024,     0.24124,     0.24224,     0.24324,     0.24424,     0.24525,     0.24625,     0.24725,     0.24825,     0.24925,     0.25025,     0.25125,     0.25225,     0.25325,     0.25425,     0.25526,     0.25626,     0.25726,     0.25826,     0.25926,     0.26026,     0.26126,     0.26226,     0.26326,\n",
       "           0.26426,     0.26527,     0.26627,     0.26727,     0.26827,     0.26927,     0.27027,     0.27127,     0.27227,     0.27327,     0.27427,     0.27528,     0.27628,     0.27728,     0.27828,     0.27928,     0.28028,     0.28128,     0.28228,     0.28328,     0.28428,     0.28529,     0.28629,     0.28729,\n",
       "           0.28829,     0.28929,     0.29029,     0.29129,     0.29229,     0.29329,     0.29429,      0.2953,      0.2963,      0.2973,      0.2983,      0.2993,      0.3003,      0.3013,      0.3023,      0.3033,      0.3043,     0.30531,     0.30631,     0.30731,     0.30831,     0.30931,     0.31031,     0.31131,\n",
       "           0.31231,     0.31331,     0.31431,     0.31532,     0.31632,     0.31732,     0.31832,     0.31932,     0.32032,     0.32132,     0.32232,     0.32332,     0.32432,     0.32533,     0.32633,     0.32733,     0.32833,     0.32933,     0.33033,     0.33133,     0.33233,     0.33333,     0.33433,     0.33534,\n",
       "           0.33634,     0.33734,     0.33834,     0.33934,     0.34034,     0.34134,     0.34234,     0.34334,     0.34434,     0.34535,     0.34635,     0.34735,     0.34835,     0.34935,     0.35035,     0.35135,     0.35235,     0.35335,     0.35435,     0.35536,     0.35636,     0.35736,     0.35836,     0.35936,\n",
       "           0.36036,     0.36136,     0.36236,     0.36336,     0.36436,     0.36537,     0.36637,     0.36737,     0.36837,     0.36937,     0.37037,     0.37137,     0.37237,     0.37337,     0.37437,     0.37538,     0.37638,     0.37738,     0.37838,     0.37938,     0.38038,     0.38138,     0.38238,     0.38338,\n",
       "           0.38438,     0.38539,     0.38639,     0.38739,     0.38839,     0.38939,     0.39039,     0.39139,     0.39239,     0.39339,     0.39439,      0.3954,      0.3964,      0.3974,      0.3984,      0.3994,      0.4004,      0.4014,      0.4024,      0.4034,      0.4044,     0.40541,     0.40641,     0.40741,\n",
       "           0.40841,     0.40941,     0.41041,     0.41141,     0.41241,     0.41341,     0.41441,     0.41542,     0.41642,     0.41742,     0.41842,     0.41942,     0.42042,     0.42142,     0.42242,     0.42342,     0.42442,     0.42543,     0.42643,     0.42743,     0.42843,     0.42943,     0.43043,     0.43143,\n",
       "           0.43243,     0.43343,     0.43443,     0.43544,     0.43644,     0.43744,     0.43844,     0.43944,     0.44044,     0.44144,     0.44244,     0.44344,     0.44444,     0.44545,     0.44645,     0.44745,     0.44845,     0.44945,     0.45045,     0.45145,     0.45245,     0.45345,     0.45445,     0.45546,\n",
       "           0.45646,     0.45746,     0.45846,     0.45946,     0.46046,     0.46146,     0.46246,     0.46346,     0.46446,     0.46547,     0.46647,     0.46747,     0.46847,     0.46947,     0.47047,     0.47147,     0.47247,     0.47347,     0.47447,     0.47548,     0.47648,     0.47748,     0.47848,     0.47948,\n",
       "           0.48048,     0.48148,     0.48248,     0.48348,     0.48448,     0.48549,     0.48649,     0.48749,     0.48849,     0.48949,     0.49049,     0.49149,     0.49249,     0.49349,     0.49449,      0.4955,      0.4965,      0.4975,      0.4985,      0.4995,      0.5005,      0.5015,      0.5025,      0.5035,\n",
       "            0.5045,     0.50551,     0.50651,     0.50751,     0.50851,     0.50951,     0.51051,     0.51151,     0.51251,     0.51351,     0.51451,     0.51552,     0.51652,     0.51752,     0.51852,     0.51952,     0.52052,     0.52152,     0.52252,     0.52352,     0.52452,     0.52553,     0.52653,     0.52753,\n",
       "           0.52853,     0.52953,     0.53053,     0.53153,     0.53253,     0.53353,     0.53453,     0.53554,     0.53654,     0.53754,     0.53854,     0.53954,     0.54054,     0.54154,     0.54254,     0.54354,     0.54454,     0.54555,     0.54655,     0.54755,     0.54855,     0.54955,     0.55055,     0.55155,\n",
       "           0.55255,     0.55355,     0.55455,     0.55556,     0.55656,     0.55756,     0.55856,     0.55956,     0.56056,     0.56156,     0.56256,     0.56356,     0.56456,     0.56557,     0.56657,     0.56757,     0.56857,     0.56957,     0.57057,     0.57157,     0.57257,     0.57357,     0.57457,     0.57558,\n",
       "           0.57658,     0.57758,     0.57858,     0.57958,     0.58058,     0.58158,     0.58258,     0.58358,     0.58458,     0.58559,     0.58659,     0.58759,     0.58859,     0.58959,     0.59059,     0.59159,     0.59259,     0.59359,     0.59459,      0.5956,      0.5966,      0.5976,      0.5986,      0.5996,\n",
       "            0.6006,      0.6016,      0.6026,      0.6036,      0.6046,     0.60561,     0.60661,     0.60761,     0.60861,     0.60961,     0.61061,     0.61161,     0.61261,     0.61361,     0.61461,     0.61562,     0.61662,     0.61762,     0.61862,     0.61962,     0.62062,     0.62162,     0.62262,     0.62362,\n",
       "           0.62462,     0.62563,     0.62663,     0.62763,     0.62863,     0.62963,     0.63063,     0.63163,     0.63263,     0.63363,     0.63463,     0.63564,     0.63664,     0.63764,     0.63864,     0.63964,     0.64064,     0.64164,     0.64264,     0.64364,     0.64464,     0.64565,     0.64665,     0.64765,\n",
       "           0.64865,     0.64965,     0.65065,     0.65165,     0.65265,     0.65365,     0.65465,     0.65566,     0.65666,     0.65766,     0.65866,     0.65966,     0.66066,     0.66166,     0.66266,     0.66366,     0.66466,     0.66567,     0.66667,     0.66767,     0.66867,     0.66967,     0.67067,     0.67167,\n",
       "           0.67267,     0.67367,     0.67467,     0.67568,     0.67668,     0.67768,     0.67868,     0.67968,     0.68068,     0.68168,     0.68268,     0.68368,     0.68468,     0.68569,     0.68669,     0.68769,     0.68869,     0.68969,     0.69069,     0.69169,     0.69269,     0.69369,     0.69469,      0.6957,\n",
       "            0.6967,      0.6977,      0.6987,      0.6997,      0.7007,      0.7017,      0.7027,      0.7037,      0.7047,     0.70571,     0.70671,     0.70771,     0.70871,     0.70971,     0.71071,     0.71171,     0.71271,     0.71371,     0.71471,     0.71572,     0.71672,     0.71772,     0.71872,     0.71972,\n",
       "           0.72072,     0.72172,     0.72272,     0.72372,     0.72472,     0.72573,     0.72673,     0.72773,     0.72873,     0.72973,     0.73073,     0.73173,     0.73273,     0.73373,     0.73473,     0.73574,     0.73674,     0.73774,     0.73874,     0.73974,     0.74074,     0.74174,     0.74274,     0.74374,\n",
       "           0.74474,     0.74575,     0.74675,     0.74775,     0.74875,     0.74975,     0.75075,     0.75175,     0.75275,     0.75375,     0.75475,     0.75576,     0.75676,     0.75776,     0.75876,     0.75976,     0.76076,     0.76176,     0.76276,     0.76376,     0.76476,     0.76577,     0.76677,     0.76777,\n",
       "           0.76877,     0.76977,     0.77077,     0.77177,     0.77277,     0.77377,     0.77477,     0.77578,     0.77678,     0.77778,     0.77878,     0.77978,     0.78078,     0.78178,     0.78278,     0.78378,     0.78478,     0.78579,     0.78679,     0.78779,     0.78879,     0.78979,     0.79079,     0.79179,\n",
       "           0.79279,     0.79379,     0.79479,      0.7958,      0.7968,      0.7978,      0.7988,      0.7998,      0.8008,      0.8018,      0.8028,      0.8038,      0.8048,     0.80581,     0.80681,     0.80781,     0.80881,     0.80981,     0.81081,     0.81181,     0.81281,     0.81381,     0.81481,     0.81582,\n",
       "           0.81682,     0.81782,     0.81882,     0.81982,     0.82082,     0.82182,     0.82282,     0.82382,     0.82482,     0.82583,     0.82683,     0.82783,     0.82883,     0.82983,     0.83083,     0.83183,     0.83283,     0.83383,     0.83483,     0.83584,     0.83684,     0.83784,     0.83884,     0.83984,\n",
       "           0.84084,     0.84184,     0.84284,     0.84384,     0.84484,     0.84585,     0.84685,     0.84785,     0.84885,     0.84985,     0.85085,     0.85185,     0.85285,     0.85385,     0.85485,     0.85586,     0.85686,     0.85786,     0.85886,     0.85986,     0.86086,     0.86186,     0.86286,     0.86386,\n",
       "           0.86486,     0.86587,     0.86687,     0.86787,     0.86887,     0.86987,     0.87087,     0.87187,     0.87287,     0.87387,     0.87487,     0.87588,     0.87688,     0.87788,     0.87888,     0.87988,     0.88088,     0.88188,     0.88288,     0.88388,     0.88488,     0.88589,     0.88689,     0.88789,\n",
       "           0.88889,     0.88989,     0.89089,     0.89189,     0.89289,     0.89389,     0.89489,      0.8959,      0.8969,      0.8979,      0.8989,      0.8999,      0.9009,      0.9019,      0.9029,      0.9039,      0.9049,     0.90591,     0.90691,     0.90791,     0.90891,     0.90991,     0.91091,     0.91191,\n",
       "           0.91291,     0.91391,     0.91491,     0.91592,     0.91692,     0.91792,     0.91892,     0.91992,     0.92092,     0.92192,     0.92292,     0.92392,     0.92492,     0.92593,     0.92693,     0.92793,     0.92893,     0.92993,     0.93093,     0.93193,     0.93293,     0.93393,     0.93493,     0.93594,\n",
       "           0.93694,     0.93794,     0.93894,     0.93994,     0.94094,     0.94194,     0.94294,     0.94394,     0.94494,     0.94595,     0.94695,     0.94795,     0.94895,     0.94995,     0.95095,     0.95195,     0.95295,     0.95395,     0.95495,     0.95596,     0.95696,     0.95796,     0.95896,     0.95996,\n",
       "           0.96096,     0.96196,     0.96296,     0.96396,     0.96496,     0.96597,     0.96697,     0.96797,     0.96897,     0.96997,     0.97097,     0.97197,     0.97297,     0.97397,     0.97497,     0.97598,     0.97698,     0.97798,     0.97898,     0.97998,     0.98098,     0.98198,     0.98298,     0.98398,\n",
       "           0.98498,     0.98599,     0.98699,     0.98799,     0.98899,     0.98999,     0.99099,     0.99199,     0.99299,     0.99399,     0.99499,       0.996,       0.997,       0.998,       0.999,           1]), array([[          1,           1,           1,           1,           1,           1,           1,           1,           1,           1,           1,           1,           1,           1,           1,           1,           1,           1,           1,           1,           1,           1,           1,\n",
       "                  1,           1,           1,           1,           1,           1,           1,           1,           1,           1,           1,           1,     0.99983,     0.99966,     0.99948,     0.99931,     0.99913,     0.99896,     0.99878,     0.99861,     0.99843,     0.99825,     0.99808,\n",
       "             0.9979,     0.99773,     0.99755,     0.99738,      0.9972,     0.99703,     0.99685,     0.99667,      0.9965,     0.99632,     0.99615,     0.99597,      0.9958,     0.99562,     0.99544,     0.99527,     0.99509,     0.99492,     0.99474,     0.99457,     0.99439,     0.99422,     0.99404,\n",
       "            0.99386,     0.99369,     0.99351,     0.99334,     0.99316,     0.99299,     0.99281,     0.99264,     0.99246,     0.99228,     0.99211,     0.99193,     0.99176,     0.99158,     0.99141,     0.99123,     0.99105,     0.99088,      0.9907,     0.99053,     0.99035,     0.99018,        0.99,\n",
       "            0.98983,     0.98965,     0.98947,      0.9893,     0.98912,     0.98895,     0.98877,      0.9886,     0.98842,     0.98825,     0.98807,     0.98789,     0.98772,     0.98754,     0.98737,     0.98719,     0.98702,     0.98684,     0.98666,     0.98649,     0.98631,     0.98614,     0.98596,\n",
       "            0.98579,     0.98561,     0.98544,     0.98526,     0.98508,     0.98491,     0.98473,     0.98456,     0.98438,     0.98421,     0.98403,     0.98385,     0.98368,      0.9835,     0.98333,     0.98315,     0.98298,      0.9828,     0.98263,     0.98245,     0.98227,      0.9821,     0.98192,\n",
       "            0.98175,     0.98157,      0.9814,     0.98122,     0.98105,     0.98087,     0.98069,     0.98052,     0.98034,     0.98017,     0.97999,     0.97982,     0.97964,     0.97946,     0.97929,     0.97911,     0.97894,     0.97876,     0.97859,     0.97841,     0.97822,     0.97795,     0.97768,\n",
       "             0.9774,     0.97713,     0.97686,     0.97659,     0.97632,     0.97604,     0.97577,      0.9755,     0.97523,     0.97495,     0.97468,     0.97441,     0.97414,     0.97386,     0.97359,     0.97332,     0.97305,     0.97278,      0.9725,     0.97223,     0.97196,     0.97169,     0.97141,\n",
       "            0.97114,     0.97087,      0.9706,     0.97032,     0.97005,     0.96978,     0.96951,     0.96923,     0.96896,     0.96869,     0.96842,     0.96815,     0.96787,      0.9676,     0.96733,     0.96706,     0.96678,     0.96651,     0.96624,     0.96597,     0.96569,     0.96542,     0.96515,\n",
       "            0.96488,     0.96461,     0.96433,     0.96406,     0.96379,     0.96352,     0.96324,     0.96297,      0.9627,     0.96243,     0.96215,     0.96188,     0.96161,     0.96134,     0.96106,     0.96079,     0.96052,     0.96025,     0.95998,      0.9597,     0.95943,     0.95916,     0.95889,\n",
       "            0.95861,     0.95834,     0.95807,      0.9578,     0.95752,     0.95725,     0.95698,     0.95671,     0.95645,     0.95624,     0.95603,     0.95582,     0.95561,      0.9554,     0.95519,     0.95498,     0.95477,     0.95456,     0.95435,     0.95414,     0.95393,     0.95372,     0.95351,\n",
       "             0.9533,     0.95309,     0.95288,     0.95267,     0.95246,     0.95225,     0.95204,     0.95183,     0.95162,     0.95141,      0.9512,     0.95099,     0.95078,     0.95057,     0.95036,     0.95015,     0.94994,     0.94973,     0.94952,     0.94931,      0.9491,     0.94889,     0.94868,\n",
       "            0.94847,     0.94826,     0.94805,     0.94784,     0.94763,     0.94742,     0.94721,       0.947,     0.94679,     0.94658,     0.94637,     0.94616,     0.94595,     0.94574,     0.94553,     0.94532,     0.94511,      0.9449,     0.94469,     0.94448,     0.94427,     0.94406,     0.94385,\n",
       "            0.94364,     0.94343,     0.94322,     0.94301,      0.9428,     0.94259,     0.94238,     0.94217,     0.94196,     0.94175,     0.94154,     0.94133,     0.94112,     0.94091,      0.9407,     0.94049,     0.94028,     0.94007,     0.93986,     0.93965,     0.93944,     0.93923,     0.93902,\n",
       "            0.93881,      0.9386,     0.93839,     0.93818,     0.93797,     0.93776,     0.93755,     0.93734,     0.93713,     0.93692,     0.93671,      0.9365,     0.93629,     0.93608,     0.93587,     0.93566,     0.93545,     0.93524,     0.93503,     0.93482,     0.93478,     0.93478,     0.93478,\n",
       "            0.93478,     0.93478,     0.93478,     0.93478,     0.93478,     0.93478,     0.93478,     0.93478,     0.93478,     0.93478,     0.93478,     0.93478,     0.93478,     0.93478,     0.93478,     0.93478,     0.93478,     0.93478,     0.93478,     0.93478,     0.93478,     0.93478,     0.93478,\n",
       "            0.93478,     0.93478,     0.93478,     0.93478,     0.93478,     0.93478,     0.93478,     0.93478,     0.93478,     0.93478,     0.93478,     0.93478,     0.93478,     0.93478,     0.93478,     0.93478,     0.93478,     0.93478,     0.93478,     0.93478,     0.93478,     0.93478,     0.93478,\n",
       "            0.93478,     0.93478,     0.93478,     0.93478,     0.93478,     0.93478,     0.93478,     0.93478,     0.93478,     0.93478,     0.93478,     0.93478,     0.93478,     0.93478,     0.93478,     0.93478,     0.93478,     0.93478,     0.93478,     0.93478,     0.93478,     0.93478,     0.93478,\n",
       "            0.93478,     0.93478,     0.93478,     0.93478,     0.93478,     0.93478,     0.93478,     0.93478,     0.93478,     0.93478,     0.93478,     0.93478,     0.93478,     0.93478,     0.93478,     0.93478,     0.93478,     0.93478,     0.93478,     0.93478,     0.93478,     0.93478,     0.93478,\n",
       "            0.93478,     0.93478,     0.93478,     0.93478,     0.93478,     0.93478,     0.93478,     0.93478,     0.93478,     0.93478,     0.93478,     0.93478,     0.93478,     0.93478,     0.93478,     0.93478,     0.93478,     0.93478,     0.93478,     0.93478,     0.93478,     0.93478,     0.93478,\n",
       "            0.93478,     0.93478,     0.93478,     0.93478,     0.93478,     0.93478,     0.93478,     0.93478,     0.93478,     0.93478,     0.93478,     0.93478,     0.93478,     0.93478,     0.93478,     0.93478,     0.93478,     0.93478,     0.93478,     0.93478,     0.93478,     0.93478,     0.93478,\n",
       "            0.93478,     0.93478,     0.93478,     0.93478,     0.93478,     0.93478,     0.93478,     0.93478,     0.93478,     0.93478,     0.93478,     0.93478,     0.93478,     0.93478,     0.93478,     0.93478,     0.93478,     0.93478,     0.93478,     0.93478,     0.93478,     0.93478,     0.93478,\n",
       "            0.93478,     0.93478,     0.93478,     0.93478,     0.93478,     0.93478,     0.93478,     0.93478,     0.93478,     0.93478,     0.93478,     0.93478,     0.93478,     0.93478,     0.93478,     0.93478,     0.93478,     0.93478,     0.93478,     0.93478,     0.93478,     0.93478,     0.93478,\n",
       "            0.93478,     0.93478,     0.93478,     0.93478,     0.93478,     0.93478,     0.93478,     0.93478,     0.93478,     0.93478,     0.93478,     0.93478,     0.93478,     0.93478,     0.93478,     0.93478,     0.93478,     0.93478,     0.93478,     0.93478,     0.93478,     0.93478,     0.93478,\n",
       "            0.93478,     0.93478,     0.93478,     0.93478,     0.93478,     0.93478,     0.93478,     0.93478,     0.93478,     0.93478,     0.93478,     0.93478,     0.93478,     0.93478,     0.93478,     0.93478,     0.93478,     0.93478,     0.93478,     0.93478,     0.93478,     0.93478,     0.93478,\n",
       "            0.93478,     0.93478,     0.93478,     0.93478,     0.93478,     0.93478,     0.93478,     0.93478,     0.93478,     0.93478,     0.93478,     0.93478,     0.93478,     0.93478,     0.93478,     0.93478,     0.93478,     0.93478,     0.93478,     0.93478,     0.93478,     0.93478,     0.93478,\n",
       "            0.93478,     0.93478,     0.93478,     0.93478,     0.93478,     0.93478,     0.93478,     0.93478,     0.93478,     0.93478,     0.93478,     0.93478,     0.93478,     0.93478,     0.93478,     0.93478,     0.93478,     0.93478,     0.93478,     0.93478,     0.93478,     0.93478,     0.93478,\n",
       "            0.93478,     0.93478,     0.93478,     0.93478,     0.93478,     0.93478,     0.93478,     0.93478,     0.93478,     0.93478,     0.93478,     0.93478,     0.93478,     0.93478,     0.93478,     0.93478,     0.93478,     0.93478,     0.93478,     0.93478,     0.93478,     0.93478,     0.93478,\n",
       "            0.93478,     0.93478,     0.93478,     0.93478,     0.93478,     0.93478,     0.93478,     0.93478,     0.93478,     0.93478,     0.93478,     0.93478,     0.93478,     0.93478,     0.93478,     0.93478,     0.93478,     0.93478,     0.93478,     0.93478,     0.93478,     0.93478,     0.93478,\n",
       "            0.93478,     0.93478,     0.93478,     0.93478,     0.93478,     0.93456,     0.93432,     0.93407,     0.93382,     0.93357,     0.93332,     0.93307,     0.93282,     0.93258,     0.93233,     0.93208,     0.93183,     0.93158,     0.93133,     0.93108,     0.93084,     0.93059,     0.93034,\n",
       "            0.93009,     0.92984,     0.92959,     0.92934,      0.9291,     0.92885,      0.9286,     0.92835,      0.9281,     0.92785,      0.9276,     0.92736,     0.92711,     0.92686,     0.92661,     0.92636,     0.92611,     0.92586,     0.92562,     0.92537,     0.92512,     0.92487,     0.92462,\n",
       "            0.92437,     0.92412,     0.92388,     0.92363,     0.92338,     0.92313,     0.92288,     0.92263,     0.92238,     0.92213,     0.92189,     0.92164,     0.92139,     0.92114,     0.92089,     0.92064,     0.92039,     0.92015,      0.9199,     0.91965,      0.9194,     0.91915,      0.9189,\n",
       "            0.91865,     0.91841,     0.91816,     0.91791,     0.91766,     0.91741,     0.91716,     0.91691,     0.91667,     0.91642,     0.91617,     0.91592,     0.91567,     0.91542,     0.91517,     0.91493,     0.91468,     0.91443,     0.91418,     0.91393,     0.91368,     0.91343,     0.91319,\n",
       "            0.91265,     0.91173,     0.91081,      0.9099,     0.90898,     0.90806,     0.90714,     0.90622,      0.9053,     0.90439,     0.90347,     0.90255,     0.90163,     0.90071,     0.89979,     0.89887,     0.89796,     0.89704,     0.89612,      0.8952,     0.89428,     0.89336,     0.89245,\n",
       "            0.89153,     0.89032,     0.88902,     0.88771,     0.88641,     0.88511,     0.88381,      0.8825,      0.8812,      0.8799,     0.87859,     0.87729,     0.87599,     0.87469,     0.87338,     0.87208,     0.87078,     0.86476,     0.84639,     0.84449,      0.8426,      0.8407,     0.83881,\n",
       "            0.83691,     0.83502,     0.83312,     0.83123,     0.82933,     0.82744,     0.82556,     0.82372,     0.82188,     0.82004,      0.8182,     0.81636,     0.81452,     0.81268,     0.81084,       0.809,     0.80716,     0.80532,     0.78983,     0.78179,     0.78073,     0.77966,      0.7786,\n",
       "            0.77753,     0.77647,      0.7754,     0.77434,     0.77327,     0.77221,     0.77114,     0.77008,     0.76901,     0.76795,     0.76688,     0.76582,     0.76475,     0.76369,     0.76262,     0.76156,     0.75954,     0.75582,      0.7521,     0.74837,     0.74465,     0.74093,     0.73618,\n",
       "            0.73049,     0.72479,     0.71909,     0.69811,     0.68594,     0.67527,     0.63927,     0.62368,     0.61268,     0.60115,     0.58932,     0.58071,     0.57289,     0.56485,      0.5435,     0.54149,      0.5395,      0.5375,     0.53551,     0.53352,     0.53153,     0.52953,     0.52754,\n",
       "            0.52555,     0.52356,     0.52076,     0.50964,     0.49324,     0.47676,     0.47462,     0.47248,     0.47033,     0.46819,     0.46605,     0.46391,     0.46177,     0.45963,     0.45749,     0.45461,     0.45111,      0.4476,      0.4441,      0.4406,     0.43709,      0.4239,      0.3884,\n",
       "            0.38079,     0.37318,     0.31437,         0.3,      0.2937,     0.28739,     0.27837,     0.26047,     0.22152,     0.20434,     0.13935,     0.10138,    0.085887,    0.063283,    0.059684,    0.056084,    0.052485,    0.048885,    0.045286,    0.041966,    0.038929,    0.035892,    0.032854,\n",
       "           0.029817,     0.02678,    0.023743,           0,           0,           0,           0,           0,           0,           0,           0,           0,           0,           0,           0,           0,           0,           0,           0,           0,           0,           0,           0,\n",
       "                  0,           0,           0,           0,           0,           0,           0,           0,           0,           0,           0,           0,           0,           0,           0,           0,           0,           0,           0,           0,           0,           0,           0,\n",
       "                  0,           0,           0,           0,           0,           0,           0,           0,           0,           0,           0,           0,           0,           0,           0,           0,           0,           0,           0,           0,           0,           0,           0,\n",
       "                  0,           0,           0,           0,           0,           0,           0,           0,           0,           0,           0]]), 'Confidence', 'Recall']]\n",
       "fitness: 0.6204986604429484\n",
       "keys: ['metrics/precision(B)', 'metrics/recall(B)', 'metrics/mAP50(B)', 'metrics/mAP50-95(B)']\n",
       "maps: array([    0.57917])\n",
       "names: {0: 'Leaf'}\n",
       "plot: True\n",
       "results_dict: {'metrics/precision(B)': 0.957975700789587, 'metrics/recall(B)': 0.9912302280576993, 'metrics/mAP50(B)': 0.9925000000000002, 'metrics/mAP50-95(B)': 0.5791651782699426, 'fitness': 0.6204986604429484}\n",
       "save_dir: WindowsPath('C:/Users/praph/runs/detect/train30')\n",
       "speed: {'preprocess': 2.95257568359375, 'inference': 250.57425498962405, 'loss': 0.0, 'postprocess': 1.5645503997802734}\n",
       "task: 'detect'"
      ]
     },
     "execution_count": 3,
     "metadata": {},
     "output_type": "execute_result"
    }
   ],
   "source": [
    "model.train(data=\"data.yaml\", epochs=100)"
   ]
  },
  {
   "cell_type": "code",
   "execution_count": 8,
   "metadata": {},
   "outputs": [],
   "source": [
    "model = YOLO(r\"C:\\Users\\praph\\Downloads\\best (2).pt\")"
   ]
  },
  {
   "cell_type": "code",
   "execution_count": 14,
   "metadata": {},
   "outputs": [
    {
     "name": "stdout",
     "output_type": "stream",
     "text": [
      "\n"
     ]
    },
    {
     "name": "stdout",
     "output_type": "stream",
     "text": [
      "image 1/1 C:\\CVPR 24\\Codes\\Leaf Detection\\data\\test\\images\\image113_rgb.png: 640x608 15 Leafs, 287.5ms\n",
      "Speed: 7.7ms preprocess, 287.5ms inference, 0.0ms postprocess per image at shape (1, 3, 640, 608)\n",
      "\n",
      "image 1/1 C:\\CVPR 24\\Codes\\Leaf Detection\\data\\test\\images\\image114_rgb.png: 640x608 11 Leafs, 206.0ms\n",
      "Speed: 6.6ms preprocess, 206.0ms inference, 0.0ms postprocess per image at shape (1, 3, 640, 608)\n",
      "\n",
      "image 1/1 C:\\CVPR 24\\Codes\\Leaf Detection\\data\\test\\images\\image115_rgb.png: 640x608 12 Leafs, 203.7ms\n",
      "Speed: 8.5ms preprocess, 203.7ms inference, 0.0ms postprocess per image at shape (1, 3, 640, 608)\n",
      "\n",
      "image 1/1 C:\\CVPR 24\\Codes\\Leaf Detection\\data\\test\\images\\image116_rgb.png: 640x608 16 Leafs, 213.0ms\n",
      "Speed: 3.4ms preprocess, 213.0ms inference, 0.0ms postprocess per image at shape (1, 3, 640, 608)\n",
      "\n",
      "image 1/1 C:\\CVPR 24\\Codes\\Leaf Detection\\data\\test\\images\\image117_rgb.png: 640x608 16 Leafs, 225.9ms\n",
      "Speed: 1.2ms preprocess, 225.9ms inference, 0.0ms postprocess per image at shape (1, 3, 640, 608)\n",
      "\n",
      "image 1/1 C:\\CVPR 24\\Codes\\Leaf Detection\\data\\test\\images\\image118_rgb.png: 640x608 16 Leafs, 209.2ms\n",
      "Speed: 0.0ms preprocess, 209.2ms inference, 0.0ms postprocess per image at shape (1, 3, 640, 608)\n",
      "\n",
      "image 1/1 C:\\CVPR 24\\Codes\\Leaf Detection\\data\\test\\images\\image119_rgb.png: 640x608 12 Leafs, 215.0ms\n",
      "Speed: 6.7ms preprocess, 215.0ms inference, 0.0ms postprocess per image at shape (1, 3, 640, 608)\n",
      "\n",
      "image 1/1 C:\\CVPR 24\\Codes\\Leaf Detection\\data\\test\\images\\image120_rgb.png: 640x608 15 Leafs, 219.4ms\n",
      "Speed: 3.2ms preprocess, 219.4ms inference, 0.0ms postprocess per image at shape (1, 3, 640, 608)\n",
      "\n",
      "image 1/1 C:\\CVPR 24\\Codes\\Leaf Detection\\data\\test\\images\\image121_rgb.png: 640x608 13 Leafs, 187.3ms\n",
      "Speed: 0.0ms preprocess, 187.3ms inference, 0.0ms postprocess per image at shape (1, 3, 640, 608)\n",
      "\n",
      "image 1/1 C:\\CVPR 24\\Codes\\Leaf Detection\\data\\test\\images\\image122_rgb.png: 640x608 12 Leafs, 183.7ms\n",
      "Speed: 4.3ms preprocess, 183.7ms inference, 0.0ms postprocess per image at shape (1, 3, 640, 608)\n",
      "\n",
      "image 1/1 C:\\CVPR 24\\Codes\\Leaf Detection\\data\\test\\images\\image123_rgb.png: 640x608 14 Leafs, 187.5ms\n",
      "Speed: 13.0ms preprocess, 187.5ms inference, 0.0ms postprocess per image at shape (1, 3, 640, 608)\n",
      "\n",
      "image 1/1 C:\\CVPR 24\\Codes\\Leaf Detection\\data\\test\\images\\image124_rgb.png: 640x608 14 Leafs, 179.5ms\n",
      "Speed: 12.6ms preprocess, 179.5ms inference, 0.0ms postprocess per image at shape (1, 3, 640, 608)\n",
      "\n",
      "image 1/1 C:\\CVPR 24\\Codes\\Leaf Detection\\data\\test\\images\\image125_rgb.png: 640x608 16 Leafs, 201.6ms\n",
      "Speed: 0.0ms preprocess, 201.6ms inference, 0.0ms postprocess per image at shape (1, 3, 640, 608)\n",
      "\n",
      "image 1/1 C:\\CVPR 24\\Codes\\Leaf Detection\\data\\test\\images\\image126_rgb.png: 640x608 16 Leafs, 179.1ms\n",
      "Speed: 5.0ms preprocess, 179.1ms inference, 0.0ms postprocess per image at shape (1, 3, 640, 608)\n",
      "\n",
      "image 1/1 C:\\CVPR 24\\Codes\\Leaf Detection\\data\\test\\images\\image127_rgb.png: 640x608 13 Leafs, 190.7ms\n",
      "Speed: 12.5ms preprocess, 190.7ms inference, 0.0ms postprocess per image at shape (1, 3, 640, 608)\n",
      "\n",
      "image 1/1 C:\\CVPR 24\\Codes\\Leaf Detection\\data\\test\\images\\image128_rgb.png: 640x608 11 Leafs, 190.0ms\n",
      "Speed: 1.5ms preprocess, 190.0ms inference, 0.0ms postprocess per image at shape (1, 3, 640, 608)\n",
      "\n",
      "image 1/1 C:\\CVPR 24\\Codes\\Leaf Detection\\data\\test\\images\\image153_rgb.png: 640x608 8 Leafs, 183.1ms\n",
      "Speed: 1.7ms preprocess, 183.1ms inference, 0.0ms postprocess per image at shape (1, 3, 640, 608)\n",
      "\n",
      "image 1/1 C:\\CVPR 24\\Codes\\Leaf Detection\\data\\test\\images\\image154_rgb.png: 640x608 13 Leafs, 196.9ms\n",
      "Speed: 0.0ms preprocess, 196.9ms inference, 0.0ms postprocess per image at shape (1, 3, 640, 608)\n",
      "\n",
      "image 1/1 C:\\CVPR 24\\Codes\\Leaf Detection\\data\\test\\images\\image155_rgb.png: 640x608 11 Leafs, 201.3ms\n",
      "Speed: 0.0ms preprocess, 201.3ms inference, 0.0ms postprocess per image at shape (1, 3, 640, 608)\n",
      "\n",
      "image 1/1 C:\\CVPR 24\\Codes\\Leaf Detection\\data\\test\\images\\image156_rgb.png: 640x608 11 Leafs, 202.6ms\n",
      "Speed: 0.0ms preprocess, 202.6ms inference, 0.0ms postprocess per image at shape (1, 3, 640, 608)\n",
      "\n",
      "image 1/1 C:\\CVPR 24\\Codes\\Leaf Detection\\data\\test\\images\\image157_rgb.png: 640x608 15 Leafs, 189.4ms\n",
      "Speed: 1.2ms preprocess, 189.4ms inference, 0.0ms postprocess per image at shape (1, 3, 640, 608)\n",
      "\n",
      "image 1/1 C:\\CVPR 24\\Codes\\Leaf Detection\\data\\test\\images\\image158_rgb.png: 640x608 10 Leafs, 204.3ms\n",
      "Speed: 0.0ms preprocess, 204.3ms inference, 0.0ms postprocess per image at shape (1, 3, 640, 608)\n",
      "\n",
      "image 1/1 C:\\CVPR 24\\Codes\\Leaf Detection\\data\\test\\images\\image159_rgb.png: 640x608 11 Leafs, 174.7ms\n",
      "Speed: 2.7ms preprocess, 174.7ms inference, 0.0ms postprocess per image at shape (1, 3, 640, 608)\n",
      "\n",
      "image 1/1 C:\\CVPR 24\\Codes\\Leaf Detection\\data\\test\\images\\image720_rgb.png: 640x640 13 Leafs, 195.7ms\n",
      "Speed: 4.6ms preprocess, 195.7ms inference, 0.0ms postprocess per image at shape (1, 3, 640, 640)\n",
      "\n",
      "image 1/1 C:\\CVPR 24\\Codes\\Leaf Detection\\data\\test\\images\\image721_rgb.png: 640x640 12 Leafs, 195.8ms\n",
      "Speed: 1.2ms preprocess, 195.8ms inference, 0.0ms postprocess per image at shape (1, 3, 640, 640)\n",
      "\n",
      "image 1/1 C:\\CVPR 24\\Codes\\Leaf Detection\\data\\test\\images\\image722_rgb.png: 640x640 12 Leafs, 185.8ms\n",
      "Speed: 0.0ms preprocess, 185.8ms inference, 0.0ms postprocess per image at shape (1, 3, 640, 640)\n",
      "\n",
      "image 1/1 C:\\CVPR 24\\Codes\\Leaf Detection\\data\\test\\images\\image723_rgb.png: 640x640 13 Leafs, 169.5ms\n",
      "Speed: 15.6ms preprocess, 169.5ms inference, 0.0ms postprocess per image at shape (1, 3, 640, 640)\n",
      "\n",
      "image 1/1 C:\\CVPR 24\\Codes\\Leaf Detection\\data\\test\\images\\image724_rgb.png: 640x640 17 Leafs, 201.7ms\n",
      "Speed: 14.8ms preprocess, 201.7ms inference, 1.0ms postprocess per image at shape (1, 3, 640, 640)\n",
      "\n",
      "image 1/1 C:\\CVPR 24\\Codes\\Leaf Detection\\data\\test\\images\\image725_rgb.png: 640x640 12 Leafs, 199.7ms\n",
      "Speed: 0.0ms preprocess, 199.7ms inference, 0.0ms postprocess per image at shape (1, 3, 640, 640)\n",
      "\n",
      "image 1/1 C:\\CVPR 24\\Codes\\Leaf Detection\\data\\test\\images\\image726_rgb.png: 640x640 12 Leafs, 198.5ms\n",
      "Speed: 11.3ms preprocess, 198.5ms inference, 0.0ms postprocess per image at shape (1, 3, 640, 640)\n",
      "\n",
      "image 1/1 C:\\CVPR 24\\Codes\\Leaf Detection\\data\\test\\images\\image727_rgb.png: 640x640 14 Leafs, 198.8ms\n",
      "Speed: 3.9ms preprocess, 198.8ms inference, 1.8ms postprocess per image at shape (1, 3, 640, 640)\n",
      "\n",
      "image 1/1 C:\\CVPR 24\\Codes\\Leaf Detection\\data\\test\\images\\image728_rgb.png: 640x640 14 Leafs, 201.6ms\n",
      "Speed: 6.1ms preprocess, 201.6ms inference, 0.0ms postprocess per image at shape (1, 3, 640, 640)\n",
      "\n",
      "image 1/1 C:\\CVPR 24\\Codes\\Leaf Detection\\data\\test\\images\\image729_rgb.png: 640x640 13 Leafs, 204.8ms\n",
      "Speed: 0.0ms preprocess, 204.8ms inference, 1.0ms postprocess per image at shape (1, 3, 640, 640)\n",
      "\n",
      "image 1/1 C:\\CVPR 24\\Codes\\Leaf Detection\\data\\test\\images\\image730_rgb.png: 640x640 12 Leafs, 177.1ms\n",
      "Speed: 2.1ms preprocess, 177.1ms inference, 0.0ms postprocess per image at shape (1, 3, 640, 640)\n",
      "\n",
      "image 1/1 C:\\CVPR 24\\Codes\\Leaf Detection\\data\\test\\images\\image731_rgb.png: 640x640 16 Leafs, 188.4ms\n",
      "Speed: 10.0ms preprocess, 188.4ms inference, 1.2ms postprocess per image at shape (1, 3, 640, 640)\n",
      "\n",
      "image 1/1 C:\\CVPR 24\\Codes\\Leaf Detection\\data\\test\\images\\image732_rgb.png: 640x640 17 Leafs, 200.2ms\n",
      "Speed: 0.0ms preprocess, 200.2ms inference, 0.0ms postprocess per image at shape (1, 3, 640, 640)\n",
      "\n",
      "image 1/1 C:\\CVPR 24\\Codes\\Leaf Detection\\data\\test\\images\\image733_rgb.png: 640x640 12 Leafs, 199.1ms\n",
      "Speed: 0.0ms preprocess, 199.1ms inference, 15.7ms postprocess per image at shape (1, 3, 640, 640)\n",
      "\n",
      "image 1/1 C:\\CVPR 24\\Codes\\Leaf Detection\\data\\test\\images\\image734_rgb.png: 640x640 15 Leafs, 185.1ms\n",
      "Speed: 3.3ms preprocess, 185.1ms inference, 0.0ms postprocess per image at shape (1, 3, 640, 640)\n",
      "\n",
      "image 1/1 C:\\CVPR 24\\Codes\\Leaf Detection\\data\\test\\images\\image735_rgb.png: 640x640 13 Leafs, 199.3ms\n",
      "Speed: 0.0ms preprocess, 199.3ms inference, 0.0ms postprocess per image at shape (1, 3, 640, 640)\n",
      "\n",
      "image 1/1 C:\\CVPR 24\\Codes\\Leaf Detection\\data\\test\\images\\image736_rgb.png: 640x640 13 Leafs, 216.7ms\n",
      "Speed: 0.0ms preprocess, 216.7ms inference, 5.0ms postprocess per image at shape (1, 3, 640, 640)\n",
      "\n",
      "image 1/1 C:\\CVPR 24\\Codes\\Leaf Detection\\data\\test\\images\\image737_rgb.png: 640x640 12 Leafs, 202.4ms\n",
      "Speed: 0.0ms preprocess, 202.4ms inference, 0.0ms postprocess per image at shape (1, 3, 640, 640)\n",
      "\n",
      "image 1/1 C:\\CVPR 24\\Codes\\Leaf Detection\\data\\test\\images\\image738_rgb.png: 640x640 18 Leafs, 207.9ms\n",
      "Speed: 0.0ms preprocess, 207.9ms inference, 0.0ms postprocess per image at shape (1, 3, 640, 640)\n",
      "\n",
      "image 1/1 C:\\CVPR 24\\Codes\\Leaf Detection\\data\\test\\images\\image739_rgb.png: 640x640 14 Leafs, 186.0ms\n",
      "Speed: 2.8ms preprocess, 186.0ms inference, 0.0ms postprocess per image at shape (1, 3, 640, 640)\n",
      "\n",
      "image 1/1 C:\\CVPR 24\\Codes\\Leaf Detection\\data\\test\\images\\image740_rgb.png: 640x640 13 Leafs, 202.7ms\n",
      "Speed: 10.0ms preprocess, 202.7ms inference, 0.8ms postprocess per image at shape (1, 3, 640, 640)\n",
      "\n",
      "image 1/1 C:\\CVPR 24\\Codes\\Leaf Detection\\data\\test\\images\\image741_rgb.png: 640x640 13 Leafs, 199.8ms\n",
      "Speed: 1.2ms preprocess, 199.8ms inference, 0.0ms postprocess per image at shape (1, 3, 640, 640)\n",
      "\n",
      "image 1/1 C:\\CVPR 24\\Codes\\Leaf Detection\\data\\test\\images\\image742_rgb.png: 640x640 16 Leafs, 195.9ms\n",
      "Speed: 1.2ms preprocess, 195.9ms inference, 0.0ms postprocess per image at shape (1, 3, 640, 640)\n",
      "\n",
      "image 1/1 C:\\CVPR 24\\Codes\\Leaf Detection\\data\\test\\images\\image743_rgb.png: 640x640 16 Leafs, 208.2ms\n",
      "Speed: 0.0ms preprocess, 208.2ms inference, 0.0ms postprocess per image at shape (1, 3, 640, 640)\n",
      "\n",
      "image 1/1 C:\\CVPR 24\\Codes\\Leaf Detection\\data\\test\\images\\image744_rgb.png: 640x640 12 Leafs, 202.0ms\n",
      "Speed: 4.2ms preprocess, 202.0ms inference, 0.0ms postprocess per image at shape (1, 3, 640, 640)\n",
      "\n",
      "image 1/1 C:\\CVPR 24\\Codes\\Leaf Detection\\data\\test\\images\\image745_rgb.png: 640x640 12 Leafs, 192.9ms\n",
      "Speed: 3.1ms preprocess, 192.9ms inference, 0.0ms postprocess per image at shape (1, 3, 640, 640)\n",
      "\n",
      "image 1/1 C:\\CVPR 24\\Codes\\Leaf Detection\\data\\test\\images\\image746_rgb.png: 640x640 17 Leafs, 198.6ms\n",
      "Speed: 3.1ms preprocess, 198.6ms inference, 0.0ms postprocess per image at shape (1, 3, 640, 640)\n",
      "\n",
      "image 1/1 C:\\CVPR 24\\Codes\\Leaf Detection\\data\\test\\images\\image747_rgb.png: 640x640 13 Leafs, 200.7ms\n",
      "Speed: 0.0ms preprocess, 200.7ms inference, 0.0ms postprocess per image at shape (1, 3, 640, 640)\n",
      "\n",
      "image 1/1 C:\\CVPR 24\\Codes\\Leaf Detection\\data\\test\\images\\image748_rgb.png: 640x640 13 Leafs, 201.2ms\n",
      "Speed: 0.0ms preprocess, 201.2ms inference, 0.0ms postprocess per image at shape (1, 3, 640, 640)\n",
      "\n",
      "image 1/1 C:\\CVPR 24\\Codes\\Leaf Detection\\data\\test\\images\\image749_rgb.png: 640x640 18 Leafs, 219.3ms\n",
      "Speed: 0.0ms preprocess, 219.3ms inference, 0.0ms postprocess per image at shape (1, 3, 640, 640)\n",
      "\n",
      "image 1/1 C:\\CVPR 24\\Codes\\Leaf Detection\\data\\test\\images\\image750_rgb.png: 640x640 14 Leafs, 197.6ms\n",
      "Speed: 0.0ms preprocess, 197.6ms inference, 0.0ms postprocess per image at shape (1, 3, 640, 640)\n",
      "\n",
      "image 1/1 C:\\CVPR 24\\Codes\\Leaf Detection\\data\\test\\images\\image751_rgb.png: 640x640 15 Leafs, 199.1ms\n",
      "Speed: 0.0ms preprocess, 199.1ms inference, 0.0ms postprocess per image at shape (1, 3, 640, 640)\n",
      "\n",
      "image 1/1 C:\\CVPR 24\\Codes\\Leaf Detection\\data\\test\\images\\image752_rgb.png: 640x640 15 Leafs, 238.1ms\n",
      "Speed: 13.8ms preprocess, 238.1ms inference, 0.0ms postprocess per image at shape (1, 3, 640, 640)\n",
      "\n",
      "image 1/1 C:\\CVPR 24\\Codes\\Leaf Detection\\data\\test\\images\\image753_rgb.png: 640x640 14 Leafs, 200.6ms\n",
      "Speed: 0.0ms preprocess, 200.6ms inference, 0.0ms postprocess per image at shape (1, 3, 640, 640)\n",
      "\n",
      "image 1/1 C:\\CVPR 24\\Codes\\Leaf Detection\\data\\test\\images\\image754_rgb.png: 640x640 16 Leafs, 211.9ms\n",
      "Speed: 0.0ms preprocess, 211.9ms inference, 0.0ms postprocess per image at shape (1, 3, 640, 640)\n",
      "\n",
      "image 1/1 C:\\CVPR 24\\Codes\\Leaf Detection\\data\\test\\images\\image755_rgb.png: 640x640 15 Leafs, 217.0ms\n",
      "Speed: 1.2ms preprocess, 217.0ms inference, 0.0ms postprocess per image at shape (1, 3, 640, 640)\n",
      "\n",
      "image 1/1 C:\\CVPR 24\\Codes\\Leaf Detection\\data\\test\\images\\image756_rgb.png: 640x640 15 Leafs, 222.3ms\n",
      "Speed: 5.4ms preprocess, 222.3ms inference, 0.0ms postprocess per image at shape (1, 3, 640, 640)\n",
      "\n",
      "image 1/1 C:\\CVPR 24\\Codes\\Leaf Detection\\data\\test\\images\\image757_rgb.png: 640x640 13 Leafs, 201.3ms\n",
      "Speed: 13.2ms preprocess, 201.3ms inference, 0.0ms postprocess per image at shape (1, 3, 640, 640)\n",
      "\n",
      "image 1/1 C:\\CVPR 24\\Codes\\Leaf Detection\\data\\test\\images\\image758_rgb.png: 640x640 15 Leafs, 185.0ms\n",
      "Speed: 4.0ms preprocess, 185.0ms inference, 0.0ms postprocess per image at shape (1, 3, 640, 640)\n",
      "\n",
      "image 1/1 C:\\CVPR 24\\Codes\\Leaf Detection\\data\\test\\images\\image759_rgb.png: 640x640 14 Leafs, 200.3ms\n",
      "Speed: 0.0ms preprocess, 200.3ms inference, 0.0ms postprocess per image at shape (1, 3, 640, 640)\n",
      "\n",
      "image 1/1 C:\\CVPR 24\\Codes\\Leaf Detection\\data\\test\\images\\image760_rgb.png: 640x640 17 Leafs, 195.5ms\n",
      "Speed: 5.6ms preprocess, 195.5ms inference, 0.0ms postprocess per image at shape (1, 3, 640, 640)\n",
      "\n",
      "image 1/1 C:\\CVPR 24\\Codes\\Leaf Detection\\data\\test\\images\\image761_rgb.png: 640x640 15 Leafs, 196.4ms\n",
      "Speed: 0.0ms preprocess, 196.4ms inference, 0.0ms postprocess per image at shape (1, 3, 640, 640)\n",
      "\n",
      "image 1/1 C:\\CVPR 24\\Codes\\Leaf Detection\\data\\test\\images\\image762_rgb.png: 640x640 13 Leafs, 202.2ms\n",
      "Speed: 13.4ms preprocess, 202.2ms inference, 0.0ms postprocess per image at shape (1, 3, 640, 640)\n",
      "\n",
      "image 1/1 C:\\CVPR 24\\Codes\\Leaf Detection\\data\\test\\images\\image763_rgb.png: 640x640 14 Leafs, 201.1ms\n",
      "Speed: 0.0ms preprocess, 201.1ms inference, 0.0ms postprocess per image at shape (1, 3, 640, 640)\n",
      "\n",
      "image 1/1 C:\\CVPR 24\\Codes\\Leaf Detection\\data\\test\\images\\image764_rgb.png: 640x640 17 Leafs, 200.4ms\n",
      "Speed: 10.5ms preprocess, 200.4ms inference, 0.0ms postprocess per image at shape (1, 3, 640, 640)\n",
      "\n",
      "image 1/1 C:\\CVPR 24\\Codes\\Leaf Detection\\data\\test\\images\\image765_rgb.png: 640x640 16 Leafs, 198.3ms\n",
      "Speed: 5.2ms preprocess, 198.3ms inference, 0.0ms postprocess per image at shape (1, 3, 640, 640)\n",
      "\n",
      "image 1/1 C:\\CVPR 24\\Codes\\Leaf Detection\\data\\test\\images\\image766_rgb.png: 640x640 14 Leafs, 200.8ms\n",
      "Speed: 5.5ms preprocess, 200.8ms inference, 0.0ms postprocess per image at shape (1, 3, 640, 640)\n",
      "\n",
      "image 1/1 C:\\CVPR 24\\Codes\\Leaf Detection\\data\\test\\images\\image767_rgb.png: 640x640 16 Leafs, 215.2ms\n",
      "Speed: 0.0ms preprocess, 215.2ms inference, 2.5ms postprocess per image at shape (1, 3, 640, 640)\n",
      "\n",
      "image 1/1 C:\\CVPR 24\\Codes\\Leaf Detection\\data\\test\\images\\image768_rgb.png: 640x640 19 Leafs, 200.3ms\n",
      "Speed: 7.5ms preprocess, 200.3ms inference, 0.5ms postprocess per image at shape (1, 3, 640, 640)\n",
      "\n",
      "image 1/1 C:\\CVPR 24\\Codes\\Leaf Detection\\data\\test\\images\\image769_rgb.png: 640x640 15 Leafs, 201.0ms\n",
      "Speed: 0.0ms preprocess, 201.0ms inference, 0.0ms postprocess per image at shape (1, 3, 640, 640)\n",
      "\n",
      "image 1/1 C:\\CVPR 24\\Codes\\Leaf Detection\\data\\test\\images\\image770_rgb.png: 640x640 13 Leafs, 198.7ms\n",
      "Speed: 14.8ms preprocess, 198.7ms inference, 0.9ms postprocess per image at shape (1, 3, 640, 640)\n",
      "\n",
      "image 1/1 C:\\CVPR 24\\Codes\\Leaf Detection\\data\\test\\images\\image771_rgb.png: 640x640 18 Leafs, 196.3ms\n",
      "Speed: 5.4ms preprocess, 196.3ms inference, 0.0ms postprocess per image at shape (1, 3, 640, 640)\n",
      "\n",
      "image 1/1 C:\\CVPR 24\\Codes\\Leaf Detection\\data\\test\\images\\image772_rgb.png: 640x640 16 Leafs, 201.2ms\n",
      "Speed: 0.0ms preprocess, 201.2ms inference, 0.0ms postprocess per image at shape (1, 3, 640, 640)\n",
      "\n",
      "image 1/1 C:\\CVPR 24\\Codes\\Leaf Detection\\data\\test\\images\\image773_rgb.png: 640x640 17 Leafs, 190.3ms\n",
      "Speed: 11.5ms preprocess, 190.3ms inference, 8.0ms postprocess per image at shape (1, 3, 640, 640)\n",
      "\n",
      "image 1/1 C:\\CVPR 24\\Codes\\Leaf Detection\\data\\test\\images\\image774_rgb.png: 640x640 18 Leafs, 183.8ms\n",
      "Speed: 2.7ms preprocess, 183.8ms inference, 0.0ms postprocess per image at shape (1, 3, 640, 640)\n",
      "\n",
      "image 1/1 C:\\CVPR 24\\Codes\\Leaf Detection\\data\\test\\images\\image775_rgb.png: 640x640 17 Leafs, 189.6ms\n",
      "Speed: 9.0ms preprocess, 189.6ms inference, 0.0ms postprocess per image at shape (1, 3, 640, 640)\n",
      "\n",
      "image 1/1 C:\\CVPR 24\\Codes\\Leaf Detection\\data\\test\\images\\image776_rgb.png: 640x640 15 Leafs, 198.1ms\n",
      "Speed: 13.4ms preprocess, 198.1ms inference, 0.6ms postprocess per image at shape (1, 3, 640, 640)\n",
      "\n",
      "image 1/1 C:\\CVPR 24\\Codes\\Leaf Detection\\data\\test\\images\\image777_rgb.png: 640x640 14 Leafs, 176.0ms\n",
      "Speed: 3.3ms preprocess, 176.0ms inference, 0.0ms postprocess per image at shape (1, 3, 640, 640)\n",
      "\n",
      "image 1/1 C:\\CVPR 24\\Codes\\Leaf Detection\\data\\test\\images\\image778_rgb.png: 640x640 20 Leafs, 204.4ms\n",
      "Speed: 13.4ms preprocess, 204.4ms inference, 0.0ms postprocess per image at shape (1, 3, 640, 640)\n",
      "\n",
      "image 1/1 C:\\CVPR 24\\Codes\\Leaf Detection\\data\\test\\images\\image779_rgb.png: 640x640 17 Leafs, 202.7ms\n",
      "Speed: 5.0ms preprocess, 202.7ms inference, 0.0ms postprocess per image at shape (1, 3, 640, 640)\n",
      "\n",
      "image 1/1 C:\\CVPR 24\\Codes\\Leaf Detection\\data\\test\\images\\image780_rgb.png: 640x640 17 Leafs, 202.0ms\n",
      "Speed: 2.5ms preprocess, 202.0ms inference, 0.0ms postprocess per image at shape (1, 3, 640, 640)\n",
      "\n",
      "image 1/1 C:\\CVPR 24\\Codes\\Leaf Detection\\data\\test\\images\\image781_rgb.png: 640x640 19 Leafs, 198.9ms\n",
      "Speed: 0.0ms preprocess, 198.9ms inference, 0.0ms postprocess per image at shape (1, 3, 640, 640)\n",
      "\n",
      "image 1/1 C:\\CVPR 24\\Codes\\Leaf Detection\\data\\test\\images\\image782_rgb.png: 640x640 14 Leafs, 198.4ms\n",
      "Speed: 7.4ms preprocess, 198.4ms inference, 0.0ms postprocess per image at shape (1, 3, 640, 640)\n",
      "\n",
      "image 1/1 C:\\CVPR 24\\Codes\\Leaf Detection\\data\\test\\images\\image783_rgb.png: 640x640 16 Leafs, 202.3ms\n",
      "Speed: 1.1ms preprocess, 202.3ms inference, 0.0ms postprocess per image at shape (1, 3, 640, 640)\n",
      "\n",
      "image 1/1 C:\\CVPR 24\\Codes\\Leaf Detection\\data\\test\\images\\image784_rgb.png: 640x640 15 Leafs, 225.1ms\n",
      "Speed: 1.5ms preprocess, 225.1ms inference, 0.0ms postprocess per image at shape (1, 3, 640, 640)\n",
      "\n",
      "image 1/1 C:\\CVPR 24\\Codes\\Leaf Detection\\data\\test\\images\\image785_rgb.png: 640x640 16 Leafs, 212.4ms\n",
      "Speed: 7.6ms preprocess, 212.4ms inference, 0.0ms postprocess per image at shape (1, 3, 640, 640)\n",
      "\n",
      "image 1/1 C:\\CVPR 24\\Codes\\Leaf Detection\\data\\test\\images\\image786_rgb.png: 640x640 22 Leafs, 181.8ms\n",
      "Speed: 18.4ms preprocess, 181.8ms inference, 0.0ms postprocess per image at shape (1, 3, 640, 640)\n",
      "\n",
      "image 1/1 C:\\CVPR 24\\Codes\\Leaf Detection\\data\\test\\images\\image787_rgb.png: 640x640 24 Leafs, 201.8ms\n",
      "Speed: 4.5ms preprocess, 201.8ms inference, 0.0ms postprocess per image at shape (1, 3, 640, 640)\n",
      "\n",
      "image 1/1 C:\\CVPR 24\\Codes\\Leaf Detection\\data\\test\\images\\image788_rgb.png: 640x640 21 Leafs, 201.9ms\n",
      "Speed: 0.0ms preprocess, 201.9ms inference, 0.0ms postprocess per image at shape (1, 3, 640, 640)\n",
      "\n",
      "image 1/1 C:\\CVPR 24\\Codes\\Leaf Detection\\data\\test\\images\\image789_rgb.png: 640x640 17 Leafs, 201.7ms\n",
      "Speed: 2.9ms preprocess, 201.7ms inference, 0.0ms postprocess per image at shape (1, 3, 640, 640)\n",
      "\n",
      "image 1/1 C:\\CVPR 24\\Codes\\Leaf Detection\\data\\test\\images\\image790_rgb.png: 640x640 15 Leafs, 210.5ms\n",
      "Speed: 0.0ms preprocess, 210.5ms inference, 0.0ms postprocess per image at shape (1, 3, 640, 640)\n",
      "\n",
      "image 1/1 C:\\CVPR 24\\Codes\\Leaf Detection\\data\\test\\images\\image791_rgb.png: 640x640 18 Leafs, 202.9ms\n",
      "Speed: 3.2ms preprocess, 202.9ms inference, 0.0ms postprocess per image at shape (1, 3, 640, 640)\n",
      "\n",
      "image 1/1 C:\\CVPR 24\\Codes\\Leaf Detection\\data\\test\\images\\image792_rgb.png: 640x640 24 Leafs, 200.3ms\n",
      "Speed: 0.0ms preprocess, 200.3ms inference, 0.0ms postprocess per image at shape (1, 3, 640, 640)\n",
      "\n",
      "image 1/1 C:\\CVPR 24\\Codes\\Leaf Detection\\data\\test\\images\\image793_rgb.png: 640x640 19 Leafs, 210.9ms\n",
      "Speed: 0.0ms preprocess, 210.9ms inference, 0.0ms postprocess per image at shape (1, 3, 640, 640)\n",
      "\n",
      "image 1/1 C:\\CVPR 24\\Codes\\Leaf Detection\\data\\test\\images\\image794_rgb.png: 640x640 14 Leafs, 237.0ms\n",
      "Speed: 4.3ms preprocess, 237.0ms inference, 0.0ms postprocess per image at shape (1, 3, 640, 640)\n",
      "\n",
      "image 1/1 C:\\CVPR 24\\Codes\\Leaf Detection\\data\\test\\images\\image795_rgb.png: 640x640 19 Leafs, 212.8ms\n",
      "Speed: 17.6ms preprocess, 212.8ms inference, 0.0ms postprocess per image at shape (1, 3, 640, 640)\n",
      "\n",
      "image 1/1 C:\\CVPR 24\\Codes\\Leaf Detection\\data\\test\\images\\image796_rgb.png: 640x640 14 Leafs, 207.9ms\n",
      "Speed: 1.0ms preprocess, 207.9ms inference, 0.0ms postprocess per image at shape (1, 3, 640, 640)\n",
      "\n",
      "image 1/1 C:\\CVPR 24\\Codes\\Leaf Detection\\data\\test\\images\\image797_rgb.png: 640x640 19 Leafs, 196.7ms\n",
      "Speed: 8.8ms preprocess, 196.7ms inference, 0.0ms postprocess per image at shape (1, 3, 640, 640)\n",
      "\n",
      "image 1/1 C:\\CVPR 24\\Codes\\Leaf Detection\\data\\test\\images\\image798_rgb.png: 640x640 19 Leafs, 195.5ms\n",
      "Speed: 4.1ms preprocess, 195.5ms inference, 0.0ms postprocess per image at shape (1, 3, 640, 640)\n",
      "\n",
      "image 1/1 C:\\CVPR 24\\Codes\\Leaf Detection\\data\\test\\images\\image799_rgb.png: 640x640 21 Leafs, 192.6ms\n",
      "Speed: 15.0ms preprocess, 192.6ms inference, 0.0ms postprocess per image at shape (1, 3, 640, 640)\n",
      "\n",
      "image 1/1 C:\\CVPR 24\\Codes\\Leaf Detection\\data\\test\\images\\image800_rgb.png: 640x640 22 Leafs, 200.0ms\n",
      "Speed: 3.8ms preprocess, 200.0ms inference, 0.0ms postprocess per image at shape (1, 3, 640, 640)\n",
      "\n",
      "image 1/1 C:\\CVPR 24\\Codes\\Leaf Detection\\data\\test\\images\\image801_rgb.png: 640x640 16 Leafs, 199.1ms\n",
      "Speed: 0.0ms preprocess, 199.1ms inference, 0.0ms postprocess per image at shape (1, 3, 640, 640)\n",
      "\n",
      "image 1/1 C:\\CVPR 24\\Codes\\Leaf Detection\\data\\test\\images\\image802_rgb.png: 640x640 21 Leafs, 189.2ms\n",
      "Speed: 12.0ms preprocess, 189.2ms inference, 12.5ms postprocess per image at shape (1, 3, 640, 640)\n",
      "\n",
      "image 1/1 C:\\CVPR 24\\Codes\\Leaf Detection\\data\\test\\images\\image803_rgb.png: 640x640 17 Leafs, 196.5ms\n",
      "Speed: 5.3ms preprocess, 196.5ms inference, 0.0ms postprocess per image at shape (1, 3, 640, 640)\n",
      "\n",
      "image 1/1 C:\\CVPR 24\\Codes\\Leaf Detection\\data\\test\\images\\image804_rgb.png: 640x640 21 Leafs, 203.4ms\n",
      "Speed: 13.7ms preprocess, 203.4ms inference, 1.4ms postprocess per image at shape (1, 3, 640, 640)\n",
      "\n",
      "image 1/1 C:\\CVPR 24\\Codes\\Leaf Detection\\data\\test\\images\\image805_rgb.png: 640x640 15 Leafs, 202.3ms\n",
      "Speed: 0.0ms preprocess, 202.3ms inference, 0.0ms postprocess per image at shape (1, 3, 640, 640)\n",
      "\n",
      "image 1/1 C:\\CVPR 24\\Codes\\Leaf Detection\\data\\test\\images\\image806_rgb.png: 640x640 15 Leafs, 194.5ms\n",
      "Speed: 1.0ms preprocess, 194.5ms inference, 0.0ms postprocess per image at shape (1, 3, 640, 640)\n",
      "\n",
      "image 1/1 C:\\CVPR 24\\Codes\\Leaf Detection\\data\\test\\images\\image807_rgb.png: 640x640 16 Leafs, 200.5ms\n",
      "Speed: 12.5ms preprocess, 200.5ms inference, 0.0ms postprocess per image at shape (1, 3, 640, 640)\n",
      "\n",
      "image 1/1 C:\\CVPR 24\\Codes\\Leaf Detection\\data\\test\\images\\image808_rgb.png: 640x640 14 Leafs, 203.3ms\n",
      "Speed: 4.8ms preprocess, 203.3ms inference, 0.0ms postprocess per image at shape (1, 3, 640, 640)\n",
      "\n",
      "image 1/1 C:\\CVPR 24\\Codes\\Leaf Detection\\data\\test\\images\\image809_rgb.png: 640x640 14 Leafs, 193.1ms\n",
      "Speed: 2.1ms preprocess, 193.1ms inference, 0.0ms postprocess per image at shape (1, 3, 640, 640)\n",
      "\n",
      "image 1/1 C:\\CVPR 24\\Codes\\Leaf Detection\\data\\test\\images\\image810_rgb.png: 640x640 16 Leafs, 207.3ms\n",
      "Speed: 0.0ms preprocess, 207.3ms inference, 0.0ms postprocess per image at shape (1, 3, 640, 640)\n",
      "Mean Absolute Error (MAE): 6.973684210526316\n",
      "Mean Squared Error (MSE): 62.42982456140351\n",
      "R-squared (R²): -1.893378314765417\n"
     ]
    }
   ],
   "source": [
    "import os\n",
    "import pandas as pd\n",
    "from sklearn.metrics import mean_absolute_error, mean_squared_error  # Import MSE\n",
    "from sklearn.metrics import r2_score\n",
    "# Directory path for images\n",
    "image_dir = r\"C:\\CVPR 24\\Codes\\Leaf Detection\\data\\test\\images\"\n",
    "\n",
    "# CSV file containing ground truth leaf counts\n",
    "csv_file = r\"C:\\Users\\praph\\Downloads\\yoloTest.csv\"\n",
    "\n",
    "# Load the ground truth CSV into a dataframe\n",
    "df = pd.read_csv(csv_file, header=None, names=['name', 'leaf_count'])\n",
    "\n",
    "# Initialize lists to store true and predicted leaf counts\n",
    "true_counts = []\n",
    "predicted_counts = []\n",
    "\n",
    "# Iterate through all the images in the specified directory\n",
    "for filename in os.listdir(image_dir):\n",
    "    if filename.endswith(\".png\"):  # Modify as needed for your image format\n",
    "        image_path = os.path.join(image_dir, filename)\n",
    "\n",
    "        # Make prediction using the model\n",
    "        results = model.predict(image_path, save= False, conf=0.3)\n",
    "        \n",
    "        # Extract the predicted leaf count (assuming results contain a count attribute)\n",
    "        predicted_leaf_count = len(results[0])  # This depends on how your model outputs the count\n",
    "        predicted_counts.append(predicted_leaf_count)\n",
    "        \n",
    "        # Get the true leaf count from the dataframe\n",
    "        true_leaf_count = df.loc[df['name'] == filename, 'leaf_count'].values[0]\n",
    "        true_counts.append(true_leaf_count)\n",
    "\n",
    "# Calculate Mean Absolute Error (MAE)\n",
    "mae = mean_absolute_error(true_counts, predicted_counts)\n",
    "print(f\"Mean Absolute Error (MAE): {mae}\")\n",
    "\n",
    "# Calculate Mean Squared Error (MSE)\n",
    "mse = mean_squared_error(true_counts, predicted_counts)\n",
    "print(f\"Mean Squared Error (MSE): {mse}\")\n",
    "\n",
    "r2 = r2_score(true_counts, predicted_counts)\n",
    "print(f\"R-squared (R²): {r2}\")\n"
   ]
  },
  {
   "cell_type": "code",
   "execution_count": null,
   "metadata": {},
   "outputs": [],
   "source": []
  }
 ],
 "metadata": {
  "kernelspec": {
   "display_name": "Python 3",
   "language": "python",
   "name": "python3"
  },
  "language_info": {
   "codemirror_mode": {
    "name": "ipython",
    "version": 3
   },
   "file_extension": ".py",
   "mimetype": "text/x-python",
   "name": "python",
   "nbconvert_exporter": "python",
   "pygments_lexer": "ipython3",
   "version": "3.12.3"
  }
 },
 "nbformat": 4,
 "nbformat_minor": 2
}
